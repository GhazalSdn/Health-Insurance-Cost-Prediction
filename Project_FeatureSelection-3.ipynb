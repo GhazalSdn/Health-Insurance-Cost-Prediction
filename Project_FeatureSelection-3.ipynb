{
  "nbformat": 4,
  "nbformat_minor": 0,
  "metadata": {
    "colab": {
      "provenance": []
    },
    "kernelspec": {
      "name": "python3",
      "display_name": "Python 3"
    },
    "language_info": {
      "name": "python"
    }
  },
  "cells": [
    {
      "cell_type": "code",
      "metadata": {
        "colab": {
          "base_uri": "https://localhost:8080/"
        },
        "id": "934uen_HspB2",
        "outputId": "a93bd989-ad01-4959-f25b-c8048d235dd8"
      },
      "source": [
        "from google.colab import drive\n",
        "drive.mount('/content/gdrive')"
      ],
      "execution_count": null,
      "outputs": [
        {
          "output_type": "stream",
          "text": [
            "Mounted at /content/gdrive\n"
          ],
          "name": "stdout"
        }
      ]
    },
    {
      "cell_type": "markdown",
      "metadata": {
        "id": "Bo7Va1ldbD0E"
      },
      "source": [
        "# **Importing Required Libraries**"
      ]
    },
    {
      "cell_type": "code",
      "metadata": {
        "colab": {
          "base_uri": "https://localhost:8080/"
        },
        "id": "iByWdb4UoR_f",
        "outputId": "92aefcc2-558b-47ca-84d3-d90c9c9a58bf"
      },
      "source": [
        "pip install boruta"
      ],
      "execution_count": null,
      "outputs": [
        {
          "output_type": "stream",
          "text": [
            "Collecting boruta\n",
            "\u001b[?25l  Downloading https://files.pythonhosted.org/packages/b2/11/583f4eac99d802c79af9217e1eff56027742a69e6c866b295cce6a5a8fc2/Boruta-0.3-py3-none-any.whl (56kB)\n",
            "\r\u001b[K     |█████▉                          | 10kB 15.2MB/s eta 0:00:01\r\u001b[K     |███████████▋                    | 20kB 20.8MB/s eta 0:00:01\r\u001b[K     |█████████████████▍              | 30kB 11.1MB/s eta 0:00:01\r\u001b[K     |███████████████████████▏        | 40kB 8.8MB/s eta 0:00:01\r\u001b[K     |█████████████████████████████   | 51kB 5.6MB/s eta 0:00:01\r\u001b[K     |████████████████████████████████| 61kB 3.5MB/s \n",
            "\u001b[?25hRequirement already satisfied: scipy>=0.17.0 in /usr/local/lib/python3.7/dist-packages (from boruta) (1.4.1)\n",
            "Requirement already satisfied: numpy>=1.10.4 in /usr/local/lib/python3.7/dist-packages (from boruta) (1.19.5)\n",
            "Requirement already satisfied: scikit-learn>=0.17.1 in /usr/local/lib/python3.7/dist-packages (from boruta) (0.22.2.post1)\n",
            "Requirement already satisfied: joblib>=0.11 in /usr/local/lib/python3.7/dist-packages (from scikit-learn>=0.17.1->boruta) (1.0.1)\n",
            "Installing collected packages: boruta\n",
            "Successfully installed boruta-0.3\n"
          ],
          "name": "stdout"
        }
      ]
    },
    {
      "cell_type": "code",
      "metadata": {
        "id": "MYydmPrBsvhV"
      },
      "source": [
        "import pandas as pd\n",
        "import numpy as np\n",
        "import matplotlib.pyplot as plt\n",
        "import seaborn as sns\n",
        "from sklearn.preprocessing import LabelEncoder\n",
        "from sklearn import preprocessing\n",
        "from sklearn.model_selection import train_test_split\n",
        "from sklearn.metrics import r2_score, mean_squared_error\n",
        "from sklearn.ensemble import RandomForestRegressor\n",
        "from sklearn.linear_model import LinearRegression\n",
        "from sklearn.linear_model import Ridge\n",
        "from sklearn.model_selection import train_test_split, GridSearchCV,cross_val_score\n",
        "from sklearn.ensemble import GradientBoostingRegressor\n",
        "from xgboost import XGBRegressor\n",
        "from sklearn.neighbors import KNeighborsRegressor\n",
        "from sklearn.linear_model import LassoCV\n",
        "import keras\n",
        "from keras.models import Sequential\n",
        "from keras.layers import Dense\n",
        "from tensorflow.keras.wrappers.scikit_learn import KerasRegressor\n",
        "from numpy import mean\n",
        "from numpy import std\n",
        "from matplotlib import pyplot\n",
        "from sklearn.ensemble import StackingRegressor\n",
        "from sklearn.model_selection import cross_val_score\n",
        "from sklearn.model_selection import RepeatedKFold\n",
        "from sklearn.preprocessing import PolynomialFeatures\n",
        "from sklearn.model_selection import RepeatedStratifiedKFold\n",
        "from sklearn.feature_selection import RFE\n",
        "from sklearn.feature_selection import RFECV\n",
        "from sklearn.inspection import permutation_importance\n",
        "from boruta import BorutaPy\n",
        "\n",
        "sns.set()"
      ],
      "execution_count": null,
      "outputs": []
    },
    {
      "cell_type": "markdown",
      "metadata": {
        "id": "t9kfarvJbINy"
      },
      "source": [
        "**Gathering Data**"
      ]
    },
    {
      "cell_type": "code",
      "metadata": {
        "id": "ISYU-eidszCS"
      },
      "source": [
        "dataset = pd.read_csv('/content/gdrive/MyDrive/BSc Project/insurance.csv')"
      ],
      "execution_count": null,
      "outputs": []
    },
    {
      "cell_type": "code",
      "metadata": {
        "colab": {
          "base_uri": "https://localhost:8080/",
          "height": 204
        },
        "id": "odaBpgrfs3wz",
        "outputId": "ae1c2f92-2452-4006-f45c-d920bbc926ed"
      },
      "source": [
        "conditions = [\n",
        "    (dataset['bmi'] < 18.5) ,\n",
        "    (dataset['bmi'] <= 24.9) & (dataset['bmi'] >= 18.5),\n",
        "    (dataset['bmi'] <= 29.9) & (dataset['bmi'] > 24.9),\n",
        "    (dataset['bmi'] > 29.9),\n",
        "]\n",
        "\n",
        "\n",
        "\n",
        "\n",
        "choices = ['underweight', 'normal', 'overweight', 'obese']\n",
        "\n",
        "\n",
        "dataset[\"bmiGps\"] = np.select(condlist=conditions, choicelist=choices)\n",
        "# dataset.drop([\"bmi\"], axis=1, inplace=True)\n",
        "dataset.head()"
      ],
      "execution_count": null,
      "outputs": [
        {
          "output_type": "execute_result",
          "data": {
            "text/html": [
              "<div>\n",
              "<style scoped>\n",
              "    .dataframe tbody tr th:only-of-type {\n",
              "        vertical-align: middle;\n",
              "    }\n",
              "\n",
              "    .dataframe tbody tr th {\n",
              "        vertical-align: top;\n",
              "    }\n",
              "\n",
              "    .dataframe thead th {\n",
              "        text-align: right;\n",
              "    }\n",
              "</style>\n",
              "<table border=\"1\" class=\"dataframe\">\n",
              "  <thead>\n",
              "    <tr style=\"text-align: right;\">\n",
              "      <th></th>\n",
              "      <th>age</th>\n",
              "      <th>sex</th>\n",
              "      <th>bmi</th>\n",
              "      <th>children</th>\n",
              "      <th>smoker</th>\n",
              "      <th>region</th>\n",
              "      <th>charges</th>\n",
              "      <th>bmiGps</th>\n",
              "    </tr>\n",
              "  </thead>\n",
              "  <tbody>\n",
              "    <tr>\n",
              "      <th>0</th>\n",
              "      <td>19</td>\n",
              "      <td>female</td>\n",
              "      <td>27.900</td>\n",
              "      <td>0</td>\n",
              "      <td>yes</td>\n",
              "      <td>southwest</td>\n",
              "      <td>16884.92400</td>\n",
              "      <td>overweight</td>\n",
              "    </tr>\n",
              "    <tr>\n",
              "      <th>1</th>\n",
              "      <td>18</td>\n",
              "      <td>male</td>\n",
              "      <td>33.770</td>\n",
              "      <td>1</td>\n",
              "      <td>no</td>\n",
              "      <td>southeast</td>\n",
              "      <td>1725.55230</td>\n",
              "      <td>obese</td>\n",
              "    </tr>\n",
              "    <tr>\n",
              "      <th>2</th>\n",
              "      <td>28</td>\n",
              "      <td>male</td>\n",
              "      <td>33.000</td>\n",
              "      <td>3</td>\n",
              "      <td>no</td>\n",
              "      <td>southeast</td>\n",
              "      <td>4449.46200</td>\n",
              "      <td>obese</td>\n",
              "    </tr>\n",
              "    <tr>\n",
              "      <th>3</th>\n",
              "      <td>33</td>\n",
              "      <td>male</td>\n",
              "      <td>22.705</td>\n",
              "      <td>0</td>\n",
              "      <td>no</td>\n",
              "      <td>northwest</td>\n",
              "      <td>21984.47061</td>\n",
              "      <td>normal</td>\n",
              "    </tr>\n",
              "    <tr>\n",
              "      <th>4</th>\n",
              "      <td>32</td>\n",
              "      <td>male</td>\n",
              "      <td>28.880</td>\n",
              "      <td>0</td>\n",
              "      <td>no</td>\n",
              "      <td>northwest</td>\n",
              "      <td>3866.85520</td>\n",
              "      <td>overweight</td>\n",
              "    </tr>\n",
              "  </tbody>\n",
              "</table>\n",
              "</div>"
            ],
            "text/plain": [
              "   age     sex     bmi  children smoker     region      charges      bmiGps\n",
              "0   19  female  27.900         0    yes  southwest  16884.92400  overweight\n",
              "1   18    male  33.770         1     no  southeast   1725.55230       obese\n",
              "2   28    male  33.000         3     no  southeast   4449.46200       obese\n",
              "3   33    male  22.705         0     no  northwest  21984.47061      normal\n",
              "4   32    male  28.880         0     no  northwest   3866.85520  overweight"
            ]
          },
          "metadata": {
            "tags": []
          },
          "execution_count": 5
        }
      ]
    },
    {
      "cell_type": "code",
      "metadata": {
        "colab": {
          "base_uri": "https://localhost:8080/",
          "height": 204
        },
        "id": "2RYyMxbls4nu",
        "outputId": "3d0f36c0-e51e-4c06-d25f-521f67d6ffd2"
      },
      "source": [
        "ageconditions = [\n",
        "    (dataset['age'] <= 35) & (dataset['age'] >= 18),\n",
        "    (dataset['age'] <= 55) & (dataset['age'] > 35),\n",
        "    (dataset['age'] > 55),\n",
        "]\n",
        "\n",
        "\n",
        "\n",
        "\n",
        "agechoices = ['young-adults', 'middle-aged-adults', 'elder-adults']\n",
        "\n",
        "\n",
        "dataset[\"ageGps\"] = np.select(condlist=ageconditions, choicelist=agechoices)\n",
        "# dataset.drop([\"bmi\"], axis=1, inplace=True)\n",
        "dataset.head()"
      ],
      "execution_count": null,
      "outputs": [
        {
          "output_type": "execute_result",
          "data": {
            "text/html": [
              "<div>\n",
              "<style scoped>\n",
              "    .dataframe tbody tr th:only-of-type {\n",
              "        vertical-align: middle;\n",
              "    }\n",
              "\n",
              "    .dataframe tbody tr th {\n",
              "        vertical-align: top;\n",
              "    }\n",
              "\n",
              "    .dataframe thead th {\n",
              "        text-align: right;\n",
              "    }\n",
              "</style>\n",
              "<table border=\"1\" class=\"dataframe\">\n",
              "  <thead>\n",
              "    <tr style=\"text-align: right;\">\n",
              "      <th></th>\n",
              "      <th>age</th>\n",
              "      <th>sex</th>\n",
              "      <th>bmi</th>\n",
              "      <th>children</th>\n",
              "      <th>smoker</th>\n",
              "      <th>region</th>\n",
              "      <th>charges</th>\n",
              "      <th>bmiGps</th>\n",
              "      <th>ageGps</th>\n",
              "    </tr>\n",
              "  </thead>\n",
              "  <tbody>\n",
              "    <tr>\n",
              "      <th>0</th>\n",
              "      <td>19</td>\n",
              "      <td>female</td>\n",
              "      <td>27.900</td>\n",
              "      <td>0</td>\n",
              "      <td>yes</td>\n",
              "      <td>southwest</td>\n",
              "      <td>16884.92400</td>\n",
              "      <td>overweight</td>\n",
              "      <td>young-adults</td>\n",
              "    </tr>\n",
              "    <tr>\n",
              "      <th>1</th>\n",
              "      <td>18</td>\n",
              "      <td>male</td>\n",
              "      <td>33.770</td>\n",
              "      <td>1</td>\n",
              "      <td>no</td>\n",
              "      <td>southeast</td>\n",
              "      <td>1725.55230</td>\n",
              "      <td>obese</td>\n",
              "      <td>young-adults</td>\n",
              "    </tr>\n",
              "    <tr>\n",
              "      <th>2</th>\n",
              "      <td>28</td>\n",
              "      <td>male</td>\n",
              "      <td>33.000</td>\n",
              "      <td>3</td>\n",
              "      <td>no</td>\n",
              "      <td>southeast</td>\n",
              "      <td>4449.46200</td>\n",
              "      <td>obese</td>\n",
              "      <td>young-adults</td>\n",
              "    </tr>\n",
              "    <tr>\n",
              "      <th>3</th>\n",
              "      <td>33</td>\n",
              "      <td>male</td>\n",
              "      <td>22.705</td>\n",
              "      <td>0</td>\n",
              "      <td>no</td>\n",
              "      <td>northwest</td>\n",
              "      <td>21984.47061</td>\n",
              "      <td>normal</td>\n",
              "      <td>young-adults</td>\n",
              "    </tr>\n",
              "    <tr>\n",
              "      <th>4</th>\n",
              "      <td>32</td>\n",
              "      <td>male</td>\n",
              "      <td>28.880</td>\n",
              "      <td>0</td>\n",
              "      <td>no</td>\n",
              "      <td>northwest</td>\n",
              "      <td>3866.85520</td>\n",
              "      <td>overweight</td>\n",
              "      <td>young-adults</td>\n",
              "    </tr>\n",
              "  </tbody>\n",
              "</table>\n",
              "</div>"
            ],
            "text/plain": [
              "   age     sex     bmi  ...      charges      bmiGps        ageGps\n",
              "0   19  female  27.900  ...  16884.92400  overweight  young-adults\n",
              "1   18    male  33.770  ...   1725.55230       obese  young-adults\n",
              "2   28    male  33.000  ...   4449.46200       obese  young-adults\n",
              "3   33    male  22.705  ...  21984.47061      normal  young-adults\n",
              "4   32    male  28.880  ...   3866.85520  overweight  young-adults\n",
              "\n",
              "[5 rows x 9 columns]"
            ]
          },
          "metadata": {
            "tags": []
          },
          "execution_count": 6
        }
      ]
    },
    {
      "cell_type": "markdown",
      "metadata": {
        "id": "uYv2ZHmZVBaJ"
      },
      "source": [
        "# **Contingency Table For The Most Important Features**\n",
        "\n",
        "[https://www.geeksforgeeks.org/contingency-table-in-python/](https://)\n",
        "\n"
      ]
    },
    {
      "cell_type": "code",
      "metadata": {
        "colab": {
          "base_uri": "https://localhost:8080/",
          "height": 452
        },
        "id": "WoV8axgAU-6I",
        "outputId": "e9966423-0808-4294-a1a8-b143a4bf202b"
      },
      "source": [
        "pd.crosstab([dataset.bmiGps, dataset.ageGps],\n",
        "                             dataset.smoker, margins = False)\n"
      ],
      "execution_count": null,
      "outputs": [
        {
          "output_type": "execute_result",
          "data": {
            "text/html": [
              "<div>\n",
              "<style scoped>\n",
              "    .dataframe tbody tr th:only-of-type {\n",
              "        vertical-align: middle;\n",
              "    }\n",
              "\n",
              "    .dataframe tbody tr th {\n",
              "        vertical-align: top;\n",
              "    }\n",
              "\n",
              "    .dataframe thead th {\n",
              "        text-align: right;\n",
              "    }\n",
              "</style>\n",
              "<table border=\"1\" class=\"dataframe\">\n",
              "  <thead>\n",
              "    <tr style=\"text-align: right;\">\n",
              "      <th></th>\n",
              "      <th>smoker</th>\n",
              "      <th>no</th>\n",
              "      <th>yes</th>\n",
              "    </tr>\n",
              "    <tr>\n",
              "      <th>bmiGps</th>\n",
              "      <th>ageGps</th>\n",
              "      <th></th>\n",
              "      <th></th>\n",
              "    </tr>\n",
              "  </thead>\n",
              "  <tbody>\n",
              "    <tr>\n",
              "      <th rowspan=\"3\" valign=\"top\">normal</th>\n",
              "      <th>elder-adults</th>\n",
              "      <td>21</td>\n",
              "      <td>4</td>\n",
              "    </tr>\n",
              "    <tr>\n",
              "      <th>middle-aged-adults</th>\n",
              "      <td>61</td>\n",
              "      <td>24</td>\n",
              "    </tr>\n",
              "    <tr>\n",
              "      <th>young-adults</th>\n",
              "      <td>90</td>\n",
              "      <td>22</td>\n",
              "    </tr>\n",
              "    <tr>\n",
              "      <th rowspan=\"3\" valign=\"top\">obese</th>\n",
              "      <th>elder-adults</th>\n",
              "      <td>107</td>\n",
              "      <td>25</td>\n",
              "    </tr>\n",
              "    <tr>\n",
              "      <th>middle-aged-adults</th>\n",
              "      <td>235</td>\n",
              "      <td>61</td>\n",
              "    </tr>\n",
              "    <tr>\n",
              "      <th>young-adults</th>\n",
              "      <td>227</td>\n",
              "      <td>61</td>\n",
              "    </tr>\n",
              "    <tr>\n",
              "      <th rowspan=\"3\" valign=\"top\">overweight</th>\n",
              "      <th>elder-adults</th>\n",
              "      <td>46</td>\n",
              "      <td>11</td>\n",
              "    </tr>\n",
              "    <tr>\n",
              "      <th>middle-aged-adults</th>\n",
              "      <td>135</td>\n",
              "      <td>27</td>\n",
              "    </tr>\n",
              "    <tr>\n",
              "      <th>young-adults</th>\n",
              "      <td>127</td>\n",
              "      <td>34</td>\n",
              "    </tr>\n",
              "    <tr>\n",
              "      <th rowspan=\"3\" valign=\"top\">underweight</th>\n",
              "      <th>elder-adults</th>\n",
              "      <td>2</td>\n",
              "      <td>0</td>\n",
              "    </tr>\n",
              "    <tr>\n",
              "      <th>middle-aged-adults</th>\n",
              "      <td>4</td>\n",
              "      <td>1</td>\n",
              "    </tr>\n",
              "    <tr>\n",
              "      <th>young-adults</th>\n",
              "      <td>9</td>\n",
              "      <td>4</td>\n",
              "    </tr>\n",
              "  </tbody>\n",
              "</table>\n",
              "</div>"
            ],
            "text/plain": [
              "smoker                           no  yes\n",
              "bmiGps      ageGps                      \n",
              "normal      elder-adults         21    4\n",
              "            middle-aged-adults   61   24\n",
              "            young-adults         90   22\n",
              "obese       elder-adults        107   25\n",
              "            middle-aged-adults  235   61\n",
              "            young-adults        227   61\n",
              "overweight  elder-adults         46   11\n",
              "            middle-aged-adults  135   27\n",
              "            young-adults        127   34\n",
              "underweight elder-adults          2    0\n",
              "            middle-aged-adults    4    1\n",
              "            young-adults          9    4"
            ]
          },
          "metadata": {
            "tags": []
          },
          "execution_count": 63
        }
      ]
    },
    {
      "cell_type": "markdown",
      "metadata": {
        "id": "-kaGobYVZwe_"
      },
      "source": [
        "# **Chi-Squared Test(Statistical Filter Method)**\n",
        "\n",
        "[https://machinelearningmastery.com/chi-squared-test-for-machine-learning/](https://)"
      ]
    },
    {
      "cell_type": "markdown",
      "metadata": {
        "id": "43BDTOBvY_dG"
      },
      "source": [
        "**Pearson’s Chi-Squared Test Between BMI and Smoking Status**"
      ]
    },
    {
      "cell_type": "code",
      "metadata": {
        "colab": {
          "base_uri": "https://localhost:8080/",
          "height": 204
        },
        "id": "ihxWejLIVyDX",
        "outputId": "3e50f763-a7f1-43b2-eabf-09d6416b7895"
      },
      "source": [
        "pd.crosstab(dataset.bmiGps,\n",
        "                             dataset.smoker, margins = False)\n"
      ],
      "execution_count": null,
      "outputs": [
        {
          "output_type": "execute_result",
          "data": {
            "text/html": [
              "<div>\n",
              "<style scoped>\n",
              "    .dataframe tbody tr th:only-of-type {\n",
              "        vertical-align: middle;\n",
              "    }\n",
              "\n",
              "    .dataframe tbody tr th {\n",
              "        vertical-align: top;\n",
              "    }\n",
              "\n",
              "    .dataframe thead th {\n",
              "        text-align: right;\n",
              "    }\n",
              "</style>\n",
              "<table border=\"1\" class=\"dataframe\">\n",
              "  <thead>\n",
              "    <tr style=\"text-align: right;\">\n",
              "      <th>smoker</th>\n",
              "      <th>no</th>\n",
              "      <th>yes</th>\n",
              "    </tr>\n",
              "    <tr>\n",
              "      <th>bmiGps</th>\n",
              "      <th></th>\n",
              "      <th></th>\n",
              "    </tr>\n",
              "  </thead>\n",
              "  <tbody>\n",
              "    <tr>\n",
              "      <th>normal</th>\n",
              "      <td>172</td>\n",
              "      <td>50</td>\n",
              "    </tr>\n",
              "    <tr>\n",
              "      <th>obese</th>\n",
              "      <td>569</td>\n",
              "      <td>147</td>\n",
              "    </tr>\n",
              "    <tr>\n",
              "      <th>overweight</th>\n",
              "      <td>308</td>\n",
              "      <td>72</td>\n",
              "    </tr>\n",
              "    <tr>\n",
              "      <th>underweight</th>\n",
              "      <td>15</td>\n",
              "      <td>5</td>\n",
              "    </tr>\n",
              "  </tbody>\n",
              "</table>\n",
              "</div>"
            ],
            "text/plain": [
              "smoker        no  yes\n",
              "bmiGps               \n",
              "normal       172   50\n",
              "obese        569  147\n",
              "overweight   308   72\n",
              "underweight   15    5"
            ]
          },
          "metadata": {
            "tags": []
          },
          "execution_count": 66
        }
      ]
    },
    {
      "cell_type": "code",
      "metadata": {
        "colab": {
          "base_uri": "https://localhost:8080/"
        },
        "id": "aB_do5M2V69L",
        "outputId": "7b0ac110-ca4d-4e7b-f283-294b54d6a9ca"
      },
      "source": [
        "from scipy.stats import chi2_contingency\n",
        "from scipy.stats import chi2\n",
        "# contingency table\n",
        "bmiSmokertable = (pd.crosstab(dataset.bmiGps,\n",
        "                             dataset.smoker, margins = False)).to_numpy()\n",
        "print(bmiSmokertable)\n",
        "stat, p, dof, expected = chi2_contingency(bmiSmokertable)\n",
        "print('dof=%d' % dof)\n",
        "print(expected)\n",
        "# interpret test-statistic\n",
        "prob = 0.95\n",
        "critical = chi2.ppf(prob, dof)\n",
        "print('probability=%.3f, critical=%.3f, stat=%.3f' % (prob, critical, stat))\n",
        "if abs(stat) >= critical:\n",
        "\tprint('Dependent (reject H0)')\n",
        "else:\n",
        "\tprint('Independent (fail to reject H0)')\n",
        "# interpret p-value\n",
        "alpha = 1.0 - prob\n",
        "print('significance=%.3f, p=%.3f' % (alpha, p))\n",
        "if p <= alpha:\n",
        "\tprint('Dependent (reject H0)')\n",
        "else:\n",
        "\tprint('Independent (fail to reject H0)')"
      ],
      "execution_count": null,
      "outputs": [
        {
          "output_type": "stream",
          "text": [
            "[[172  50]\n",
            " [569 147]\n",
            " [308  72]\n",
            " [ 15   5]]\n",
            "dof=3\n",
            "[[176.53811659  45.46188341]\n",
            " [569.37518685 146.62481315]\n",
            " [302.18236173  77.81763827]\n",
            " [ 15.90433483   4.09566517]]\n",
            "probability=0.950, critical=7.815, stat=1.369\n",
            "Independent (fail to reject H0)\n",
            "significance=0.050, p=0.713\n",
            "Independent (fail to reject H0)\n"
          ],
          "name": "stdout"
        }
      ]
    },
    {
      "cell_type": "markdown",
      "metadata": {
        "id": "s_cfLUfGZHcp"
      },
      "source": [
        "**Pearson’s Chi-Squared Test Between BMI and Age**"
      ]
    },
    {
      "cell_type": "code",
      "metadata": {
        "colab": {
          "base_uri": "https://localhost:8080/",
          "height": 204
        },
        "id": "_7CwcShnV2jQ",
        "outputId": "1b74ffdf-73e0-43d8-f503-360c7f2fce8b"
      },
      "source": [
        "pd.crosstab(dataset.bmiGps,\n",
        "                             dataset.ageGps, margins = False)\n"
      ],
      "execution_count": null,
      "outputs": [
        {
          "output_type": "execute_result",
          "data": {
            "text/html": [
              "<div>\n",
              "<style scoped>\n",
              "    .dataframe tbody tr th:only-of-type {\n",
              "        vertical-align: middle;\n",
              "    }\n",
              "\n",
              "    .dataframe tbody tr th {\n",
              "        vertical-align: top;\n",
              "    }\n",
              "\n",
              "    .dataframe thead th {\n",
              "        text-align: right;\n",
              "    }\n",
              "</style>\n",
              "<table border=\"1\" class=\"dataframe\">\n",
              "  <thead>\n",
              "    <tr style=\"text-align: right;\">\n",
              "      <th>ageGps</th>\n",
              "      <th>elder-adults</th>\n",
              "      <th>middle-aged-adults</th>\n",
              "      <th>young-adults</th>\n",
              "    </tr>\n",
              "    <tr>\n",
              "      <th>bmiGps</th>\n",
              "      <th></th>\n",
              "      <th></th>\n",
              "      <th></th>\n",
              "    </tr>\n",
              "  </thead>\n",
              "  <tbody>\n",
              "    <tr>\n",
              "      <th>normal</th>\n",
              "      <td>25</td>\n",
              "      <td>85</td>\n",
              "      <td>112</td>\n",
              "    </tr>\n",
              "    <tr>\n",
              "      <th>obese</th>\n",
              "      <td>132</td>\n",
              "      <td>296</td>\n",
              "      <td>288</td>\n",
              "    </tr>\n",
              "    <tr>\n",
              "      <th>overweight</th>\n",
              "      <td>57</td>\n",
              "      <td>162</td>\n",
              "      <td>161</td>\n",
              "    </tr>\n",
              "    <tr>\n",
              "      <th>underweight</th>\n",
              "      <td>2</td>\n",
              "      <td>5</td>\n",
              "      <td>13</td>\n",
              "    </tr>\n",
              "  </tbody>\n",
              "</table>\n",
              "</div>"
            ],
            "text/plain": [
              "ageGps       elder-adults  middle-aged-adults  young-adults\n",
              "bmiGps                                                     \n",
              "normal                 25                  85           112\n",
              "obese                 132                 296           288\n",
              "overweight             57                 162           161\n",
              "underweight             2                   5            13"
            ]
          },
          "metadata": {
            "tags": []
          },
          "execution_count": 64
        }
      ]
    },
    {
      "cell_type": "code",
      "metadata": {
        "colab": {
          "base_uri": "https://localhost:8080/"
        },
        "id": "wwpATKiyYZ_G",
        "outputId": "042d8b70-9460-4bfd-d5fd-39ef660e31ca"
      },
      "source": [
        "from scipy.stats import chi2_contingency\n",
        "from scipy.stats import chi2\n",
        "# contingency table\n",
        "bmiAgetable = (pd.crosstab(dataset.bmiGps,\n",
        "                             dataset.ageGps, margins = False)).to_numpy()\n",
        "print(bmiAgetable)\n",
        "stat, p, dof, expected = chi2_contingency(bmiAgetable)\n",
        "print('dof=%d' % dof)\n",
        "print(expected)\n",
        "# interpret test-statistic\n",
        "prob = 0.95\n",
        "critical = chi2.ppf(prob, dof)\n",
        "print('probability=%.3f, critical=%.3f, stat=%.3f' % (prob, critical, stat))\n",
        "if abs(stat) >= critical:\n",
        "\tprint('Dependent (reject H0)')\n",
        "else:\n",
        "\tprint('Independent (fail to reject H0)')\n",
        "# interpret p-value\n",
        "alpha = 1.0 - prob\n",
        "print('significance=%.3f, p=%.3f' % (alpha, p))\n",
        "if p <= alpha:\n",
        "\tprint('Dependent (reject H0)')\n",
        "else:\n",
        "\tprint('Independent (fail to reject H0)')"
      ],
      "execution_count": null,
      "outputs": [
        {
          "output_type": "stream",
          "text": [
            "[[ 25  85 112]\n",
            " [132 296 288]\n",
            " [ 57 162 161]\n",
            " [  2   5  13]]\n",
            "dof=6\n",
            "[[ 35.83856502  90.92376682  95.23766816]\n",
            " [115.58744395 293.24962631 307.16292975]\n",
            " [ 61.34529148 155.63527653 163.01943199]\n",
            " [  3.22869955   8.19133034   8.5799701 ]]\n",
            "probability=0.950, critical=12.592, stat=14.747\n",
            "Dependent (reject H0)\n",
            "significance=0.050, p=0.022\n",
            "Dependent (reject H0)\n"
          ],
          "name": "stdout"
        }
      ]
    },
    {
      "cell_type": "markdown",
      "metadata": {
        "id": "3A2yUMb5Vvia"
      },
      "source": [
        "\n",
        "\n",
        "---\n",
        "\n"
      ]
    },
    {
      "cell_type": "markdown",
      "metadata": {
        "id": "eDvTJRX8ZMDB"
      },
      "source": [
        "**Preprocessing**"
      ]
    },
    {
      "cell_type": "code",
      "metadata": {
        "colab": {
          "base_uri": "https://localhost:8080/",
          "height": 204
        },
        "id": "iPFLgBK8vnCf",
        "outputId": "c2305f95-8484-48a8-bffe-e3cf186c47e0"
      },
      "source": [
        "#sex\n",
        "le = LabelEncoder()\n",
        "leBMI = LabelEncoder()\n",
        "leRegion = LabelEncoder()\n",
        "leSmoker = LabelEncoder()\n",
        "le.fit(dataset.sex.drop_duplicates())\n",
        "dataset.sex = le.transform(dataset.sex)\n",
        "# smoker\n",
        "leSmoker.fit(dataset.smoker.drop_duplicates())\n",
        "dataset.smoker = leSmoker.transform(dataset.smoker)\n",
        "#region\n",
        "leRegion.fit(dataset.region.drop_duplicates())\n",
        "dataset.region = leRegion.transform(dataset.region)\n",
        "#BMI Groups\n",
        "leBMI.fit(dataset.bmiGps.drop_duplicates())\n",
        "dataset.bmiGps = leBMI.transform(dataset.bmiGps)\n",
        "#age Groups\n",
        "le.fit(dataset.ageGps.drop_duplicates())\n",
        "dataset.ageGps = le.transform(dataset.ageGps)\n",
        "dataset.head()\n"
      ],
      "execution_count": null,
      "outputs": [
        {
          "output_type": "execute_result",
          "data": {
            "text/html": [
              "<div>\n",
              "<style scoped>\n",
              "    .dataframe tbody tr th:only-of-type {\n",
              "        vertical-align: middle;\n",
              "    }\n",
              "\n",
              "    .dataframe tbody tr th {\n",
              "        vertical-align: top;\n",
              "    }\n",
              "\n",
              "    .dataframe thead th {\n",
              "        text-align: right;\n",
              "    }\n",
              "</style>\n",
              "<table border=\"1\" class=\"dataframe\">\n",
              "  <thead>\n",
              "    <tr style=\"text-align: right;\">\n",
              "      <th></th>\n",
              "      <th>age</th>\n",
              "      <th>sex</th>\n",
              "      <th>bmi</th>\n",
              "      <th>children</th>\n",
              "      <th>smoker</th>\n",
              "      <th>region</th>\n",
              "      <th>charges</th>\n",
              "      <th>bmiGps</th>\n",
              "      <th>ageGps</th>\n",
              "    </tr>\n",
              "  </thead>\n",
              "  <tbody>\n",
              "    <tr>\n",
              "      <th>0</th>\n",
              "      <td>19</td>\n",
              "      <td>0</td>\n",
              "      <td>27.900</td>\n",
              "      <td>0</td>\n",
              "      <td>1</td>\n",
              "      <td>3</td>\n",
              "      <td>16884.92400</td>\n",
              "      <td>2</td>\n",
              "      <td>2</td>\n",
              "    </tr>\n",
              "    <tr>\n",
              "      <th>1</th>\n",
              "      <td>18</td>\n",
              "      <td>1</td>\n",
              "      <td>33.770</td>\n",
              "      <td>1</td>\n",
              "      <td>0</td>\n",
              "      <td>2</td>\n",
              "      <td>1725.55230</td>\n",
              "      <td>1</td>\n",
              "      <td>2</td>\n",
              "    </tr>\n",
              "    <tr>\n",
              "      <th>2</th>\n",
              "      <td>28</td>\n",
              "      <td>1</td>\n",
              "      <td>33.000</td>\n",
              "      <td>3</td>\n",
              "      <td>0</td>\n",
              "      <td>2</td>\n",
              "      <td>4449.46200</td>\n",
              "      <td>1</td>\n",
              "      <td>2</td>\n",
              "    </tr>\n",
              "    <tr>\n",
              "      <th>3</th>\n",
              "      <td>33</td>\n",
              "      <td>1</td>\n",
              "      <td>22.705</td>\n",
              "      <td>0</td>\n",
              "      <td>0</td>\n",
              "      <td>1</td>\n",
              "      <td>21984.47061</td>\n",
              "      <td>0</td>\n",
              "      <td>2</td>\n",
              "    </tr>\n",
              "    <tr>\n",
              "      <th>4</th>\n",
              "      <td>32</td>\n",
              "      <td>1</td>\n",
              "      <td>28.880</td>\n",
              "      <td>0</td>\n",
              "      <td>0</td>\n",
              "      <td>1</td>\n",
              "      <td>3866.85520</td>\n",
              "      <td>2</td>\n",
              "      <td>2</td>\n",
              "    </tr>\n",
              "  </tbody>\n",
              "</table>\n",
              "</div>"
            ],
            "text/plain": [
              "   age  sex     bmi  children  smoker  region      charges  bmiGps  ageGps\n",
              "0   19    0  27.900         0       1       3  16884.92400       2       2\n",
              "1   18    1  33.770         1       0       2   1725.55230       1       2\n",
              "2   28    1  33.000         3       0       2   4449.46200       1       2\n",
              "3   33    1  22.705         0       0       1  21984.47061       0       2\n",
              "4   32    1  28.880         0       0       1   3866.85520       2       2"
            ]
          },
          "metadata": {
            "tags": []
          },
          "execution_count": 7
        }
      ]
    },
    {
      "cell_type": "code",
      "metadata": {
        "colab": {
          "base_uri": "https://localhost:8080/",
          "height": 204
        },
        "id": "7_LCPDAeyLyP",
        "outputId": "b34f2387-0cb5-4464-ec28-1686930f4af4"
      },
      "source": [
        "from sklearn import preprocessing\n",
        "\n",
        "scaler = preprocessing.MinMaxScaler()\n",
        "names = dataset.columns\n",
        "d = scaler.fit_transform(dataset)\n",
        "scaled_df = pd.DataFrame(d, columns=names)\n",
        "scaled_df.head()"
      ],
      "execution_count": null,
      "outputs": [
        {
          "output_type": "execute_result",
          "data": {
            "text/html": [
              "<div>\n",
              "<style scoped>\n",
              "    .dataframe tbody tr th:only-of-type {\n",
              "        vertical-align: middle;\n",
              "    }\n",
              "\n",
              "    .dataframe tbody tr th {\n",
              "        vertical-align: top;\n",
              "    }\n",
              "\n",
              "    .dataframe thead th {\n",
              "        text-align: right;\n",
              "    }\n",
              "</style>\n",
              "<table border=\"1\" class=\"dataframe\">\n",
              "  <thead>\n",
              "    <tr style=\"text-align: right;\">\n",
              "      <th></th>\n",
              "      <th>age</th>\n",
              "      <th>sex</th>\n",
              "      <th>bmi</th>\n",
              "      <th>children</th>\n",
              "      <th>smoker</th>\n",
              "      <th>region</th>\n",
              "      <th>charges</th>\n",
              "      <th>bmiGps</th>\n",
              "      <th>ageGps</th>\n",
              "    </tr>\n",
              "  </thead>\n",
              "  <tbody>\n",
              "    <tr>\n",
              "      <th>0</th>\n",
              "      <td>0.021739</td>\n",
              "      <td>0.0</td>\n",
              "      <td>0.321227</td>\n",
              "      <td>0.0</td>\n",
              "      <td>1.0</td>\n",
              "      <td>1.000000</td>\n",
              "      <td>0.251611</td>\n",
              "      <td>0.666667</td>\n",
              "      <td>1.0</td>\n",
              "    </tr>\n",
              "    <tr>\n",
              "      <th>1</th>\n",
              "      <td>0.000000</td>\n",
              "      <td>1.0</td>\n",
              "      <td>0.479150</td>\n",
              "      <td>0.2</td>\n",
              "      <td>0.0</td>\n",
              "      <td>0.666667</td>\n",
              "      <td>0.009636</td>\n",
              "      <td>0.333333</td>\n",
              "      <td>1.0</td>\n",
              "    </tr>\n",
              "    <tr>\n",
              "      <th>2</th>\n",
              "      <td>0.217391</td>\n",
              "      <td>1.0</td>\n",
              "      <td>0.458434</td>\n",
              "      <td>0.6</td>\n",
              "      <td>0.0</td>\n",
              "      <td>0.666667</td>\n",
              "      <td>0.053115</td>\n",
              "      <td>0.333333</td>\n",
              "      <td>1.0</td>\n",
              "    </tr>\n",
              "    <tr>\n",
              "      <th>3</th>\n",
              "      <td>0.326087</td>\n",
              "      <td>1.0</td>\n",
              "      <td>0.181464</td>\n",
              "      <td>0.0</td>\n",
              "      <td>0.0</td>\n",
              "      <td>0.333333</td>\n",
              "      <td>0.333010</td>\n",
              "      <td>0.000000</td>\n",
              "      <td>1.0</td>\n",
              "    </tr>\n",
              "    <tr>\n",
              "      <th>4</th>\n",
              "      <td>0.304348</td>\n",
              "      <td>1.0</td>\n",
              "      <td>0.347592</td>\n",
              "      <td>0.0</td>\n",
              "      <td>0.0</td>\n",
              "      <td>0.333333</td>\n",
              "      <td>0.043816</td>\n",
              "      <td>0.666667</td>\n",
              "      <td>1.0</td>\n",
              "    </tr>\n",
              "  </tbody>\n",
              "</table>\n",
              "</div>"
            ],
            "text/plain": [
              "        age  sex       bmi  children  ...    region   charges    bmiGps  ageGps\n",
              "0  0.021739  0.0  0.321227       0.0  ...  1.000000  0.251611  0.666667     1.0\n",
              "1  0.000000  1.0  0.479150       0.2  ...  0.666667  0.009636  0.333333     1.0\n",
              "2  0.217391  1.0  0.458434       0.6  ...  0.666667  0.053115  0.333333     1.0\n",
              "3  0.326087  1.0  0.181464       0.0  ...  0.333333  0.333010  0.000000     1.0\n",
              "4  0.304348  1.0  0.347592       0.0  ...  0.333333  0.043816  0.666667     1.0\n",
              "\n",
              "[5 rows x 9 columns]"
            ]
          },
          "metadata": {
            "tags": []
          },
          "execution_count": 8
        }
      ]
    },
    {
      "cell_type": "code",
      "metadata": {
        "id": "FKh26YaRyMQY"
      },
      "source": [
        "X = scaled_df.drop([\"charges\"], axis=1)\n",
        "y = scaled_df.charges.values\n",
        "from sklearn.model_selection import train_test_split\n",
        "train_features, test_features, train_labels, test_labels = train_test_split(X, y, test_size=0.2, random_state=0)"
      ],
      "execution_count": null,
      "outputs": []
    },
    {
      "cell_type": "markdown",
      "metadata": {
        "id": "owTka473x6qt"
      },
      "source": [
        "# **Feature Importance - Embedded Method**\n",
        "[https://machinelearningmastery.com/calculate-feature-importance-with-python/](https://)"
      ]
    },
    {
      "cell_type": "markdown",
      "metadata": {
        "id": "6pfuQxE_x3Il"
      },
      "source": [
        "**Feature Importance Using Random Forest**"
      ]
    },
    {
      "cell_type": "code",
      "metadata": {
        "colab": {
          "base_uri": "https://localhost:8080/",
          "height": 455
        },
        "id": "rhcnpoRaxdbS",
        "outputId": "ffa7f0a8-35f7-405d-f2c1-39e88863b08a"
      },
      "source": [
        "rf_tuned = RandomForestRegressor(max_depth= 5, max_features=7, n_estimators=1000)\n",
        "rf_tuned.fit(train_features, train_labels);\n",
        "# R2-Score of the model and mean_squared_error\n",
        "featureImportance = pd.DataFrame()\n",
        "for i,v in enumerate(rf_tuned.feature_importances_):\n",
        "\tprint('Feature: %s, Score: %.5f' % (train_features.columns[i],v*100))\n",
        "featureImportance[\"Feature-Importance\"] = rf_tuned.feature_importances_*100\n",
        "featureImportance[\"Features\"] = train_features.columns\n",
        "featureImportance.plot(x ='Features', y='Feature-Importance', kind = 'bar',color = \"#55bcbd\")\n",
        "plt.show()"
      ],
      "execution_count": null,
      "outputs": [
        {
          "output_type": "stream",
          "text": [
            "Feature: age, Score: 11.18626\n",
            "Feature: sex, Score: 0.04957\n",
            "Feature: bmi, Score: 16.58042\n",
            "Feature: children, Score: 1.01551\n",
            "Feature: smoker, Score: 68.57309\n",
            "Feature: region, Score: 0.35660\n",
            "Feature: bmiGps, Score: 1.23570\n",
            "Feature: ageGps, Score: 1.00285\n"
          ],
          "name": "stdout"
        },
        {
          "output_type": "display_data",
          "data": {
            "image/png": "[encoded data removed]",
            "text/plain": [
              "<Figure size 432x288 with 1 Axes>"
            ]
          },
          "metadata": {
            "tags": []
          }
        }
      ]
    },
    {
      "cell_type": "markdown",
      "metadata": {
        "id": "jt720tR_xybA"
      },
      "source": [
        "**Feature Importance Using XGB**"
      ]
    },
    {
      "cell_type": "code",
      "metadata": {
        "colab": {
          "base_uri": "https://localhost:8080/",
          "height": 492
        },
        "id": "9lvyO2zUxnss",
        "outputId": "f60ec58e-a593-4d2d-989b-105841b3cf25"
      },
      "source": [
        "from xgboost import XGBRegressor\n",
        "xgb_model = XGBRegressor(colsample_bytree=1,\n",
        " learning_rate=0.01,\n",
        " max_depth=3,\n",
        " n_estimators=500)\n",
        "xgb_model.fit(train_features, train_labels);\n",
        "featureImportance = pd.DataFrame()\n",
        "for i,v in enumerate(xgb_model.feature_importances_):\n",
        "\tprint('Feature: %s, Score: %.5f' % (train_features.columns[i],v*100))\n",
        "featureImportance[\"Feature-Importance\"] = xgb_model.feature_importances_*100\n",
        "featureImportance[\"Features\"] = train_features.columns\n",
        "featureImportance.plot(x ='Features', y='Feature-Importance', kind = 'bar',color = \"#f05988\")\n",
        "plt.show()"
      ],
      "execution_count": null,
      "outputs": [
        {
          "output_type": "stream",
          "text": [
            "[13:10:39] WARNING: /workspace/src/objective/regression_obj.cu:152: reg:linear is now deprecated in favor of reg:squarederror.\n",
            "Feature: age, Score: 4.26921\n",
            "Feature: sex, Score: 0.20522\n",
            "Feature: bmi, Score: 8.53609\n",
            "Feature: children, Score: 0.80288\n",
            "Feature: smoker, Score: 85.06747\n",
            "Feature: region, Score: 0.63015\n",
            "Feature: bmiGps, Score: 0.48899\n",
            "Feature: ageGps, Score: 0.00000\n"
          ],
          "name": "stdout"
        },
        {
          "output_type": "display_data",
          "data": {
            "image/png": "[encoded data removed]",
            "text/plain": [
              "<Figure size 432x288 with 1 Axes>"
            ]
          },
          "metadata": {
            "tags": []
          }
        }
      ]
    },
    {
      "cell_type": "markdown",
      "metadata": {
        "id": "RPv7InOQx-HE"
      },
      "source": [
        "**Feature Importance Using Linear Regression**"
      ]
    },
    {
      "cell_type": "code",
      "metadata": {
        "colab": {
          "base_uri": "https://localhost:8080/",
          "height": 455
        },
        "id": "aF4U51ZByDFT",
        "outputId": "6c255254-a080-4186-9b85-62fef7fbe8ad"
      },
      "source": [
        "from sklearn.linear_model import LinearRegression\n",
        "from sklearn.metrics import r2_score, mean_squared_error\n",
        "Lin_reg = LinearRegression()\n",
        "Lin_reg.fit(train_features, train_labels)\n",
        "featureImportance = pd.DataFrame()\n",
        "for i,v in enumerate(Lin_reg.coef_):\n",
        "\tprint('Feature: %s, Score: %.5f' % (train_features.columns[i],v*100))\n",
        "featureImportance[\"Feature-Importance\"] = Lin_reg.coef_*100\n",
        "featureImportance[\"Features\"] = train_features.columns\n",
        "featureImportance.plot(x ='Features', y='Feature-Importance', kind = 'bar',color = \"#fba26d\")\n",
        "plt.show()"
      ],
      "execution_count": null,
      "outputs": [
        {
          "output_type": "stream",
          "text": [
            "Feature: age, Score: 19.20862\n",
            "Feature: sex, Score: -0.03594\n",
            "Feature: bmi, Score: 19.50100\n",
            "Feature: children, Score: 3.46192\n",
            "Feature: smoker, Score: 37.60067\n",
            "Feature: region, Score: -1.39088\n",
            "Feature: bmiGps, Score: -1.54406\n",
            "Feature: ageGps, Score: 0.51504\n"
          ],
          "name": "stdout"
        },
        {
          "output_type": "display_data",
          "data": {
            "image/png": "[encoded data removed]",
            "text/plain": [
              "<Figure size 432x288 with 1 Axes>"
            ]
          },
          "metadata": {
            "tags": []
          }
        }
      ]
    },
    {
      "cell_type": "markdown",
      "metadata": {
        "id": "ajNKNbWe0AA8"
      },
      "source": [
        "**Feature Importance Using Ridge Regression**"
      ]
    },
    {
      "cell_type": "code",
      "metadata": {
        "colab": {
          "base_uri": "https://localhost:8080/",
          "height": 455
        },
        "id": "-rWU7QgLzfuN",
        "outputId": "e9a0fa5a-5db3-4cae-f65b-6d22f97e46b7"
      },
      "source": [
        "from sklearn.linear_model import Ridge\n",
        "Ridge = Ridge(alpha=0.5)\n",
        "Ridge.fit(train_features, train_labels)\n",
        "featureImportance = pd.DataFrame()\n",
        "for i,v in enumerate(Ridge.coef_):\n",
        "\tprint('Feature: %s, Score: %.5f' % (train_features.columns[i],v*100))\n",
        "featureImportance[\"Feature-Importance\"] = Ridge.coef_*100\n",
        "featureImportance[\"Features\"] = train_features.columns\n",
        "featureImportance.plot(x ='Features', y='Feature-Importance', kind = 'bar',color = \"#bfd6ff\")\n",
        "plt.show()"
      ],
      "execution_count": null,
      "outputs": [
        {
          "output_type": "stream",
          "text": [
            "Feature: age, Score: 18.61153\n",
            "Feature: sex, Score: -0.02784\n",
            "Feature: bmi, Score: 19.19298\n",
            "Feature: children, Score: 3.49149\n",
            "Feature: smoker, Score: 37.48672\n",
            "Feature: region, Score: -1.36333\n",
            "Feature: bmiGps, Score: -1.53710\n",
            "Feature: ageGps, Score: 0.03741\n"
          ],
          "name": "stdout"
        },
        {
          "output_type": "display_data",
          "data": {
            "image/png": "[encoded data removed]",
            "text/plain": [
              "<Figure size 432x288 with 1 Axes>"
            ]
          },
          "metadata": {
            "tags": []
          }
        }
      ]
    },
    {
      "cell_type": "markdown",
      "metadata": {
        "id": "xyZdGp4mu6DU"
      },
      "source": [
        "# **Permutation Feature Importance**"
      ]
    },
    {
      "cell_type": "code",
      "metadata": {
        "colab": {
          "base_uri": "https://localhost:8080/",
          "height": 455
        },
        "id": "6c40rPZrvEMg",
        "outputId": "bb9cf1a1-1214-4764-866e-eeaa0d2bb362"
      },
      "source": [
        "from sklearn.linear_model import Ridge\n",
        "knn = KNeighborsRegressor()\n",
        "knn.fit(train_features, train_labels)\n",
        "featureImportance = pd.DataFrame()\n",
        "results = permutation_importance(knn, train_features, train_labels, scoring='r2')\n",
        "# get importance\n",
        "importance = results.importances_mean\n",
        "for i,v in enumerate(importance):\n",
        "\tprint('Feature: %s, Score: %.5f' % (train_features.columns[i],v))\n",
        "featureImportance[\"Feature-Importance\"] = importance*100\n",
        "featureImportance[\"Features\"] = train_features.columns\n",
        "featureImportance.plot(x ='Features', y='Feature-Importance', kind = 'bar',color = \"#4b778d\")\n",
        "plt.show()"
      ],
      "execution_count": null,
      "outputs": [
        {
          "output_type": "stream",
          "text": [
            "Feature: age, Score: 0.09057\n",
            "Feature: sex, Score: 0.03458\n",
            "Feature: bmi, Score: 0.06424\n",
            "Feature: children, Score: 0.04183\n",
            "Feature: smoker, Score: 1.45408\n",
            "Feature: region, Score: 0.05612\n",
            "Feature: bmiGps, Score: 0.08329\n",
            "Feature: ageGps, Score: 0.06181\n"
          ],
          "name": "stdout"
        },
        {
          "output_type": "display_data",
          "data": {
            "image/png": "[encoded data removed]",
            "text/plain": [
              "<Figure size 432x288 with 1 Axes>"
            ]
          },
          "metadata": {
            "tags": []
          }
        }
      ]
    },
    {
      "cell_type": "markdown",
      "metadata": {
        "id": "gIjfmiC9-lKc"
      },
      "source": [
        "# **Recursive Feature Elimination (RFE) - Wrapper Method**\n",
        "\n",
        "[https://machinelearningmastery.com/rfe-feature-selection-in-python/](https://)"
      ]
    },
    {
      "cell_type": "code",
      "metadata": {
        "colab": {
          "base_uri": "https://localhost:8080/",
          "height": 455
        },
        "id": "Kr0fmYwQ6Nup",
        "outputId": "bd0dbc4a-32a7-43ea-c55b-99409b49bc5e"
      },
      "source": [
        "rfe = RFECV(estimator=DecisionTreeRegressor())\n",
        "# fit RFE\n",
        "rfe.fit(train_features, train_labels)\n",
        "# summarize all features\n",
        "for i in range(train_features.shape[1]):\n",
        "\tprint('Column: %d: %s => Selected %s, Rank: %.3f' % (i,train_features.columns[i], rfe.support_[i], rfe.ranking_[i]))\n",
        "featureImportance = pd.DataFrame()\n",
        "featureImportance[\"Feature-Rankings\"] = rfe.ranking_\n",
        "featureImportance[\"Features\"] = train_features.columns\n",
        "featureImportance.plot(x ='Features', y='Feature-Rankings', kind = 'bar',color = \"#B5179E\")\n",
        "plt.show()"
      ],
      "execution_count": null,
      "outputs": [
        {
          "output_type": "stream",
          "text": [
            "Column: 0: age => Selected True, Rank: 1.000\n",
            "Column: 1: sex => Selected False, Rank: 4.000\n",
            "Column: 2: bmi => Selected True, Rank: 1.000\n",
            "Column: 3: children => Selected False, Rank: 2.000\n",
            "Column: 4: smoker => Selected True, Rank: 1.000\n",
            "Column: 5: region => Selected False, Rank: 3.000\n",
            "Column: 6: bmiGps => Selected False, Rank: 5.000\n",
            "Column: 7: ageGps => Selected False, Rank: 6.000\n"
          ],
          "name": "stdout"
        },
        {
          "output_type": "display_data",
          "data": {
            "image/png": "[encoded data removed]",
            "text/plain": [
              "<Figure size 432x288 with 1 Axes>"
            ]
          },
          "metadata": {
            "tags": []
          }
        }
      ]
    },
    {
      "cell_type": "markdown",
      "metadata": {
        "id": "RaDOQ4kMoA0i"
      },
      "source": [
        "# **Boruta-wrapper Method (built around the random forest)**\n",
        "[https://towardsdatascience.com/boruta-explained-the-way-i-wish-someone-explained-it-to-me-4489d70e154a](https://)"
      ]
    },
    {
      "cell_type": "code",
      "metadata": {
        "id": "rlDS3Dyop_oH"
      },
      "source": [
        "#sex\n",
        "le = LabelEncoder()\n",
        "leRegion = LabelEncoder()\n",
        "le.fit(dataset.sex.drop_duplicates())\n",
        "dataset.sex = le.transform(dataset.sex)\n",
        "# smoker\n",
        "le.fit(dataset.smoker.drop_duplicates())\n",
        "dataset.smoker = le.transform(dataset.smoker)\n",
        "#region\n",
        "leRegion.fit(dataset.region.drop_duplicates())\n",
        "dataset.region = leRegion.transform(dataset.region)\n",
        "#BMI Groups\n",
        "le.fit(dataset.bmiGps.drop_duplicates())\n",
        "dataset.bmiGps = le.transform(dataset.bmiGps)\n",
        "#age Groups\n",
        "le.fit(dataset.ageGps.drop_duplicates())\n",
        "dataset.ageGps = le.transform(dataset.ageGps)\n",
        "scaler = preprocessing.MinMaxScaler()\n",
        "names = dataset.columns\n",
        "d = scaler.fit_transform(dataset)\n",
        "scaled_df = pd.DataFrame(d, columns=names)\n",
        "X = scaled_df.drop([\"charges\"], axis=1)\n",
        "\n",
        "y = scaled_df.charges.values\n",
        "train_features, test_features, train_labels, test_labels = train_test_split(X, y, test_size=0.2, random_state=0)"
      ],
      "execution_count": null,
      "outputs": []
    },
    {
      "cell_type": "code",
      "metadata": {
        "colab": {
          "base_uri": "https://localhost:8080/",
          "height": 336
        },
        "id": "8bDcnMoDoVZX",
        "outputId": "56208909-99ae-4157-9cc3-f5466ca23583"
      },
      "source": [
        "\n",
        "forest = RandomForestRegressor(\n",
        "   n_jobs = -1,\n",
        "   max_depth = 5\n",
        ")\n",
        "boruta_selector = BorutaPy(\n",
        "   estimator = forest,\n",
        "   n_estimators = 'auto',\n",
        "   max_iter = 100\n",
        ")\n",
        "boruta_selector.fit(np.array(train_features), np.array(train_labels))\n",
        "green_area = train_features.columns[boruta_selector.support_].to_list()\n",
        "print('selected features:', green_area)\n",
        "\n",
        "featureImportance = pd.DataFrame()\n",
        "featureImportance[\"Feature-Rankings\"] = boruta_selector.ranking_\n",
        "featureImportance[\"Features\"] = train_features.columns\n",
        "featureImportance.plot(x ='Features', y='Feature-Rankings', kind = 'bar',color = \"#d2e69c\")\n",
        "plt.show()\n",
        "\n"
      ],
      "execution_count": null,
      "outputs": [
        {
          "output_type": "stream",
          "text": [
            "selected features: ['age', 'bmi', 'smoker']\n"
          ],
          "name": "stdout"
        },
        {
          "output_type": "display_data",
          "data": {
            "image/png": "[encoded data removed]",
            "text/plain": [
              "<Figure size 432x288 with 1 Axes>"
            ]
          },
          "metadata": {
            "tags": []
          }
        }
      ]
    },
    {
      "cell_type": "code",
      "metadata": {
        "id": "UsCLc1INp1WE"
      },
      "source": [],
      "execution_count": null,
      "outputs": []
    }
  ]
}