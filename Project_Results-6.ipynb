{
  "nbformat": 4,
  "nbformat_minor": 0,
  "metadata": {
    "colab": {
      "provenance": []
    },
    "kernelspec": {
      "name": "python3",
      "display_name": "Python 3"
    },
    "language_info": {
      "name": "python"
    }
  },
  "cells": [
    {
      "cell_type": "code",
      "metadata": {
        "id": "8c5W7_qQQCX8",
        "colab": {
          "base_uri": "https://localhost:8080/"
        },
        "outputId": "a71a4d14-0611-4033-cb6f-1904a7032a4a"
      },
      "source": [
        "from google.colab import drive\n",
        "drive.mount('/content/gdrive')"
      ],
      "execution_count": null,
      "outputs": [
        {
          "output_type": "stream",
          "text": [
            "Drive already mounted at /content/gdrive; to attempt to forcibly remount, call drive.mount(\"/content/gdrive\", force_remount=True).\n"
          ],
          "name": "stdout"
        }
      ]
    },
    {
      "cell_type": "code",
      "metadata": {
        "colab": {
          "base_uri": "https://localhost:8080/"
        },
        "id": "vWySMRlafQkS",
        "outputId": "4f7e9b34-fa83-4c29-dfe5-7a4080dc0344"
      },
      "source": [
        "pip install vecstack\n"
      ],
      "execution_count": null,
      "outputs": [
        {
          "output_type": "stream",
          "text": [
            "Collecting vecstack\n",
            "  Downloading https://files.pythonhosted.org/packages/d0/a1/b9a1e9e9e5a12078da1ab9788c7885e4c745358f7e57d5f94d9db6a4e898/vecstack-0.4.0.tar.gz\n",
            "Requirement already satisfied: numpy in /usr/local/lib/python3.7/dist-packages (from vecstack) (1.19.5)\n",
            "Requirement already satisfied: scipy in /usr/local/lib/python3.7/dist-packages (from vecstack) (1.4.1)\n",
            "Requirement already satisfied: scikit-learn>=0.18 in /usr/local/lib/python3.7/dist-packages (from vecstack) (0.22.2.post1)\n",
            "Requirement already satisfied: joblib>=0.11 in /usr/local/lib/python3.7/dist-packages (from scikit-learn>=0.18->vecstack) (1.0.1)\n",
            "Building wheels for collected packages: vecstack\n",
            "  Building wheel for vecstack (setup.py) ... \u001b[?25l\u001b[?25hdone\n",
            "  Created wheel for vecstack: filename=vecstack-0.4.0-cp37-none-any.whl size=19877 sha256=640622f37131c46e93622687b40de33588e8727badb72d04f44027baa90833bb\n",
            "  Stored in directory: /root/.cache/pip/wheels/5f/bb/4e/f6488433d53bc0684673d6845e5bf11a25240577c8151c140e\n",
            "Successfully built vecstack\n",
            "Installing collected packages: vecstack\n",
            "Successfully installed vecstack-0.4.0\n"
          ],
          "name": "stdout"
        }
      ]
    },
    {
      "cell_type": "code",
      "metadata": {
        "colab": {
          "base_uri": "https://localhost:8080/"
        },
        "id": "VZddsOyBABKE",
        "outputId": "b416a21f-e5e1-44f0-8eff-e25e7d8513cc"
      },
      "source": [
        "pip install catboost"
      ],
      "execution_count": null,
      "outputs": [
        {
          "output_type": "stream",
          "text": [
            "Collecting catboost\n",
            "\u001b[?25l  Downloading https://files.pythonhosted.org/packages/47/80/8e9c57ec32dfed6ba2922bc5c96462cbf8596ce1a6f5de532ad1e43e53fe/catboost-0.25.1-cp37-none-manylinux1_x86_64.whl (67.3MB)\n",
            "\u001b[K     |████████████████████████████████| 67.3MB 56kB/s \n",
            "\u001b[?25hRequirement already satisfied: six in /usr/local/lib/python3.7/dist-packages (from catboost) (1.15.0)\n",
            "Requirement already satisfied: scipy in /usr/local/lib/python3.7/dist-packages (from catboost) (1.4.1)\n",
            "Requirement already satisfied: graphviz in /usr/local/lib/python3.7/dist-packages (from catboost) (0.10.1)\n",
            "Requirement already satisfied: plotly in /usr/local/lib/python3.7/dist-packages (from catboost) (4.4.1)\n",
            "Requirement already satisfied: matplotlib in /usr/local/lib/python3.7/dist-packages (from catboost) (3.2.2)\n",
            "Requirement already satisfied: pandas>=0.24.0 in /usr/local/lib/python3.7/dist-packages (from catboost) (1.1.5)\n",
            "Requirement already satisfied: numpy>=1.16.0 in /usr/local/lib/python3.7/dist-packages (from catboost) (1.19.5)\n",
            "Requirement already satisfied: retrying>=1.3.3 in /usr/local/lib/python3.7/dist-packages (from plotly->catboost) (1.3.3)\n",
            "Requirement already satisfied: python-dateutil>=2.1 in /usr/local/lib/python3.7/dist-packages (from matplotlib->catboost) (2.8.1)\n",
            "Requirement already satisfied: cycler>=0.10 in /usr/local/lib/python3.7/dist-packages (from matplotlib->catboost) (0.10.0)\n",
            "Requirement already satisfied: pyparsing!=2.0.4,!=2.1.2,!=2.1.6,>=2.0.1 in /usr/local/lib/python3.7/dist-packages (from matplotlib->catboost) (2.4.7)\n",
            "Requirement already satisfied: kiwisolver>=1.0.1 in /usr/local/lib/python3.7/dist-packages (from matplotlib->catboost) (1.3.1)\n",
            "Requirement already satisfied: pytz>=2017.2 in /usr/local/lib/python3.7/dist-packages (from pandas>=0.24.0->catboost) (2018.9)\n",
            "Installing collected packages: catboost\n",
            "Successfully installed catboost-0.25.1\n"
          ],
          "name": "stdout"
        }
      ]
    },
    {
      "cell_type": "markdown",
      "metadata": {
        "id": "NwT-m-74on2s"
      },
      "source": [
        "# **Importing Required Libraries**"
      ]
    },
    {
      "cell_type": "code",
      "metadata": {
        "id": "17019GNTQozP",
        "colab": {
          "base_uri": "https://localhost:8080/"
        },
        "outputId": "a2a195fd-dd85-45c3-9a08-ec781c6ef2fe"
      },
      "source": [
        "import pandas as pd\n",
        "import numpy as np\n",
        "import matplotlib.pyplot as plt\n",
        "import seaborn as sns\n",
        "from sklearn.preprocessing import LabelEncoder\n",
        "from sklearn import preprocessing\n",
        "from sklearn.model_selection import train_test_split\n",
        "from sklearn.metrics import r2_score, mean_squared_error\n",
        "from sklearn.ensemble import RandomForestRegressor\n",
        "from sklearn.linear_model import LinearRegression\n",
        "from sklearn.linear_model import Ridge\n",
        "from sklearn.model_selection import train_test_split, GridSearchCV,cross_val_score\n",
        "from sklearn.ensemble import GradientBoostingRegressor\n",
        "from xgboost import XGBRegressor\n",
        "from sklearn.neighbors import KNeighborsRegressor\n",
        "from sklearn.linear_model import LassoCV\n",
        "import keras\n",
        "from keras.models import Sequential\n",
        "from keras.layers import Dense\n",
        "from tensorflow.keras.wrappers.scikit_learn import KerasRegressor\n",
        "from numpy import mean\n",
        "from numpy import std\n",
        "from matplotlib import pyplot\n",
        "from sklearn.ensemble import StackingRegressor\n",
        "from sklearn.model_selection import cross_val_score\n",
        "from sklearn.model_selection import RepeatedKFold\n",
        "from sklearn.preprocessing import PolynomialFeatures\n",
        "from vecstack import stacking\n",
        "from sklearn.svm import SVR\n",
        "import statsmodels.api as sm\n",
        "import catboost as ctb\n",
        "from sklearn.ensemble import AdaBoostRegressor\n",
        "from tabulate import tabulate\n",
        "sns.set()"
      ],
      "execution_count": null,
      "outputs": [
        {
          "output_type": "stream",
          "text": [
            "/usr/local/lib/python3.7/dist-packages/statsmodels/tools/_testing.py:19: FutureWarning: pandas.util.testing is deprecated. Use the functions in the public API at pandas.testing instead.\n",
            "  import pandas.util.testing as tm\n"
          ],
          "name": "stderr"
        }
      ]
    },
    {
      "cell_type": "markdown",
      "metadata": {
        "id": "xQGvP25Xoysz"
      },
      "source": [
        "# **Gathering Data**"
      ]
    },
    {
      "cell_type": "code",
      "metadata": {
        "id": "m0lo6yL9SSX9"
      },
      "source": [
        "dataset = pd.read_csv('/content/gdrive/MyDrive/BSc Project/insurance.csv')"
      ],
      "execution_count": null,
      "outputs": []
    },
    {
      "cell_type": "code",
      "metadata": {
        "colab": {
          "base_uri": "https://localhost:8080/"
        },
        "id": "C5nxfNAVST0U",
        "outputId": "c5417d5a-f00f-4d8d-de92-0ecd5d2bcc53"
      },
      "source": [
        "dataset.shape"
      ],
      "execution_count": null,
      "outputs": [
        {
          "output_type": "execute_result",
          "data": {
            "text/plain": [
              "(1338, 7)"
            ]
          },
          "metadata": {
            "tags": []
          },
          "execution_count": 4
        }
      ]
    },
    {
      "cell_type": "code",
      "metadata": {
        "colab": {
          "base_uri": "https://localhost:8080/",
          "height": 204
        },
        "id": "Lp0VUt-pSXJE",
        "outputId": "ed39ed56-f223-4efb-dd08-b838c94a4c6d"
      },
      "source": [
        "dataset.head()"
      ],
      "execution_count": null,
      "outputs": [
        {
          "output_type": "execute_result",
          "data": {
            "text/html": [
              "<div>\n",
              "<style scoped>\n",
              "    .dataframe tbody tr th:only-of-type {\n",
              "        vertical-align: middle;\n",
              "    }\n",
              "\n",
              "    .dataframe tbody tr th {\n",
              "        vertical-align: top;\n",
              "    }\n",
              "\n",
              "    .dataframe thead th {\n",
              "        text-align: right;\n",
              "    }\n",
              "</style>\n",
              "<table border=\"1\" class=\"dataframe\">\n",
              "  <thead>\n",
              "    <tr style=\"text-align: right;\">\n",
              "      <th></th>\n",
              "      <th>age</th>\n",
              "      <th>sex</th>\n",
              "      <th>bmi</th>\n",
              "      <th>children</th>\n",
              "      <th>smoker</th>\n",
              "      <th>region</th>\n",
              "      <th>charges</th>\n",
              "    </tr>\n",
              "  </thead>\n",
              "  <tbody>\n",
              "    <tr>\n",
              "      <th>0</th>\n",
              "      <td>19</td>\n",
              "      <td>female</td>\n",
              "      <td>27.900</td>\n",
              "      <td>0</td>\n",
              "      <td>yes</td>\n",
              "      <td>southwest</td>\n",
              "      <td>16884.92400</td>\n",
              "    </tr>\n",
              "    <tr>\n",
              "      <th>1</th>\n",
              "      <td>18</td>\n",
              "      <td>male</td>\n",
              "      <td>33.770</td>\n",
              "      <td>1</td>\n",
              "      <td>no</td>\n",
              "      <td>southeast</td>\n",
              "      <td>1725.55230</td>\n",
              "    </tr>\n",
              "    <tr>\n",
              "      <th>2</th>\n",
              "      <td>28</td>\n",
              "      <td>male</td>\n",
              "      <td>33.000</td>\n",
              "      <td>3</td>\n",
              "      <td>no</td>\n",
              "      <td>southeast</td>\n",
              "      <td>4449.46200</td>\n",
              "    </tr>\n",
              "    <tr>\n",
              "      <th>3</th>\n",
              "      <td>33</td>\n",
              "      <td>male</td>\n",
              "      <td>22.705</td>\n",
              "      <td>0</td>\n",
              "      <td>no</td>\n",
              "      <td>northwest</td>\n",
              "      <td>21984.47061</td>\n",
              "    </tr>\n",
              "    <tr>\n",
              "      <th>4</th>\n",
              "      <td>32</td>\n",
              "      <td>male</td>\n",
              "      <td>28.880</td>\n",
              "      <td>0</td>\n",
              "      <td>no</td>\n",
              "      <td>northwest</td>\n",
              "      <td>3866.85520</td>\n",
              "    </tr>\n",
              "  </tbody>\n",
              "</table>\n",
              "</div>"
            ],
            "text/plain": [
              "   age     sex     bmi  children smoker     region      charges\n",
              "0   19  female  27.900         0    yes  southwest  16884.92400\n",
              "1   18    male  33.770         1     no  southeast   1725.55230\n",
              "2   28    male  33.000         3     no  southeast   4449.46200\n",
              "3   33    male  22.705         0     no  northwest  21984.47061\n",
              "4   32    male  28.880         0     no  northwest   3866.85520"
            ]
          },
          "metadata": {
            "tags": []
          },
          "execution_count": 5
        }
      ]
    },
    {
      "cell_type": "code",
      "metadata": {
        "colab": {
          "base_uri": "https://localhost:8080/",
          "height": 297
        },
        "id": "x8iRUMnGSY71",
        "outputId": "48b8da5b-1509-40f7-c6f3-de37f5daf9f5"
      },
      "source": [
        "dataset.describe()"
      ],
      "execution_count": null,
      "outputs": [
        {
          "output_type": "execute_result",
          "data": {
            "text/html": [
              "<div>\n",
              "<style scoped>\n",
              "    .dataframe tbody tr th:only-of-type {\n",
              "        vertical-align: middle;\n",
              "    }\n",
              "\n",
              "    .dataframe tbody tr th {\n",
              "        vertical-align: top;\n",
              "    }\n",
              "\n",
              "    .dataframe thead th {\n",
              "        text-align: right;\n",
              "    }\n",
              "</style>\n",
              "<table border=\"1\" class=\"dataframe\">\n",
              "  <thead>\n",
              "    <tr style=\"text-align: right;\">\n",
              "      <th></th>\n",
              "      <th>age</th>\n",
              "      <th>bmi</th>\n",
              "      <th>children</th>\n",
              "      <th>charges</th>\n",
              "    </tr>\n",
              "  </thead>\n",
              "  <tbody>\n",
              "    <tr>\n",
              "      <th>count</th>\n",
              "      <td>1338.000000</td>\n",
              "      <td>1338.000000</td>\n",
              "      <td>1338.000000</td>\n",
              "      <td>1338.000000</td>\n",
              "    </tr>\n",
              "    <tr>\n",
              "      <th>mean</th>\n",
              "      <td>39.207025</td>\n",
              "      <td>30.663397</td>\n",
              "      <td>1.094918</td>\n",
              "      <td>13270.422265</td>\n",
              "    </tr>\n",
              "    <tr>\n",
              "      <th>std</th>\n",
              "      <td>14.049960</td>\n",
              "      <td>6.098187</td>\n",
              "      <td>1.205493</td>\n",
              "      <td>12110.011237</td>\n",
              "    </tr>\n",
              "    <tr>\n",
              "      <th>min</th>\n",
              "      <td>18.000000</td>\n",
              "      <td>15.960000</td>\n",
              "      <td>0.000000</td>\n",
              "      <td>1121.873900</td>\n",
              "    </tr>\n",
              "    <tr>\n",
              "      <th>25%</th>\n",
              "      <td>27.000000</td>\n",
              "      <td>26.296250</td>\n",
              "      <td>0.000000</td>\n",
              "      <td>4740.287150</td>\n",
              "    </tr>\n",
              "    <tr>\n",
              "      <th>50%</th>\n",
              "      <td>39.000000</td>\n",
              "      <td>30.400000</td>\n",
              "      <td>1.000000</td>\n",
              "      <td>9382.033000</td>\n",
              "    </tr>\n",
              "    <tr>\n",
              "      <th>75%</th>\n",
              "      <td>51.000000</td>\n",
              "      <td>34.693750</td>\n",
              "      <td>2.000000</td>\n",
              "      <td>16639.912515</td>\n",
              "    </tr>\n",
              "    <tr>\n",
              "      <th>max</th>\n",
              "      <td>64.000000</td>\n",
              "      <td>53.130000</td>\n",
              "      <td>5.000000</td>\n",
              "      <td>63770.428010</td>\n",
              "    </tr>\n",
              "  </tbody>\n",
              "</table>\n",
              "</div>"
            ],
            "text/plain": [
              "               age          bmi     children       charges\n",
              "count  1338.000000  1338.000000  1338.000000   1338.000000\n",
              "mean     39.207025    30.663397     1.094918  13270.422265\n",
              "std      14.049960     6.098187     1.205493  12110.011237\n",
              "min      18.000000    15.960000     0.000000   1121.873900\n",
              "25%      27.000000    26.296250     0.000000   4740.287150\n",
              "50%      39.000000    30.400000     1.000000   9382.033000\n",
              "75%      51.000000    34.693750     2.000000  16639.912515\n",
              "max      64.000000    53.130000     5.000000  63770.428010"
            ]
          },
          "metadata": {
            "tags": []
          },
          "execution_count": 6
        }
      ]
    },
    {
      "cell_type": "code",
      "metadata": {
        "colab": {
          "base_uri": "https://localhost:8080/"
        },
        "id": "y8gfOS1DSaXB",
        "outputId": "0717e469-3201-4795-d209-5875d8758532"
      },
      "source": [
        "dataset.dtypes"
      ],
      "execution_count": null,
      "outputs": [
        {
          "output_type": "execute_result",
          "data": {
            "text/plain": [
              "age           int64\n",
              "sex          object\n",
              "bmi         float64\n",
              "children      int64\n",
              "smoker       object\n",
              "region       object\n",
              "charges     float64\n",
              "dtype: object"
            ]
          },
          "metadata": {
            "tags": []
          },
          "execution_count": 7
        }
      ]
    },
    {
      "cell_type": "code",
      "metadata": {
        "colab": {
          "base_uri": "https://localhost:8080/"
        },
        "id": "-Y1D35JvSb10",
        "outputId": "80e15b46-fb0c-4a8a-95a5-419720f5259a"
      },
      "source": [
        "dataset.isnull().sum()"
      ],
      "execution_count": null,
      "outputs": [
        {
          "output_type": "execute_result",
          "data": {
            "text/plain": [
              "age         0\n",
              "sex         0\n",
              "bmi         0\n",
              "children    0\n",
              "smoker      0\n",
              "region      0\n",
              "charges     0\n",
              "dtype: int64"
            ]
          },
          "metadata": {
            "tags": []
          },
          "execution_count": 8
        }
      ]
    },
    {
      "cell_type": "markdown",
      "metadata": {
        "id": "9CnqA5Uzo9x9"
      },
      "source": [
        "# **Preprocessing**"
      ]
    },
    {
      "cell_type": "markdown",
      "metadata": {
        "id": "KC0G5-Rb0z0E"
      },
      "source": [
        "**Adding BMI Groups**"
      ]
    },
    {
      "cell_type": "code",
      "metadata": {
        "colab": {
          "base_uri": "https://localhost:8080/",
          "height": 204
        },
        "id": "AByPofrsSkjI",
        "outputId": "89cf159b-1e1d-4d72-b2b0-3d985c68dccf"
      },
      "source": [
        "conditions = [\n",
        "    (dataset['bmi'] < 18.5) ,\n",
        "    (dataset['bmi'] <= 24.9) & (dataset['bmi'] >= 18.5),\n",
        "    (dataset['bmi'] <= 29.9) & (dataset['bmi'] > 24.9),\n",
        "    (dataset['bmi'] > 29.9),\n",
        "]\n",
        "\n",
        "\n",
        "\n",
        "\n",
        "choices = ['underweight', 'normal', 'overweight', 'obese']\n",
        "\n",
        "\n",
        "dataset[\"bmiGps\"] = np.select(condlist=conditions, choicelist=choices)\n",
        "# dataset.drop([\"bmi\"], axis=1, inplace=True)\n",
        "dataset.head()"
      ],
      "execution_count": null,
      "outputs": [
        {
          "output_type": "execute_result",
          "data": {
            "text/html": [
              "<div>\n",
              "<style scoped>\n",
              "    .dataframe tbody tr th:only-of-type {\n",
              "        vertical-align: middle;\n",
              "    }\n",
              "\n",
              "    .dataframe tbody tr th {\n",
              "        vertical-align: top;\n",
              "    }\n",
              "\n",
              "    .dataframe thead th {\n",
              "        text-align: right;\n",
              "    }\n",
              "</style>\n",
              "<table border=\"1\" class=\"dataframe\">\n",
              "  <thead>\n",
              "    <tr style=\"text-align: right;\">\n",
              "      <th></th>\n",
              "      <th>age</th>\n",
              "      <th>sex</th>\n",
              "      <th>bmi</th>\n",
              "      <th>children</th>\n",
              "      <th>smoker</th>\n",
              "      <th>region</th>\n",
              "      <th>charges</th>\n",
              "      <th>bmiGps</th>\n",
              "    </tr>\n",
              "  </thead>\n",
              "  <tbody>\n",
              "    <tr>\n",
              "      <th>0</th>\n",
              "      <td>19</td>\n",
              "      <td>female</td>\n",
              "      <td>27.900</td>\n",
              "      <td>0</td>\n",
              "      <td>yes</td>\n",
              "      <td>southwest</td>\n",
              "      <td>16884.92400</td>\n",
              "      <td>overweight</td>\n",
              "    </tr>\n",
              "    <tr>\n",
              "      <th>1</th>\n",
              "      <td>18</td>\n",
              "      <td>male</td>\n",
              "      <td>33.770</td>\n",
              "      <td>1</td>\n",
              "      <td>no</td>\n",
              "      <td>southeast</td>\n",
              "      <td>1725.55230</td>\n",
              "      <td>obese</td>\n",
              "    </tr>\n",
              "    <tr>\n",
              "      <th>2</th>\n",
              "      <td>28</td>\n",
              "      <td>male</td>\n",
              "      <td>33.000</td>\n",
              "      <td>3</td>\n",
              "      <td>no</td>\n",
              "      <td>southeast</td>\n",
              "      <td>4449.46200</td>\n",
              "      <td>obese</td>\n",
              "    </tr>\n",
              "    <tr>\n",
              "      <th>3</th>\n",
              "      <td>33</td>\n",
              "      <td>male</td>\n",
              "      <td>22.705</td>\n",
              "      <td>0</td>\n",
              "      <td>no</td>\n",
              "      <td>northwest</td>\n",
              "      <td>21984.47061</td>\n",
              "      <td>normal</td>\n",
              "    </tr>\n",
              "    <tr>\n",
              "      <th>4</th>\n",
              "      <td>32</td>\n",
              "      <td>male</td>\n",
              "      <td>28.880</td>\n",
              "      <td>0</td>\n",
              "      <td>no</td>\n",
              "      <td>northwest</td>\n",
              "      <td>3866.85520</td>\n",
              "      <td>overweight</td>\n",
              "    </tr>\n",
              "  </tbody>\n",
              "</table>\n",
              "</div>"
            ],
            "text/plain": [
              "   age     sex     bmi  children smoker     region      charges      bmiGps\n",
              "0   19  female  27.900         0    yes  southwest  16884.92400  overweight\n",
              "1   18    male  33.770         1     no  southeast   1725.55230       obese\n",
              "2   28    male  33.000         3     no  southeast   4449.46200       obese\n",
              "3   33    male  22.705         0     no  northwest  21984.47061      normal\n",
              "4   32    male  28.880         0     no  northwest   3866.85520  overweight"
            ]
          },
          "metadata": {
            "tags": []
          },
          "execution_count": 7
        }
      ]
    },
    {
      "cell_type": "markdown",
      "metadata": {
        "id": "AT9EWutW04s5"
      },
      "source": [
        "**Adding Age Groups**"
      ]
    },
    {
      "cell_type": "code",
      "metadata": {
        "colab": {
          "base_uri": "https://localhost:8080/",
          "height": 204
        },
        "id": "hT9F-Wr9CJ67",
        "outputId": "92240265-9e7e-4b80-a262-0a2f0a9655df"
      },
      "source": [
        "ageconditions = [\n",
        "    (dataset['age'] <= 35) & (dataset['age'] >= 18),\n",
        "    (dataset['age'] <= 55) & (dataset['age'] > 35),\n",
        "    (dataset['age'] > 55),\n",
        "]\n",
        "\n",
        "\n",
        "\n",
        "\n",
        "agechoices = ['young-adults', 'middle-aged-adults', 'elder-adults']\n",
        "\n",
        "\n",
        "dataset[\"ageGps\"] = np.select(condlist=ageconditions, choicelist=agechoices)\n",
        "# dataset.drop([\"bmi\"], axis=1, inplace=True)\n",
        "dataset.head()"
      ],
      "execution_count": null,
      "outputs": [
        {
          "output_type": "execute_result",
          "data": {
            "text/html": [
              "<div>\n",
              "<style scoped>\n",
              "    .dataframe tbody tr th:only-of-type {\n",
              "        vertical-align: middle;\n",
              "    }\n",
              "\n",
              "    .dataframe tbody tr th {\n",
              "        vertical-align: top;\n",
              "    }\n",
              "\n",
              "    .dataframe thead th {\n",
              "        text-align: right;\n",
              "    }\n",
              "</style>\n",
              "<table border=\"1\" class=\"dataframe\">\n",
              "  <thead>\n",
              "    <tr style=\"text-align: right;\">\n",
              "      <th></th>\n",
              "      <th>age</th>\n",
              "      <th>sex</th>\n",
              "      <th>bmi</th>\n",
              "      <th>children</th>\n",
              "      <th>smoker</th>\n",
              "      <th>region</th>\n",
              "      <th>charges</th>\n",
              "      <th>bmiGps</th>\n",
              "      <th>ageGps</th>\n",
              "    </tr>\n",
              "  </thead>\n",
              "  <tbody>\n",
              "    <tr>\n",
              "      <th>0</th>\n",
              "      <td>19</td>\n",
              "      <td>female</td>\n",
              "      <td>27.900</td>\n",
              "      <td>0</td>\n",
              "      <td>yes</td>\n",
              "      <td>southwest</td>\n",
              "      <td>16884.92400</td>\n",
              "      <td>overweight</td>\n",
              "      <td>young-adults</td>\n",
              "    </tr>\n",
              "    <tr>\n",
              "      <th>1</th>\n",
              "      <td>18</td>\n",
              "      <td>male</td>\n",
              "      <td>33.770</td>\n",
              "      <td>1</td>\n",
              "      <td>no</td>\n",
              "      <td>southeast</td>\n",
              "      <td>1725.55230</td>\n",
              "      <td>obese</td>\n",
              "      <td>young-adults</td>\n",
              "    </tr>\n",
              "    <tr>\n",
              "      <th>2</th>\n",
              "      <td>28</td>\n",
              "      <td>male</td>\n",
              "      <td>33.000</td>\n",
              "      <td>3</td>\n",
              "      <td>no</td>\n",
              "      <td>southeast</td>\n",
              "      <td>4449.46200</td>\n",
              "      <td>obese</td>\n",
              "      <td>young-adults</td>\n",
              "    </tr>\n",
              "    <tr>\n",
              "      <th>3</th>\n",
              "      <td>33</td>\n",
              "      <td>male</td>\n",
              "      <td>22.705</td>\n",
              "      <td>0</td>\n",
              "      <td>no</td>\n",
              "      <td>northwest</td>\n",
              "      <td>21984.47061</td>\n",
              "      <td>normal</td>\n",
              "      <td>young-adults</td>\n",
              "    </tr>\n",
              "    <tr>\n",
              "      <th>4</th>\n",
              "      <td>32</td>\n",
              "      <td>male</td>\n",
              "      <td>28.880</td>\n",
              "      <td>0</td>\n",
              "      <td>no</td>\n",
              "      <td>northwest</td>\n",
              "      <td>3866.85520</td>\n",
              "      <td>overweight</td>\n",
              "      <td>young-adults</td>\n",
              "    </tr>\n",
              "  </tbody>\n",
              "</table>\n",
              "</div>"
            ],
            "text/plain": [
              "   age     sex     bmi  ...      charges      bmiGps        ageGps\n",
              "0   19  female  27.900  ...  16884.92400  overweight  young-adults\n",
              "1   18    male  33.770  ...   1725.55230       obese  young-adults\n",
              "2   28    male  33.000  ...   4449.46200       obese  young-adults\n",
              "3   33    male  22.705  ...  21984.47061      normal  young-adults\n",
              "4   32    male  28.880  ...   3866.85520  overweight  young-adults\n",
              "\n",
              "[5 rows x 9 columns]"
            ]
          },
          "metadata": {
            "tags": []
          },
          "execution_count": 8
        }
      ]
    },
    {
      "cell_type": "markdown",
      "metadata": {
        "id": "joWIICNx0sG0"
      },
      "source": [
        "**Using Label Encoder for Categorical Features**"
      ]
    },
    {
      "cell_type": "code",
      "metadata": {
        "colab": {
          "base_uri": "https://localhost:8080/",
          "height": 204
        },
        "id": "G1-xTjvETD8j",
        "outputId": "f6d7378e-c46c-43e5-a292-8bc7bdc868dc"
      },
      "source": [
        "#sex\n",
        "le = LabelEncoder()\n",
        "leRegion = LabelEncoder()\n",
        "le.fit(dataset.sex.drop_duplicates())\n",
        "dataset.sex = le.transform(dataset.sex)\n",
        "# smoker\n",
        "le.fit(dataset.smoker.drop_duplicates())\n",
        "dataset.smoker = le.transform(dataset.smoker)\n",
        "#region\n",
        "leRegion.fit(dataset.region.drop_duplicates())\n",
        "dataset.region = leRegion.transform(dataset.region)\n",
        "#BMI Groups\n",
        "le.fit(dataset.bmiGps.drop_duplicates())\n",
        "dataset.bmiGps = le.transform(dataset.bmiGps)\n",
        "#age Groups\n",
        "le.fit(dataset.ageGps.drop_duplicates())\n",
        "dataset.ageGps = le.transform(dataset.ageGps)\n",
        "dataset.head()\n"
      ],
      "execution_count": null,
      "outputs": [
        {
          "output_type": "execute_result",
          "data": {
            "text/html": [
              "<div>\n",
              "<style scoped>\n",
              "    .dataframe tbody tr th:only-of-type {\n",
              "        vertical-align: middle;\n",
              "    }\n",
              "\n",
              "    .dataframe tbody tr th {\n",
              "        vertical-align: top;\n",
              "    }\n",
              "\n",
              "    .dataframe thead th {\n",
              "        text-align: right;\n",
              "    }\n",
              "</style>\n",
              "<table border=\"1\" class=\"dataframe\">\n",
              "  <thead>\n",
              "    <tr style=\"text-align: right;\">\n",
              "      <th></th>\n",
              "      <th>age</th>\n",
              "      <th>sex</th>\n",
              "      <th>bmi</th>\n",
              "      <th>children</th>\n",
              "      <th>smoker</th>\n",
              "      <th>region</th>\n",
              "      <th>charges</th>\n",
              "      <th>bmiGps</th>\n",
              "      <th>ageGps</th>\n",
              "    </tr>\n",
              "  </thead>\n",
              "  <tbody>\n",
              "    <tr>\n",
              "      <th>0</th>\n",
              "      <td>19</td>\n",
              "      <td>0</td>\n",
              "      <td>27.900</td>\n",
              "      <td>0</td>\n",
              "      <td>1</td>\n",
              "      <td>3</td>\n",
              "      <td>16884.92400</td>\n",
              "      <td>2</td>\n",
              "      <td>2</td>\n",
              "    </tr>\n",
              "    <tr>\n",
              "      <th>1</th>\n",
              "      <td>18</td>\n",
              "      <td>1</td>\n",
              "      <td>33.770</td>\n",
              "      <td>1</td>\n",
              "      <td>0</td>\n",
              "      <td>2</td>\n",
              "      <td>1725.55230</td>\n",
              "      <td>1</td>\n",
              "      <td>2</td>\n",
              "    </tr>\n",
              "    <tr>\n",
              "      <th>2</th>\n",
              "      <td>28</td>\n",
              "      <td>1</td>\n",
              "      <td>33.000</td>\n",
              "      <td>3</td>\n",
              "      <td>0</td>\n",
              "      <td>2</td>\n",
              "      <td>4449.46200</td>\n",
              "      <td>1</td>\n",
              "      <td>2</td>\n",
              "    </tr>\n",
              "    <tr>\n",
              "      <th>3</th>\n",
              "      <td>33</td>\n",
              "      <td>1</td>\n",
              "      <td>22.705</td>\n",
              "      <td>0</td>\n",
              "      <td>0</td>\n",
              "      <td>1</td>\n",
              "      <td>21984.47061</td>\n",
              "      <td>0</td>\n",
              "      <td>2</td>\n",
              "    </tr>\n",
              "    <tr>\n",
              "      <th>4</th>\n",
              "      <td>32</td>\n",
              "      <td>1</td>\n",
              "      <td>28.880</td>\n",
              "      <td>0</td>\n",
              "      <td>0</td>\n",
              "      <td>1</td>\n",
              "      <td>3866.85520</td>\n",
              "      <td>2</td>\n",
              "      <td>2</td>\n",
              "    </tr>\n",
              "  </tbody>\n",
              "</table>\n",
              "</div>"
            ],
            "text/plain": [
              "   age  sex     bmi  children  smoker  region      charges  bmiGps  ageGps\n",
              "0   19    0  27.900         0       1       3  16884.92400       2       2\n",
              "1   18    1  33.770         1       0       2   1725.55230       1       2\n",
              "2   28    1  33.000         3       0       2   4449.46200       1       2\n",
              "3   33    1  22.705         0       0       1  21984.47061       0       2\n",
              "4   32    1  28.880         0       0       1   3866.85520       2       2"
            ]
          },
          "metadata": {
            "tags": []
          },
          "execution_count": 9
        }
      ]
    },
    {
      "cell_type": "markdown",
      "metadata": {
        "id": "DYeYOQM108LJ"
      },
      "source": [
        "**Normalizing Data**"
      ]
    },
    {
      "cell_type": "code",
      "metadata": {
        "colab": {
          "base_uri": "https://localhost:8080/",
          "height": 204
        },
        "id": "xUh4z0BpTTX5",
        "outputId": "7f79c4cc-32ba-442c-f57b-fbfc37155f4c"
      },
      "source": [
        "scaler = preprocessing.MinMaxScaler()\n",
        "names = dataset.columns\n",
        "d = scaler.fit_transform(dataset)\n",
        "scaled_df = pd.DataFrame(d, columns=names)\n",
        "scaled_df.head()"
      ],
      "execution_count": null,
      "outputs": [
        {
          "output_type": "execute_result",
          "data": {
            "text/html": [
              "<div>\n",
              "<style scoped>\n",
              "    .dataframe tbody tr th:only-of-type {\n",
              "        vertical-align: middle;\n",
              "    }\n",
              "\n",
              "    .dataframe tbody tr th {\n",
              "        vertical-align: top;\n",
              "    }\n",
              "\n",
              "    .dataframe thead th {\n",
              "        text-align: right;\n",
              "    }\n",
              "</style>\n",
              "<table border=\"1\" class=\"dataframe\">\n",
              "  <thead>\n",
              "    <tr style=\"text-align: right;\">\n",
              "      <th></th>\n",
              "      <th>age</th>\n",
              "      <th>sex</th>\n",
              "      <th>bmi</th>\n",
              "      <th>children</th>\n",
              "      <th>smoker</th>\n",
              "      <th>region</th>\n",
              "      <th>charges</th>\n",
              "      <th>bmiGps</th>\n",
              "      <th>ageGps</th>\n",
              "    </tr>\n",
              "  </thead>\n",
              "  <tbody>\n",
              "    <tr>\n",
              "      <th>0</th>\n",
              "      <td>0.021739</td>\n",
              "      <td>0.0</td>\n",
              "      <td>0.321227</td>\n",
              "      <td>0.0</td>\n",
              "      <td>1.0</td>\n",
              "      <td>1.000000</td>\n",
              "      <td>0.251611</td>\n",
              "      <td>0.666667</td>\n",
              "      <td>1.0</td>\n",
              "    </tr>\n",
              "    <tr>\n",
              "      <th>1</th>\n",
              "      <td>0.000000</td>\n",
              "      <td>1.0</td>\n",
              "      <td>0.479150</td>\n",
              "      <td>0.2</td>\n",
              "      <td>0.0</td>\n",
              "      <td>0.666667</td>\n",
              "      <td>0.009636</td>\n",
              "      <td>0.333333</td>\n",
              "      <td>1.0</td>\n",
              "    </tr>\n",
              "    <tr>\n",
              "      <th>2</th>\n",
              "      <td>0.217391</td>\n",
              "      <td>1.0</td>\n",
              "      <td>0.458434</td>\n",
              "      <td>0.6</td>\n",
              "      <td>0.0</td>\n",
              "      <td>0.666667</td>\n",
              "      <td>0.053115</td>\n",
              "      <td>0.333333</td>\n",
              "      <td>1.0</td>\n",
              "    </tr>\n",
              "    <tr>\n",
              "      <th>3</th>\n",
              "      <td>0.326087</td>\n",
              "      <td>1.0</td>\n",
              "      <td>0.181464</td>\n",
              "      <td>0.0</td>\n",
              "      <td>0.0</td>\n",
              "      <td>0.333333</td>\n",
              "      <td>0.333010</td>\n",
              "      <td>0.000000</td>\n",
              "      <td>1.0</td>\n",
              "    </tr>\n",
              "    <tr>\n",
              "      <th>4</th>\n",
              "      <td>0.304348</td>\n",
              "      <td>1.0</td>\n",
              "      <td>0.347592</td>\n",
              "      <td>0.0</td>\n",
              "      <td>0.0</td>\n",
              "      <td>0.333333</td>\n",
              "      <td>0.043816</td>\n",
              "      <td>0.666667</td>\n",
              "      <td>1.0</td>\n",
              "    </tr>\n",
              "  </tbody>\n",
              "</table>\n",
              "</div>"
            ],
            "text/plain": [
              "        age  sex       bmi  children  ...    region   charges    bmiGps  ageGps\n",
              "0  0.021739  0.0  0.321227       0.0  ...  1.000000  0.251611  0.666667     1.0\n",
              "1  0.000000  1.0  0.479150       0.2  ...  0.666667  0.009636  0.333333     1.0\n",
              "2  0.217391  1.0  0.458434       0.6  ...  0.666667  0.053115  0.333333     1.0\n",
              "3  0.326087  1.0  0.181464       0.0  ...  0.333333  0.333010  0.000000     1.0\n",
              "4  0.304348  1.0  0.347592       0.0  ...  0.333333  0.043816  0.666667     1.0\n",
              "\n",
              "[5 rows x 9 columns]"
            ]
          },
          "metadata": {
            "tags": []
          },
          "execution_count": 10
        }
      ]
    },
    {
      "cell_type": "markdown",
      "metadata": {
        "id": "VsxloadZpBBo"
      },
      "source": [
        "# **Splitting Data into Train and Test Sets**"
      ]
    },
    {
      "cell_type": "code",
      "metadata": {
        "id": "lUCu7NbOTane"
      },
      "source": [
        "X = scaled_df.drop([\"charges\"], axis=1)\n",
        "\n",
        "y = scaled_df.charges.values"
      ],
      "execution_count": null,
      "outputs": []
    },
    {
      "cell_type": "code",
      "metadata": {
        "id": "hWN4gxQcTc1a"
      },
      "source": [
        "train_features, test_features, train_labels, test_labels = train_test_split(X, y, test_size=0.2, random_state=0)"
      ],
      "execution_count": null,
      "outputs": []
    },
    {
      "cell_type": "code",
      "metadata": {
        "colab": {
          "base_uri": "https://localhost:8080/"
        },
        "id": "HXTmcWI3TfBy",
        "outputId": "43f852b5-abf7-45ce-f19c-96cdd4806fe9"
      },
      "source": [
        "print('Training Features Shape:', train_features.shape)\n",
        "print('Training Labels Shape:', train_labels.shape)\n",
        "print('Testing Features Shape:', test_features.shape)\n",
        "print('Testing Labels Shape:', test_labels.shape)"
      ],
      "execution_count": null,
      "outputs": [
        {
          "output_type": "stream",
          "text": [
            "Training Features Shape: (1070, 8)\n",
            "Training Labels Shape: (1070,)\n",
            "Testing Features Shape: (268, 8)\n",
            "Testing Labels Shape: (268,)\n"
          ],
          "name": "stdout"
        }
      ]
    },
    {
      "cell_type": "markdown",
      "metadata": {
        "id": "c88UZx9XuLNY"
      },
      "source": [
        "# **Linear Regression Using Statsmodels Library**\n",
        "\n",
        "\n",
        "[https://towardsdatascience.com/simple-and-multiple-linear-regression-in-python-c928425168f9](https://)\n",
        "\n"
      ]
    },
    {
      "cell_type": "code",
      "metadata": {
        "colab": {
          "base_uri": "https://localhost:8080/"
        },
        "id": "XelZnW2fsPrz",
        "outputId": "84a22204-c132-4613-aef4-7c679a461724"
      },
      "source": [
        "# Add an intercept (beta_0) to our model(Like scikit)\n",
        "train_features_stats = sm.add_constant(train_features)\n",
        "test_features_stats = sm.add_constant(test_features)\n",
        "olsScores=[]\n",
        "statmodel = sm.OLS(train_labels, train_features_stats).fit()\n",
        "statmodel.summary()\n",
        "rtwoTrain = r2_score(train_labels, statmodel.predict(train_features_stats))\n",
        "olsScores.append(rtwoTrain)\n",
        "mseTrain = mean_squared_error(statmodel.predict(train_features_stats),train_labels)\n",
        "olsScores.append(mseTrain)\n",
        "rtwo = r2_score(test_labels, statmodel.predict(test_features_stats))\n",
        "olsScores.append(rtwo)\n",
        "mse = mean_squared_error(statmodel.predict(test_features_stats),test_labels)\n",
        "olsScores.append(mse)\n",
        "print('>OLS =>  r2_score_Train: %.5f , MSE_Train: %.5f , r2_score_Test: %.5f , MSE_Test: %.5f' % (olsScores[0], olsScores[1], olsScores[2], olsScores[3]))"
      ],
      "execution_count": null,
      "outputs": [
        {
          "output_type": "stream",
          "text": [
            ">OLS =>  r2_score_Train: 0.73720 , MSE_Train: 0.00960 , r2_score_Test: 0.80046 , MSE_Test: 0.00809\n"
          ],
          "name": "stdout"
        }
      ]
    },
    {
      "cell_type": "code",
      "metadata": {
        "colab": {
          "base_uri": "https://localhost:8080/",
          "height": 591
        },
        "id": "NnzM0DjfsTWe",
        "outputId": "e9fcc48b-fc95-41c9-d1d7-4e5076d8cb25"
      },
      "source": [
        "statmodel.summary()"
      ],
      "execution_count": null,
      "outputs": [
        {
          "output_type": "execute_result",
          "data": {
            "text/html": [
              "<table class=\"simpletable\">\n",
              "<caption>OLS Regression Results</caption>\n",
              "<tr>\n",
              "  <th>Dep. Variable:</th>            <td>y</td>        <th>  R-squared:         </th> <td>   0.737</td> \n",
              "</tr>\n",
              "<tr>\n",
              "  <th>Model:</th>                   <td>OLS</td>       <th>  Adj. R-squared:    </th> <td>   0.735</td> \n",
              "</tr>\n",
              "<tr>\n",
              "  <th>Method:</th>             <td>Least Squares</td>  <th>  F-statistic:       </th> <td>   372.0</td> \n",
              "</tr>\n",
              "<tr>\n",
              "  <th>Date:</th>             <td>Mon, 24 May 2021</td> <th>  Prob (F-statistic):</th> <td>1.30e-301</td>\n",
              "</tr>\n",
              "<tr>\n",
              "  <th>Time:</th>                 <td>14:16:52</td>     <th>  Log-Likelihood:    </th> <td>  967.37</td> \n",
              "</tr>\n",
              "<tr>\n",
              "  <th>No. Observations:</th>      <td>  1070</td>      <th>  AIC:               </th> <td>  -1917.</td> \n",
              "</tr>\n",
              "<tr>\n",
              "  <th>Df Residuals:</th>          <td>  1061</td>      <th>  BIC:               </th> <td>  -1872.</td> \n",
              "</tr>\n",
              "<tr>\n",
              "  <th>Df Model:</th>              <td>     8</td>      <th>                     </th>     <td> </td>    \n",
              "</tr>\n",
              "<tr>\n",
              "  <th>Covariance Type:</th>      <td>nonrobust</td>    <th>                     </th>     <td> </td>    \n",
              "</tr>\n",
              "</table>\n",
              "<table class=\"simpletable\">\n",
              "<tr>\n",
              "      <td></td>        <th>coef</th>     <th>std err</th>      <th>t</th>      <th>P>|t|</th>  <th>[0.025</th>    <th>0.975]</th>  \n",
              "</tr>\n",
              "<tr>\n",
              "  <th>const</th>    <td>   -0.0472</td> <td>    0.026</td> <td>   -1.782</td> <td> 0.075</td> <td>   -0.099</td> <td>    0.005</td>\n",
              "</tr>\n",
              "<tr>\n",
              "  <th>age</th>      <td>    0.1921</td> <td>    0.026</td> <td>    7.495</td> <td> 0.000</td> <td>    0.142</td> <td>    0.242</td>\n",
              "</tr>\n",
              "<tr>\n",
              "  <th>sex</th>      <td>   -0.0004</td> <td>    0.006</td> <td>   -0.060</td> <td> 0.952</td> <td>   -0.012</td> <td>    0.011</td>\n",
              "</tr>\n",
              "<tr>\n",
              "  <th>bmi</th>      <td>    0.1950</td> <td>    0.018</td> <td>   10.582</td> <td> 0.000</td> <td>    0.159</td> <td>    0.231</td>\n",
              "</tr>\n",
              "<tr>\n",
              "  <th>children</th> <td>    0.0346</td> <td>    0.013</td> <td>    2.738</td> <td> 0.006</td> <td>    0.010</td> <td>    0.059</td>\n",
              "</tr>\n",
              "<tr>\n",
              "  <th>smoker</th>   <td>    0.3760</td> <td>    0.007</td> <td>   50.247</td> <td> 0.000</td> <td>    0.361</td> <td>    0.391</td>\n",
              "</tr>\n",
              "<tr>\n",
              "  <th>region</th>   <td>   -0.0139</td> <td>    0.008</td> <td>   -1.682</td> <td> 0.093</td> <td>   -0.030</td> <td>    0.002</td>\n",
              "</tr>\n",
              "<tr>\n",
              "  <th>bmiGps</th>   <td>   -0.0154</td> <td>    0.013</td> <td>   -1.195</td> <td> 0.232</td> <td>   -0.041</td> <td>    0.010</td>\n",
              "</tr>\n",
              "<tr>\n",
              "  <th>ageGps</th>   <td>    0.0052</td> <td>    0.022</td> <td>    0.236</td> <td> 0.813</td> <td>   -0.038</td> <td>    0.048</td>\n",
              "</tr>\n",
              "</table>\n",
              "<table class=\"simpletable\">\n",
              "<tr>\n",
              "  <th>Omnibus:</th>       <td>253.812</td> <th>  Durbin-Watson:     </th> <td>   1.997</td> \n",
              "</tr>\n",
              "<tr>\n",
              "  <th>Prob(Omnibus):</th> <td> 0.000</td>  <th>  Jarque-Bera (JB):  </th> <td> 609.504</td> \n",
              "</tr>\n",
              "<tr>\n",
              "  <th>Skew:</th>          <td> 1.266</td>  <th>  Prob(JB):          </th> <td>4.45e-133</td>\n",
              "</tr>\n",
              "<tr>\n",
              "  <th>Kurtosis:</th>      <td> 5.694</td>  <th>  Cond. No.          </th> <td>    22.2</td> \n",
              "</tr>\n",
              "</table><br/><br/>Warnings:<br/>[1] Standard Errors assume that the covariance matrix of the errors is correctly specified."
            ],
            "text/plain": [
              "<class 'statsmodels.iolib.summary.Summary'>\n",
              "\"\"\"\n",
              "                            OLS Regression Results                            \n",
              "==============================================================================\n",
              "Dep. Variable:                      y   R-squared:                       0.737\n",
              "Model:                            OLS   Adj. R-squared:                  0.735\n",
              "Method:                 Least Squares   F-statistic:                     372.0\n",
              "Date:                Mon, 24 May 2021   Prob (F-statistic):          1.30e-301\n",
              "Time:                        14:16:52   Log-Likelihood:                 967.37\n",
              "No. Observations:                1070   AIC:                            -1917.\n",
              "Df Residuals:                    1061   BIC:                            -1872.\n",
              "Df Model:                           8                                         \n",
              "Covariance Type:            nonrobust                                         \n",
              "==============================================================================\n",
              "                 coef    std err          t      P>|t|      [0.025      0.975]\n",
              "------------------------------------------------------------------------------\n",
              "const         -0.0472      0.026     -1.782      0.075      -0.099       0.005\n",
              "age            0.1921      0.026      7.495      0.000       0.142       0.242\n",
              "sex           -0.0004      0.006     -0.060      0.952      -0.012       0.011\n",
              "bmi            0.1950      0.018     10.582      0.000       0.159       0.231\n",
              "children       0.0346      0.013      2.738      0.006       0.010       0.059\n",
              "smoker         0.3760      0.007     50.247      0.000       0.361       0.391\n",
              "region        -0.0139      0.008     -1.682      0.093      -0.030       0.002\n",
              "bmiGps        -0.0154      0.013     -1.195      0.232      -0.041       0.010\n",
              "ageGps         0.0052      0.022      0.236      0.813      -0.038       0.048\n",
              "==============================================================================\n",
              "Omnibus:                      253.812   Durbin-Watson:                   1.997\n",
              "Prob(Omnibus):                  0.000   Jarque-Bera (JB):              609.504\n",
              "Skew:                           1.266   Prob(JB):                    4.45e-133\n",
              "Kurtosis:                       5.694   Cond. No.                         22.2\n",
              "==============================================================================\n",
              "\n",
              "Warnings:\n",
              "[1] Standard Errors assume that the covariance matrix of the errors is correctly specified.\n",
              "\"\"\""
            ]
          },
          "metadata": {
            "tags": []
          },
          "execution_count": 22
        }
      ]
    },
    {
      "cell_type": "markdown",
      "metadata": {
        "id": "1-oV7dhwyagC"
      },
      "source": [
        "**PLS**"
      ]
    },
    {
      "cell_type": "code",
      "metadata": {
        "colab": {
          "base_uri": "https://localhost:8080/"
        },
        "id": "NEMEX2OfwXuK",
        "outputId": "329dbd74-1e91-4fa8-d91b-66bfc814920b"
      },
      "source": [
        "from sklearn.cross_decomposition import PLSRegression\n",
        "plsscores=[]\n",
        "pls = PLSRegression(n_components=1)\n",
        "pls.fit(train_features, train_labels)\n",
        "rtwoTrain = r2_score(train_labels, pls.predict(train_features))\n",
        "plsscores.append(rtwoTrain)\n",
        "mseTrain = mean_squared_error(pls.predict(train_features),train_labels)\n",
        "plsscores.append(mseTrain)\n",
        "rtwo = r2_score(test_labels, pls.predict(test_features))\n",
        "plsscores.append(rtwo)\n",
        "mse = mean_squared_error(pls.predict(test_features),test_labels)\n",
        "plsscores.append(mse)\n",
        "print('>non-linear Stacking =>  r2_score_Train: %.5f , MSE_Train: %.5f , r2_score_Test: %.5f , MSE_Test: %.5f' % (plsscores[0], plsscores[1], plsscores[2], plsscores[3]))"
      ],
      "execution_count": null,
      "outputs": [
        {
          "output_type": "stream",
          "text": [
            ">PLS =>  r2_score_Train: 0.69117 , MSE_Train: 0.01128 , r2_score_Test: 0.76546 , MSE_Test: 0.00951\n"
          ],
          "name": "stdout"
        }
      ]
    },
    {
      "cell_type": "markdown",
      "metadata": {
        "id": "Ws4hkqoQpGpt"
      },
      "source": [
        "# **Defining Models and Evaluation Methods**"
      ]
    },
    {
      "cell_type": "code",
      "metadata": {
        "colab": {
          "base_uri": "https://localhost:8080/"
        },
        "id": "MpFl4jr1FzBh",
        "outputId": "595b223e-d6ae-45f4-a972-e803d948cb90"
      },
      "source": [
        "from sklearn.tree import DecisionTreeRegressor\n",
        "level0 = list()\n",
        "nonlScores=[]\n",
        "level0.append(('rf', RandomForestRegressor(max_depth= 5, n_estimators=1000)))\n",
        "level0.append(('linear',LinearRegression()))\n",
        "level0.append(('knn', KNeighborsRegressor()))\n",
        "level0.append(('catboost', ctb.CatBoostRegressor(verbose=False, depth = 4, iterations=200, l2_leaf_reg= 0.2, learning_rate= 0.03)))\n",
        "# define meta learner model\n",
        "level1 = KNeighborsRegressor()\n",
        "# define the stacking ensemble\n",
        "model = StackingRegressor(estimators=level0, final_estimator=level1, cv=5)\n",
        "cv = RepeatedKFold(n_splits=10, n_repeats=3, random_state=1)\n",
        "crossRes = cross_val_score(model, train_features, train_labels, scoring='r2', cv=cv, n_jobs=-1, error_score='raise')\n",
        "nonlScores.append(mean(crossRes))\n",
        "model.fit(train_features, train_labels)\n",
        "rtwo_Train = r2_score(train_labels, model.predict(train_features))\n",
        "nonlScores.append(rtwo_Train)\n",
        "mse_Train = mean_squared_error(model.predict(train_features),train_labels)\n",
        "nonlScores.append(mse_Train)\n",
        "rtwo = r2_score(test_labels, model.predict(test_features))\n",
        "nonlScores.append(rtwo)\n",
        "mse = mean_squared_error(model.predict(test_features),test_labels)\n",
        "nonlScores.append(mse)\n",
        "print('>non-linear Stacking => cross_val_score: %.5f , r2_score_Train: %.5f , MSE_Train: %.5f , r2_score_Test: %.5f , MSE_Test: %.5f' % (nonlScores[0], nonlScores[1], nonlScores[2] , nonlScores[3], nonlScores[4],))"
      ],
      "execution_count": null,
      "outputs": [
        {
          "output_type": "stream",
          "text": [
            ">non-linear Stacking => cross_val_score: 0.80536 , r2_score_Train: 0.84576 , MSE_Train: 0.00563 , r2_score_Test: 0.86839 , MSE_Test: 0.00534\n"
          ],
          "name": "stdout"
        }
      ]
    },
    {
      "cell_type": "code",
      "metadata": {
        "id": "N0s4W-KbZKgx"
      },
      "source": [
        "def get_stacking():\n",
        "  level0 = list()\n",
        "  level0.append(('rf', RandomForestRegressor(max_depth= 5, n_estimators=1000)))\n",
        "  level0.append(('linear',LinearRegression()))\n",
        "  level0.append(('knn', KNeighborsRegressor()))\n",
        "  level0.append(('catboost', ctb.CatBoostRegressor(verbose=False, depth = 4, iterations=200, l2_leaf_reg= 0.2, learning_rate= 0.03)))\n",
        "\t# define meta learner model\n",
        "  level1 = LinearRegression()\n",
        "\t# define the stacking ensemble\n",
        "  model = StackingRegressor(estimators=level0, final_estimator=level1, cv=5)\n",
        "  return model"
      ],
      "execution_count": null,
      "outputs": []
    },
    {
      "cell_type": "code",
      "metadata": {
        "id": "3p-hj-TJThNS"
      },
      "source": [
        "\n",
        "def evaluate_model(model, train_features, train_labels, test_features, test_labels):\n",
        "  scores =[]\n",
        "  cv = RepeatedKFold(n_splits=10, n_repeats=3, random_state=1)\n",
        "  crossRes = cross_val_score(model, train_features, train_labels, scoring='r2', cv=cv, n_jobs=-1, error_score='raise')\n",
        "  scores.append(mean(crossRes))\n",
        "  model.fit(train_features, train_labels)\n",
        "  rtwoTrain = r2_score(train_labels, model.predict(train_features))\n",
        "  scores.append(rtwoTrain)\n",
        "  mseTrain = mean_squared_error(model.predict(train_features),train_labels)\n",
        "  scores.append(mseTrain)\n",
        "  rtwo = r2_score(test_labels, model.predict(test_features))\n",
        "  scores.append(rtwo)\n",
        "  mse = mean_squared_error(model.predict(test_features),test_labels)\n",
        "  scores.append(mse)\n",
        "  return scores"
      ],
      "execution_count": null,
      "outputs": []
    },
    {
      "cell_type": "code",
      "metadata": {
        "id": "zpRYhYzpUEOo"
      },
      "source": [
        "def get_models():\n",
        "  models = dict()\n",
        "  models['rf'] =RandomForestRegressor(n_estimators = 100, random_state = 1,n_jobs = -1)\n",
        "  models['rf-tuned'] = RandomForestRegressor(max_depth= 5, n_estimators=1000)\n",
        "  models['linear'] = LinearRegression()\n",
        "  models['ridge'] = Ridge(alpha=0.5)\n",
        "  models['lasso'] = LassoCV()\n",
        "  models['gbr'] = GradientBoostingRegressor()\n",
        "  models['gbr-tuned'] = GradientBoostingRegressor(max_depth= 2,  n_estimators=100)\n",
        "  models['xgb'] = XGBRegressor()\n",
        "  models['xgb-tuned'] = XGBRegressor(colsample_bytree=1,learning_rate=0.01,max_depth=3,n_estimators=500)\n",
        "  models['knn'] = KNeighborsRegressor()\n",
        "  models['svr'] = SVR(kernel = 'rbf')\n",
        "  models['catboost'] = ctb.CatBoostRegressor(verbose=False)\n",
        "  models['catboost-tuned'] = ctb.CatBoostRegressor(verbose=False, depth = 4, iterations=200, l2_leaf_reg= 0.2, learning_rate= 0.03)\n",
        "  models['adaboost'] =AdaBoostRegressor(n_estimators=1000)\n",
        "  models['adaboost-tuned'] =AdaBoostRegressor(n_estimators=100, learning_rate=0.001)\n",
        "  models['stacking'] = get_stacking()\n",
        "  return models"
      ],
      "execution_count": null,
      "outputs": []
    },
    {
      "cell_type": "code",
      "metadata": {
        "colab": {
          "base_uri": "https://localhost:8080/"
        },
        "id": "kDjXUfP-j4ZJ",
        "outputId": "12cb4051-5176-4cd9-e3d5-d3ac5318fe9f"
      },
      "source": [
        "models = get_models()\n",
        "table=[]\n",
        "# evaluate the models and store results\n",
        "results, names = list(), list()\n",
        "for name, model in models.items():\n",
        "  scores = evaluate_model(model, train_features, train_labels, test_features, test_labels)\n",
        "  results.append(scores)\n",
        "  names.append(name)\n",
        "  table.append([name, scores[0], scores[1], scores[2], scores[3], scores[4]] )\n",
        "  print('>%s => cross_val_score: %.5f , r2_score_Train: %.5f , MSE_Train: %.5f , r2_score_Test: %.5f , MSE_Test: %.5f' % (name, scores[0], scores[1], scores[2], scores[3], scores[4]))\n",
        "# plot model performance for comparison\n",
        "# pyplot.boxplot(results, labels=names, showmeans=True)\n",
        "# pyplot.show()\n",
        "\n",
        "\n",
        "print(tabulate(table, headers=[\"Model\",\"Cross_Val_Score\", \"R2_Score_Train\",\"MSE_Train\",\"R2_Score_Test\",\"MSE_Test\"]))"
      ],
      "execution_count": null,
      "outputs": [
        {
          "output_type": "stream",
          "text": [
            ">rf => cross_val_score: 0.80755 , r2_score_Train: 0.97437 , MSE_Train: 0.00094 , r2_score_Test: 0.87541 , MSE_Test: 0.00505\n",
            ">rf-tuned => cross_val_score: 0.83257 , r2_score_Train: 0.88305 , MSE_Train: 0.00427 , r2_score_Test: 0.89548 , MSE_Test: 0.00424\n",
            ">linear => cross_val_score: 0.71901 , r2_score_Train: 0.73720 , MSE_Train: 0.00960 , r2_score_Test: 0.80046 , MSE_Test: 0.00809\n",
            ">ridge => cross_val_score: 0.71917 , r2_score_Train: 0.73717 , MSE_Train: 0.00960 , r2_score_Test: 0.80037 , MSE_Test: 0.00809\n",
            ">lasso => cross_val_score: 0.71986 , r2_score_Train: 0.73711 , MSE_Train: 0.00960 , r2_score_Test: 0.79989 , MSE_Test: 0.00811\n",
            ">gbr => cross_val_score: 0.83301 , r2_score_Train: 0.89847 , MSE_Train: 0.00371 , r2_score_Test: 0.89799 , MSE_Test: 0.00414\n",
            ">gbr-tuned => cross_val_score: 0.83664 , r2_score_Train: 0.87220 , MSE_Train: 0.00467 , r2_score_Test: 0.90085 , MSE_Test: 0.00402\n",
            "[08:07:43] WARNING: /workspace/src/objective/regression_obj.cu:152: reg:linear is now deprecated in favor of reg:squarederror.\n",
            ">xgb => cross_val_score: 0.83556 , r2_score_Train: 0.89187 , MSE_Train: 0.00395 , r2_score_Test: 0.89789 , MSE_Test: 0.00414\n",
            "[08:07:49] WARNING: /workspace/src/objective/regression_obj.cu:152: reg:linear is now deprecated in favor of reg:squarederror.\n",
            ">xgb-tuned => cross_val_score: 0.83842 , r2_score_Train: 0.87576 , MSE_Train: 0.00454 , r2_score_Test: 0.90003 , MSE_Test: 0.00405\n",
            ">knn => cross_val_score: 0.75457 , r2_score_Train: 0.86390 , MSE_Train: 0.00497 , r2_score_Test: 0.84310 , MSE_Test: 0.00636\n",
            ">svr => cross_val_score: 0.69041 , r2_score_Train: 0.72454 , MSE_Train: 0.01006 , r2_score_Test: 0.75294 , MSE_Test: 0.01002\n",
            ">catboost => cross_val_score: 0.81716 , r2_score_Train: 0.94421 , MSE_Train: 0.00204 , r2_score_Test: 0.88806 , MSE_Test: 0.00454\n",
            ">catboost-tuned => cross_val_score: 0.83761 , r2_score_Train: 0.86903 , MSE_Train: 0.00478 , r2_score_Test: 0.90407 , MSE_Test: 0.00389\n",
            ">adaboost => cross_val_score: 0.79694 , r2_score_Train: 0.82832 , MSE_Train: 0.00627 , r2_score_Test: 0.86393 , MSE_Test: 0.00552\n",
            ">adaboost-tuned => cross_val_score: 0.82568 , r2_score_Train: 0.85129 , MSE_Train: 0.00543 , r2_score_Test: 0.88685 , MSE_Test: 0.00459\n",
            ">stacking => cross_val_score: 0.83776 , r2_score_Train: 0.87400 , MSE_Train: 0.00460 , r2_score_Test: 0.90477 , MSE_Test: 0.00386\n",
            "Model             Cross_Val_Score    R2_Score_Train    MSE_Train    R2_Score_Test    MSE_Test\n",
            "--------------  -----------------  ----------------  -----------  ---------------  ----------\n",
            "rf                       0.807546          0.974375   0.00093603         0.875413  0.00505129\n",
            "rf-tuned                 0.832573          0.883052   0.00427185         0.895476  0.00423786\n",
            "linear                   0.719008          0.737201   0.00959951         0.800464  0.00809003\n",
            "ridge                    0.719167          0.737173   0.0096005          0.800374  0.00809369\n",
            "lasso                    0.719856          0.737109   0.00960285         0.799893  0.00811321\n",
            "gbr                      0.833008          0.898467   0.00370879         0.897992  0.00413583\n",
            "gbr-tuned                0.836643          0.872202   0.00466818         0.900848  0.00402005\n",
            "xgb                      0.835564          0.891871   0.00394973         0.89789   0.00413996\n",
            "xgb-tuned                0.838421          0.875761   0.00453818         0.900034  0.00405305\n",
            "knn                      0.754565          0.863904   0.0049713          0.843095  0.0063616\n",
            "svr                      0.690411          0.72454    0.010062           0.752941  0.0100168\n",
            "catboost                 0.817162          0.944214   0.00203773         0.888058  0.00453859\n",
            "catboost-tuned           0.837615          0.869027   0.00478418         0.904072  0.00388932\n",
            "adaboost                 0.796942          0.828322   0.00627104         0.86393   0.00551688\n",
            "adaboost-tuned           0.825675          0.851286   0.00543222         0.88685   0.00458758\n",
            "stacking                 0.837761          0.873996   0.00460266         0.904768  0.00386113\n"
          ],
          "name": "stdout"
        }
      ]
    },
    {
      "cell_type": "code",
      "metadata": {
        "colab": {
          "base_uri": "https://localhost:8080/"
        },
        "id": "QPill8GLZNQg",
        "outputId": "c735c704-f67a-46c8-dd03-1670a1f6f744"
      },
      "source": [
        "models = get_models()\n",
        "table=[]\n",
        "# evaluate the models and store results\n",
        "results, names = list(), list()\n",
        "for name, model in models.items():\n",
        "  scores = evaluate_model(model, train_features, train_labels, test_features, test_labels)\n",
        "  results.append(scores)\n",
        "  names.append(name)\n",
        "  table.append([name, scores[0], scores[1], scores[2], scores[3], scores[4]] )\n",
        "  print('>%s => cross_val_score: %.5f , r2_score_Train: %.5f , MSE_Train: %.5f , r2_score_Test: %.5f , MSE_Test: %.5f' % (name, scores[0], scores[1], scores[2], scores[3], scores[4]))\n",
        "# plot model performance for comparison\n",
        "# pyplot.boxplot(results, labels=names, showmeans=True)\n",
        "# pyplot.show()\n",
        "\n",
        "\n",
        "print(tabulate(table, headers=[\"Model\",\"Cross_Val_Score\", \"R2_Score_Train\",\"MSE_Train\",\"R2_Score_Test\",\"MSE_Test\"]))"
      ],
      "execution_count": null,
      "outputs": [
        {
          "output_type": "stream",
          "text": [
            ">rf => cross_val_score: 0.80755 , r2_score_Train: 0.97437 , MSE_Train: 0.00094 , r2_score_Test: 0.87541 , MSE_Test: 0.00505\n",
            ">rf-tuned => cross_val_score: 0.83249 , r2_score_Train: 0.88306 , MSE_Train: 0.00427 , r2_score_Test: 0.89523 , MSE_Test: 0.00425\n",
            ">linear => cross_val_score: 0.71901 , r2_score_Train: 0.73720 , MSE_Train: 0.00960 , r2_score_Test: 0.80046 , MSE_Test: 0.00809\n",
            ">ridge => cross_val_score: 0.71917 , r2_score_Train: 0.73717 , MSE_Train: 0.00960 , r2_score_Test: 0.80037 , MSE_Test: 0.00809\n",
            ">lasso => cross_val_score: 0.71986 , r2_score_Train: 0.73711 , MSE_Train: 0.00960 , r2_score_Test: 0.79989 , MSE_Test: 0.00811\n",
            ">gbr => cross_val_score: 0.83288 , r2_score_Train: 0.89847 , MSE_Train: 0.00371 , r2_score_Test: 0.89794 , MSE_Test: 0.00414\n",
            ">gbr-tuned => cross_val_score: 0.83648 , r2_score_Train: 0.87220 , MSE_Train: 0.00467 , r2_score_Test: 0.90085 , MSE_Test: 0.00402\n",
            "[15:23:21] WARNING: /workspace/src/objective/regression_obj.cu:152: reg:linear is now deprecated in favor of reg:squarederror.\n",
            ">xgb => cross_val_score: 0.83556 , r2_score_Train: 0.89187 , MSE_Train: 0.00395 , r2_score_Test: 0.89789 , MSE_Test: 0.00414\n",
            "[15:23:27] WARNING: /workspace/src/objective/regression_obj.cu:152: reg:linear is now deprecated in favor of reg:squarederror.\n",
            ">xgb-tuned => cross_val_score: 0.83842 , r2_score_Train: 0.87576 , MSE_Train: 0.00454 , r2_score_Test: 0.90003 , MSE_Test: 0.00405\n",
            ">knn => cross_val_score: 0.75457 , r2_score_Train: 0.86390 , MSE_Train: 0.00497 , r2_score_Test: 0.84310 , MSE_Test: 0.00636\n",
            ">svr => cross_val_score: 0.69041 , r2_score_Train: 0.72454 , MSE_Train: 0.01006 , r2_score_Test: 0.75294 , MSE_Test: 0.01002\n",
            ">catboost => cross_val_score: 0.81716 , r2_score_Train: 0.94421 , MSE_Train: 0.00204 , r2_score_Test: 0.88806 , MSE_Test: 0.00454\n",
            ">catboost-tuned => cross_val_score: 0.83761 , r2_score_Train: 0.86903 , MSE_Train: 0.00478 , r2_score_Test: 0.90407 , MSE_Test: 0.00389\n",
            ">adaboost => cross_val_score: 0.78389 , r2_score_Train: 0.79527 , MSE_Train: 0.00748 , r2_score_Test: 0.83128 , MSE_Test: 0.00684\n",
            ">adaboost-tuned => cross_val_score: 0.82570 , r2_score_Train: 0.85134 , MSE_Train: 0.00543 , r2_score_Test: 0.88729 , MSE_Test: 0.00457\n",
            ">stacking => cross_val_score: 0.83799 , r2_score_Train: 0.87070 , MSE_Train: 0.00472 , r2_score_Test: 0.90307 , MSE_Test: 0.00393\n",
            "Model             Cross_Val_Score    R2_Score_Train    MSE_Train    R2_Score_Test    MSE_Test\n",
            "--------------  -----------------  ----------------  -----------  ---------------  ----------\n",
            "rf                       0.807546          0.974375   0.00093603         0.875413  0.00505129\n",
            "rf-tuned                 0.832493          0.883062   0.00427149         0.895234  0.00424766\n",
            "linear                   0.719008          0.737201   0.00959951         0.800464  0.00809003\n",
            "ridge                    0.719167          0.737173   0.0096005          0.800374  0.00809369\n",
            "lasso                    0.719856          0.737109   0.00960285         0.799893  0.00811321\n",
            "gbr                      0.832885          0.898467   0.00370879         0.897943  0.00413785\n",
            "gbr-tuned                0.836482          0.872202   0.00466818         0.900848  0.00402005\n",
            "xgb                      0.835564          0.891871   0.00394973         0.89789   0.00413996\n",
            "xgb-tuned                0.838421          0.875761   0.00453818         0.900034  0.00405305\n",
            "knn                      0.754565          0.863904   0.0049713          0.843095  0.0063616\n",
            "svr                      0.690411          0.72454    0.010062           0.752941  0.0100168\n",
            "catboost                 0.817162          0.944214   0.00203773         0.888058  0.00453859\n",
            "catboost-tuned           0.837615          0.869027   0.00478418         0.904072  0.00388932\n",
            "adaboost                 0.783895          0.795267   0.00747848         0.831275  0.00684083\n",
            "adaboost-tuned           0.825703          0.851341   0.0054302          0.887287  0.00456988\n",
            "stacking                 0.837994          0.870702   0.00472296         0.903067  0.00393007\n"
          ],
          "name": "stdout"
        }
      ]
    },
    {
      "cell_type": "markdown",
      "metadata": {
        "id": "rORDPYuspTac"
      },
      "source": [
        "**Defining Neural Network**"
      ]
    },
    {
      "cell_type": "code",
      "metadata": {
        "colab": {
          "base_uri": "https://localhost:8080/"
        },
        "id": "L3mGHfpKmcoj",
        "outputId": "4a1f1fe3-55a4-4ff5-b5a6-4964502c1cc6"
      },
      "source": [
        "import keras\n",
        "from keras.models import Sequential\n",
        "from keras.layers import Dense\n",
        "scoresNN =[]\n",
        "classifier = Sequential()\n",
        "\n",
        "# Adding the input layer and the first hidden layer\n",
        "classifier.add(Dense(units = 128, activation = 'relu'))\n",
        "\n",
        "# Adding the second hidden layer\n",
        "classifier.add(Dense(units = 64, activation = 'relu'))\n",
        "\n",
        "classifier.add(Dense(units = 32, activation = 'relu'))\n",
        "\n",
        "classifier.add(Dense(units = 4, activation = 'relu'))\n",
        "\n",
        "# Adding the output layer\n",
        "classifier.add(Dense(units = 1, activation = 'linear'))\n",
        "\n",
        "# Compiling the ANN\n",
        "classifier.compile(loss='mean_absolute_error', optimizer='adam', metrics=['mean_absolute_error'])\n",
        "classifier.fit(x = train_features, y = train_labels, batch_size = 16, epochs = 100,validation_split=0.33)\n",
        "rtwoTrain = r2_score(train_labels, classifier.predict(train_features))\n",
        "scoresNN.append(rtwoTrain)\n",
        "mseTrain = mean_squared_error(classifier.predict(train_features),train_labels)\n",
        "scoresNN.append(mseTrain)\n",
        "rtwo = r2_score(test_labels, classifier.predict(test_features))\n",
        "scoresNN.append(rtwo)\n",
        "mse = mean_squared_error(classifier.predict(test_features),test_labels)\n",
        "scoresNN.append(mse)\n",
        "print('>Neural Network =>  r2_score_Train: %.5f , MSE_Train: %.5f , r2_score_Test: %.5f , MSE_Test: %.5f' % (scoresNN[0], scoresNN[1], scoresNN[2], scoresNN[3]))"
      ],
      "execution_count": null,
      "outputs": [
        {
          "output_type": "stream",
          "text": [
            "Epoch 1/100\n",
            "45/45 [==============================] - 1s 13ms/step - loss: 0.0768 - mean_absolute_error: 0.0768 - val_loss: 0.0597 - val_mean_absolute_error: 0.0597\n",
            "Epoch 2/100\n",
            "45/45 [==============================] - 0s 2ms/step - loss: 0.0546 - mean_absolute_error: 0.0546 - val_loss: 0.0544 - val_mean_absolute_error: 0.0544\n",
            "Epoch 3/100\n",
            "45/45 [==============================] - 0s 3ms/step - loss: 0.0399 - mean_absolute_error: 0.0399 - val_loss: 0.0488 - val_mean_absolute_error: 0.0488\n",
            "Epoch 4/100\n",
            "45/45 [==============================] - 0s 2ms/step - loss: 0.0365 - mean_absolute_error: 0.0365 - val_loss: 0.0473 - val_mean_absolute_error: 0.0473\n",
            "Epoch 5/100\n",
            "45/45 [==============================] - 0s 3ms/step - loss: 0.0322 - mean_absolute_error: 0.0322 - val_loss: 0.0425 - val_mean_absolute_error: 0.0425\n",
            "Epoch 6/100\n",
            "45/45 [==============================] - 0s 3ms/step - loss: 0.0329 - mean_absolute_error: 0.0329 - val_loss: 0.0384 - val_mean_absolute_error: 0.0384\n",
            "Epoch 7/100\n",
            "45/45 [==============================] - 0s 3ms/step - loss: 0.0329 - mean_absolute_error: 0.0329 - val_loss: 0.0407 - val_mean_absolute_error: 0.0407\n",
            "Epoch 8/100\n",
            "45/45 [==============================] - 0s 3ms/step - loss: 0.0282 - mean_absolute_error: 0.0282 - val_loss: 0.0428 - val_mean_absolute_error: 0.0428\n",
            "Epoch 9/100\n",
            "45/45 [==============================] - 0s 3ms/step - loss: 0.0306 - mean_absolute_error: 0.0306 - val_loss: 0.0415 - val_mean_absolute_error: 0.0415\n",
            "Epoch 10/100\n",
            "45/45 [==============================] - 0s 3ms/step - loss: 0.0289 - mean_absolute_error: 0.0289 - val_loss: 0.0372 - val_mean_absolute_error: 0.0372\n",
            "Epoch 11/100\n",
            "45/45 [==============================] - 0s 3ms/step - loss: 0.0262 - mean_absolute_error: 0.0262 - val_loss: 0.0369 - val_mean_absolute_error: 0.0369\n",
            "Epoch 12/100\n",
            "45/45 [==============================] - 0s 3ms/step - loss: 0.0269 - mean_absolute_error: 0.0269 - val_loss: 0.0414 - val_mean_absolute_error: 0.0414\n",
            "Epoch 13/100\n",
            "45/45 [==============================] - 0s 3ms/step - loss: 0.0283 - mean_absolute_error: 0.0283 - val_loss: 0.0386 - val_mean_absolute_error: 0.0386\n",
            "Epoch 14/100\n",
            "45/45 [==============================] - 0s 3ms/step - loss: 0.0299 - mean_absolute_error: 0.0299 - val_loss: 0.0363 - val_mean_absolute_error: 0.0363\n",
            "Epoch 15/100\n",
            "45/45 [==============================] - 0s 3ms/step - loss: 0.0285 - mean_absolute_error: 0.0285 - val_loss: 0.0341 - val_mean_absolute_error: 0.0341\n",
            "Epoch 16/100\n",
            "45/45 [==============================] - 0s 3ms/step - loss: 0.0249 - mean_absolute_error: 0.0249 - val_loss: 0.0366 - val_mean_absolute_error: 0.0366\n",
            "Epoch 17/100\n",
            "45/45 [==============================] - 0s 3ms/step - loss: 0.0298 - mean_absolute_error: 0.0298 - val_loss: 0.0368 - val_mean_absolute_error: 0.0368\n",
            "Epoch 18/100\n",
            "45/45 [==============================] - 0s 3ms/step - loss: 0.0278 - mean_absolute_error: 0.0278 - val_loss: 0.0349 - val_mean_absolute_error: 0.0349\n",
            "Epoch 19/100\n",
            "45/45 [==============================] - 0s 3ms/step - loss: 0.0285 - mean_absolute_error: 0.0285 - val_loss: 0.0352 - val_mean_absolute_error: 0.0352\n",
            "Epoch 20/100\n",
            "45/45 [==============================] - 0s 3ms/step - loss: 0.0270 - mean_absolute_error: 0.0270 - val_loss: 0.0369 - val_mean_absolute_error: 0.0369\n",
            "Epoch 21/100\n",
            "45/45 [==============================] - 0s 3ms/step - loss: 0.0232 - mean_absolute_error: 0.0232 - val_loss: 0.0353 - val_mean_absolute_error: 0.0353\n",
            "Epoch 22/100\n",
            "45/45 [==============================] - 0s 3ms/step - loss: 0.0271 - mean_absolute_error: 0.0271 - val_loss: 0.0358 - val_mean_absolute_error: 0.0358\n",
            "Epoch 23/100\n",
            "45/45 [==============================] - 0s 3ms/step - loss: 0.0225 - mean_absolute_error: 0.0225 - val_loss: 0.0385 - val_mean_absolute_error: 0.0385\n",
            "Epoch 24/100\n",
            "45/45 [==============================] - 0s 3ms/step - loss: 0.0269 - mean_absolute_error: 0.0269 - val_loss: 0.0337 - val_mean_absolute_error: 0.0337\n",
            "Epoch 25/100\n",
            "45/45 [==============================] - 0s 3ms/step - loss: 0.0249 - mean_absolute_error: 0.0249 - val_loss: 0.0346 - val_mean_absolute_error: 0.0346\n",
            "Epoch 26/100\n",
            "45/45 [==============================] - 0s 3ms/step - loss: 0.0230 - mean_absolute_error: 0.0230 - val_loss: 0.0350 - val_mean_absolute_error: 0.0350\n",
            "Epoch 27/100\n",
            "45/45 [==============================] - 0s 3ms/step - loss: 0.0225 - mean_absolute_error: 0.0225 - val_loss: 0.0327 - val_mean_absolute_error: 0.0327\n",
            "Epoch 28/100\n",
            "45/45 [==============================] - 0s 3ms/step - loss: 0.0245 - mean_absolute_error: 0.0245 - val_loss: 0.0337 - val_mean_absolute_error: 0.0337\n",
            "Epoch 29/100\n",
            "45/45 [==============================] - 0s 3ms/step - loss: 0.0232 - mean_absolute_error: 0.0232 - val_loss: 0.0330 - val_mean_absolute_error: 0.0330\n",
            "Epoch 30/100\n",
            "45/45 [==============================] - 0s 3ms/step - loss: 0.0241 - mean_absolute_error: 0.0241 - val_loss: 0.0356 - val_mean_absolute_error: 0.0356\n",
            "Epoch 31/100\n",
            "45/45 [==============================] - 0s 3ms/step - loss: 0.0274 - mean_absolute_error: 0.0274 - val_loss: 0.0348 - val_mean_absolute_error: 0.0348\n",
            "Epoch 32/100\n",
            "45/45 [==============================] - 0s 3ms/step - loss: 0.0222 - mean_absolute_error: 0.0222 - val_loss: 0.0328 - val_mean_absolute_error: 0.0328\n",
            "Epoch 33/100\n",
            "45/45 [==============================] - 0s 3ms/step - loss: 0.0207 - mean_absolute_error: 0.0207 - val_loss: 0.0392 - val_mean_absolute_error: 0.0392\n",
            "Epoch 34/100\n",
            "45/45 [==============================] - 0s 3ms/step - loss: 0.0238 - mean_absolute_error: 0.0238 - val_loss: 0.0326 - val_mean_absolute_error: 0.0326\n",
            "Epoch 35/100\n",
            "45/45 [==============================] - 0s 3ms/step - loss: 0.0277 - mean_absolute_error: 0.0277 - val_loss: 0.0333 - val_mean_absolute_error: 0.0333\n",
            "Epoch 36/100\n",
            "45/45 [==============================] - 0s 3ms/step - loss: 0.0242 - mean_absolute_error: 0.0242 - val_loss: 0.0337 - val_mean_absolute_error: 0.0337\n",
            "Epoch 37/100\n",
            "45/45 [==============================] - 0s 3ms/step - loss: 0.0263 - mean_absolute_error: 0.0263 - val_loss: 0.0319 - val_mean_absolute_error: 0.0319\n",
            "Epoch 38/100\n",
            "45/45 [==============================] - 0s 3ms/step - loss: 0.0221 - mean_absolute_error: 0.0221 - val_loss: 0.0327 - val_mean_absolute_error: 0.0327\n",
            "Epoch 39/100\n",
            "45/45 [==============================] - 0s 3ms/step - loss: 0.0216 - mean_absolute_error: 0.0216 - val_loss: 0.0320 - val_mean_absolute_error: 0.0320\n",
            "Epoch 40/100\n",
            "45/45 [==============================] - 0s 3ms/step - loss: 0.0242 - mean_absolute_error: 0.0242 - val_loss: 0.0349 - val_mean_absolute_error: 0.0349\n",
            "Epoch 41/100\n",
            "45/45 [==============================] - 0s 3ms/step - loss: 0.0250 - mean_absolute_error: 0.0250 - val_loss: 0.0327 - val_mean_absolute_error: 0.0327\n",
            "Epoch 42/100\n",
            "45/45 [==============================] - 0s 3ms/step - loss: 0.0221 - mean_absolute_error: 0.0221 - val_loss: 0.0325 - val_mean_absolute_error: 0.0325\n",
            "Epoch 43/100\n",
            "45/45 [==============================] - 0s 3ms/step - loss: 0.0211 - mean_absolute_error: 0.0211 - val_loss: 0.0339 - val_mean_absolute_error: 0.0339\n",
            "Epoch 44/100\n",
            "45/45 [==============================] - 0s 3ms/step - loss: 0.0240 - mean_absolute_error: 0.0240 - val_loss: 0.0339 - val_mean_absolute_error: 0.0339\n",
            "Epoch 45/100\n",
            "45/45 [==============================] - 0s 3ms/step - loss: 0.0232 - mean_absolute_error: 0.0232 - val_loss: 0.0323 - val_mean_absolute_error: 0.0323\n",
            "Epoch 46/100\n",
            "45/45 [==============================] - 0s 3ms/step - loss: 0.0234 - mean_absolute_error: 0.0234 - val_loss: 0.0320 - val_mean_absolute_error: 0.0320\n",
            "Epoch 47/100\n",
            "45/45 [==============================] - 0s 3ms/step - loss: 0.0236 - mean_absolute_error: 0.0236 - val_loss: 0.0332 - val_mean_absolute_error: 0.0332\n",
            "Epoch 48/100\n",
            "45/45 [==============================] - 0s 3ms/step - loss: 0.0256 - mean_absolute_error: 0.0256 - val_loss: 0.0345 - val_mean_absolute_error: 0.0345\n",
            "Epoch 49/100\n",
            "45/45 [==============================] - 0s 3ms/step - loss: 0.0246 - mean_absolute_error: 0.0246 - val_loss: 0.0353 - val_mean_absolute_error: 0.0353\n",
            "Epoch 50/100\n",
            "45/45 [==============================] - 0s 3ms/step - loss: 0.0256 - mean_absolute_error: 0.0256 - val_loss: 0.0330 - val_mean_absolute_error: 0.0330\n",
            "Epoch 51/100\n",
            "45/45 [==============================] - 0s 3ms/step - loss: 0.0230 - mean_absolute_error: 0.0230 - val_loss: 0.0327 - val_mean_absolute_error: 0.0327\n",
            "Epoch 52/100\n",
            "45/45 [==============================] - 0s 3ms/step - loss: 0.0225 - mean_absolute_error: 0.0225 - val_loss: 0.0341 - val_mean_absolute_error: 0.0341\n",
            "Epoch 53/100\n",
            "45/45 [==============================] - 0s 3ms/step - loss: 0.0231 - mean_absolute_error: 0.0231 - val_loss: 0.0371 - val_mean_absolute_error: 0.0371\n",
            "Epoch 54/100\n",
            "45/45 [==============================] - 0s 3ms/step - loss: 0.0281 - mean_absolute_error: 0.0281 - val_loss: 0.0345 - val_mean_absolute_error: 0.0345\n",
            "Epoch 55/100\n",
            "45/45 [==============================] - 0s 3ms/step - loss: 0.0206 - mean_absolute_error: 0.0206 - val_loss: 0.0324 - val_mean_absolute_error: 0.0324\n",
            "Epoch 56/100\n",
            "45/45 [==============================] - 0s 3ms/step - loss: 0.0277 - mean_absolute_error: 0.0277 - val_loss: 0.0343 - val_mean_absolute_error: 0.0343\n",
            "Epoch 57/100\n",
            "45/45 [==============================] - 0s 3ms/step - loss: 0.0218 - mean_absolute_error: 0.0218 - val_loss: 0.0340 - val_mean_absolute_error: 0.0340\n",
            "Epoch 58/100\n",
            "45/45 [==============================] - 0s 3ms/step - loss: 0.0284 - mean_absolute_error: 0.0284 - val_loss: 0.0331 - val_mean_absolute_error: 0.0331\n",
            "Epoch 59/100\n",
            "45/45 [==============================] - 0s 3ms/step - loss: 0.0238 - mean_absolute_error: 0.0238 - val_loss: 0.0346 - val_mean_absolute_error: 0.0346\n",
            "Epoch 60/100\n",
            "45/45 [==============================] - 0s 3ms/step - loss: 0.0222 - mean_absolute_error: 0.0222 - val_loss: 0.0355 - val_mean_absolute_error: 0.0355\n",
            "Epoch 61/100\n",
            "45/45 [==============================] - 0s 3ms/step - loss: 0.0237 - mean_absolute_error: 0.0237 - val_loss: 0.0320 - val_mean_absolute_error: 0.0320\n",
            "Epoch 62/100\n",
            "45/45 [==============================] - 0s 3ms/step - loss: 0.0224 - mean_absolute_error: 0.0224 - val_loss: 0.0379 - val_mean_absolute_error: 0.0379\n",
            "Epoch 63/100\n",
            "45/45 [==============================] - 0s 3ms/step - loss: 0.0240 - mean_absolute_error: 0.0240 - val_loss: 0.0328 - val_mean_absolute_error: 0.0328\n",
            "Epoch 64/100\n",
            "45/45 [==============================] - 0s 3ms/step - loss: 0.0219 - mean_absolute_error: 0.0219 - val_loss: 0.0317 - val_mean_absolute_error: 0.0317\n",
            "Epoch 65/100\n",
            "45/45 [==============================] - 0s 3ms/step - loss: 0.0203 - mean_absolute_error: 0.0203 - val_loss: 0.0317 - val_mean_absolute_error: 0.0317\n",
            "Epoch 66/100\n",
            "45/45 [==============================] - 0s 3ms/step - loss: 0.0231 - mean_absolute_error: 0.0231 - val_loss: 0.0339 - val_mean_absolute_error: 0.0339\n",
            "Epoch 67/100\n",
            "45/45 [==============================] - 0s 3ms/step - loss: 0.0199 - mean_absolute_error: 0.0199 - val_loss: 0.0334 - val_mean_absolute_error: 0.0334\n",
            "Epoch 68/100\n",
            "45/45 [==============================] - 0s 3ms/step - loss: 0.0239 - mean_absolute_error: 0.0239 - val_loss: 0.0326 - val_mean_absolute_error: 0.0326\n",
            "Epoch 69/100\n",
            "45/45 [==============================] - 0s 3ms/step - loss: 0.0223 - mean_absolute_error: 0.0223 - val_loss: 0.0328 - val_mean_absolute_error: 0.0328\n",
            "Epoch 70/100\n",
            "45/45 [==============================] - 0s 3ms/step - loss: 0.0225 - mean_absolute_error: 0.0225 - val_loss: 0.0328 - val_mean_absolute_error: 0.0328\n",
            "Epoch 71/100\n",
            "45/45 [==============================] - 0s 3ms/step - loss: 0.0240 - mean_absolute_error: 0.0240 - val_loss: 0.0316 - val_mean_absolute_error: 0.0316\n",
            "Epoch 72/100\n",
            "45/45 [==============================] - 0s 3ms/step - loss: 0.0221 - mean_absolute_error: 0.0221 - val_loss: 0.0325 - val_mean_absolute_error: 0.0325\n",
            "Epoch 73/100\n",
            "45/45 [==============================] - 0s 3ms/step - loss: 0.0235 - mean_absolute_error: 0.0235 - val_loss: 0.0332 - val_mean_absolute_error: 0.0332\n",
            "Epoch 74/100\n",
            "45/45 [==============================] - 0s 3ms/step - loss: 0.0209 - mean_absolute_error: 0.0209 - val_loss: 0.0330 - val_mean_absolute_error: 0.0330\n",
            "Epoch 75/100\n",
            "45/45 [==============================] - 0s 3ms/step - loss: 0.0232 - mean_absolute_error: 0.0232 - val_loss: 0.0318 - val_mean_absolute_error: 0.0318\n",
            "Epoch 76/100\n",
            "45/45 [==============================] - 0s 3ms/step - loss: 0.0208 - mean_absolute_error: 0.0208 - val_loss: 0.0318 - val_mean_absolute_error: 0.0318\n",
            "Epoch 77/100\n",
            "45/45 [==============================] - 0s 3ms/step - loss: 0.0225 - mean_absolute_error: 0.0225 - val_loss: 0.0315 - val_mean_absolute_error: 0.0315\n",
            "Epoch 78/100\n",
            "45/45 [==============================] - 0s 3ms/step - loss: 0.0226 - mean_absolute_error: 0.0226 - val_loss: 0.0316 - val_mean_absolute_error: 0.0316\n",
            "Epoch 79/100\n",
            "45/45 [==============================] - 0s 3ms/step - loss: 0.0238 - mean_absolute_error: 0.0238 - val_loss: 0.0331 - val_mean_absolute_error: 0.0331\n",
            "Epoch 80/100\n",
            "45/45 [==============================] - 0s 3ms/step - loss: 0.0191 - mean_absolute_error: 0.0191 - val_loss: 0.0339 - val_mean_absolute_error: 0.0339\n",
            "Epoch 81/100\n",
            "45/45 [==============================] - 0s 3ms/step - loss: 0.0210 - mean_absolute_error: 0.0210 - val_loss: 0.0344 - val_mean_absolute_error: 0.0344\n",
            "Epoch 82/100\n",
            "45/45 [==============================] - 0s 3ms/step - loss: 0.0244 - mean_absolute_error: 0.0244 - val_loss: 0.0312 - val_mean_absolute_error: 0.0312\n",
            "Epoch 83/100\n",
            "45/45 [==============================] - 0s 3ms/step - loss: 0.0233 - mean_absolute_error: 0.0233 - val_loss: 0.0311 - val_mean_absolute_error: 0.0311\n",
            "Epoch 84/100\n",
            "45/45 [==============================] - 0s 3ms/step - loss: 0.0226 - mean_absolute_error: 0.0226 - val_loss: 0.0334 - val_mean_absolute_error: 0.0334\n",
            "Epoch 85/100\n",
            "45/45 [==============================] - 0s 3ms/step - loss: 0.0228 - mean_absolute_error: 0.0228 - val_loss: 0.0317 - val_mean_absolute_error: 0.0317\n",
            "Epoch 86/100\n",
            "45/45 [==============================] - 0s 3ms/step - loss: 0.0201 - mean_absolute_error: 0.0201 - val_loss: 0.0310 - val_mean_absolute_error: 0.0310\n",
            "Epoch 87/100\n",
            "45/45 [==============================] - 0s 3ms/step - loss: 0.0189 - mean_absolute_error: 0.0189 - val_loss: 0.0329 - val_mean_absolute_error: 0.0329\n",
            "Epoch 88/100\n",
            "45/45 [==============================] - 0s 3ms/step - loss: 0.0214 - mean_absolute_error: 0.0214 - val_loss: 0.0337 - val_mean_absolute_error: 0.0337\n",
            "Epoch 89/100\n",
            "45/45 [==============================] - 0s 3ms/step - loss: 0.0185 - mean_absolute_error: 0.0185 - val_loss: 0.0352 - val_mean_absolute_error: 0.0352\n",
            "Epoch 90/100\n",
            "45/45 [==============================] - 0s 3ms/step - loss: 0.0231 - mean_absolute_error: 0.0231 - val_loss: 0.0335 - val_mean_absolute_error: 0.0335\n",
            "Epoch 91/100\n",
            "45/45 [==============================] - 0s 3ms/step - loss: 0.0233 - mean_absolute_error: 0.0233 - val_loss: 0.0315 - val_mean_absolute_error: 0.0315\n",
            "Epoch 92/100\n",
            "45/45 [==============================] - 0s 3ms/step - loss: 0.0222 - mean_absolute_error: 0.0222 - val_loss: 0.0322 - val_mean_absolute_error: 0.0322\n",
            "Epoch 93/100\n",
            "45/45 [==============================] - 0s 3ms/step - loss: 0.0228 - mean_absolute_error: 0.0228 - val_loss: 0.0319 - val_mean_absolute_error: 0.0319\n",
            "Epoch 94/100\n",
            "45/45 [==============================] - 0s 3ms/step - loss: 0.0228 - mean_absolute_error: 0.0228 - val_loss: 0.0339 - val_mean_absolute_error: 0.0339\n",
            "Epoch 95/100\n",
            "45/45 [==============================] - 0s 3ms/step - loss: 0.0257 - mean_absolute_error: 0.0257 - val_loss: 0.0320 - val_mean_absolute_error: 0.0320\n",
            "Epoch 96/100\n",
            "45/45 [==============================] - 0s 3ms/step - loss: 0.0212 - mean_absolute_error: 0.0212 - val_loss: 0.0328 - val_mean_absolute_error: 0.0328\n",
            "Epoch 97/100\n",
            "45/45 [==============================] - 0s 3ms/step - loss: 0.0228 - mean_absolute_error: 0.0228 - val_loss: 0.0312 - val_mean_absolute_error: 0.0312\n",
            "Epoch 98/100\n",
            "45/45 [==============================] - 0s 3ms/step - loss: 0.0210 - mean_absolute_error: 0.0210 - val_loss: 0.0333 - val_mean_absolute_error: 0.0333\n",
            "Epoch 99/100\n",
            "45/45 [==============================] - 0s 3ms/step - loss: 0.0199 - mean_absolute_error: 0.0199 - val_loss: 0.0320 - val_mean_absolute_error: 0.0320\n",
            "Epoch 100/100\n",
            "45/45 [==============================] - 0s 3ms/step - loss: 0.0209 - mean_absolute_error: 0.0209 - val_loss: 0.0349 - val_mean_absolute_error: 0.0349\n",
            ">Neural Network =>  r2_score_Train: 0.84674 , MSE_Train: 0.00560 , r2_score_Test: 0.88899 , MSE_Test: 0.00450\n"
          ],
          "name": "stdout"
        }
      ]
    },
    {
      "cell_type": "markdown",
      "metadata": {
        "id": "Kcqc5kwhpWyF"
      },
      "source": [
        "**Defining Ploynomial Model with the optimal degree (Based on Experiments)**"
      ]
    },
    {
      "cell_type": "code",
      "metadata": {
        "colab": {
          "base_uri": "https://localhost:8080/"
        },
        "id": "SO5yUvI0rlCT",
        "outputId": "c06abb00-e9f0-4516-d793-f35bbe4f86fb"
      },
      "source": [
        "# poly-degree:2\n",
        "poly_features = PolynomialFeatures(degree=2)\n",
        "X_poly = poly_features.fit_transform(train_features)\n",
        "poly = LinearRegression()\n",
        "polyScore =[]\n",
        "cv = RepeatedKFold(n_splits=10, n_repeats=3, random_state=1)\n",
        "crossRes = cross_val_score(poly, train_features, train_labels, scoring='r2', cv=cv, n_jobs=-1, error_score='raise')\n",
        "polyScore.append(mean(crossRes))\n",
        "poly.fit(X_poly, train_labels)\n",
        "X_poly_test = poly_features.fit_transform(test_features)\n",
        "rtwo_Train = r2_score(train_labels, poly.predict(X_poly))\n",
        "polyScore.append(rtwo_Train)\n",
        "mse_Train = mean_squared_error(poly.predict(X_poly),train_labels)\n",
        "polyScore.append(mse_Train)\n",
        "rtwo = r2_score(test_labels, poly.predict(X_poly_test))\n",
        "polyScore.append(rtwo)\n",
        "mse = mean_squared_error(poly.predict(X_poly_test),test_labels)\n",
        "polyScore.append(mse)\n",
        "print('>polynomial-degree2 => cross_val_score: %.5f , r2_score_Train: %.5f , MSE_Train: %.5f , r2_score_Test: %.5f , MSE_Test: %.5f' % (polyScore[0], polyScore[1], polyScore[2] , polyScore[3], polyScore[4],))"
      ],
      "execution_count": null,
      "outputs": [
        {
          "output_type": "stream",
          "text": [
            ">polynomial-degree2 => cross_val_score: 0.71901 , r2_score_Train: 0.84469 , MSE_Train: 0.00567 , r2_score_Test: 0.88254 , MSE_Test: 0.00476\n"
          ],
          "name": "stdout"
        }
      ]
    },
    {
      "cell_type": "markdown",
      "metadata": {
        "id": "pyPLmxvdpgog"
      },
      "source": [
        "**Testing Another Method for creating a Stack Model**"
      ]
    },
    {
      "cell_type": "code",
      "metadata": {
        "id": "LFp6jLbnv3UP",
        "colab": {
          "base_uri": "https://localhost:8080/"
        },
        "outputId": "200817f1-b24a-46b7-9410-9100657967a3"
      },
      "source": [
        "  level0 = list()\n",
        "  level0.append(RandomForestRegressor(max_depth= 5, max_features=7, n_estimators=1000))\n",
        "  level0.append(Ridge(alpha=0.5))\n",
        "  level0.append(GradientBoostingRegressor(max_depth= 2,  n_estimators=100))\n",
        "  level0.append( KNeighborsRegressor())\n",
        "  level0.append( LassoCV())\n",
        "  level0.append( XGBRegressor(colsample_bytree=1,learning_rate=0.01,max_depth=3,n_estimators=500))\n",
        "\n",
        "\n",
        "\n",
        "\n",
        "  S_train, S_test = stacking(level0,\n",
        "                           train_features, train_labels, test_features,\n",
        "                           regression=True,\n",
        "\n",
        "                           mode='oof_pred_bag',\n",
        "\n",
        "                           needs_proba=False,\n",
        "\n",
        "                           save_dir=None,\n",
        "\n",
        "                           metric=r2_score,\n",
        "\n",
        "                           n_folds=5,\n",
        "\n",
        "                           stratified=True,\n",
        "\n",
        "                           shuffle=True,\n",
        "\n",
        "                           random_state=0,\n",
        "\n",
        "                           verbose=2)\n",
        "\n",
        "\t# define meta learner model\n",
        "  model = LinearRegression()\n",
        "  scoresVecstack =[]\n",
        "  cv = RepeatedKFold(n_splits=10, n_repeats=3, random_state=1)\n",
        "  crossRes = cross_val_score(model, S_train, train_labels, scoring='r2', cv=cv, n_jobs=-1, error_score='raise')\n",
        "  scoresVecstack.append(mean(crossRes))\n",
        "  model.fit(S_train, train_labels)\n",
        "  y_pred = model.predict(S_test)\n",
        "  rtwo = r2_score(test_labels,y_pred )\n",
        "  scoresVecstack.append(rtwo)\n",
        "  mse = mean_squared_error(y_pred, test_labels)\n",
        "  scoresVecstack.append(mse)\n",
        "  print(scoresVecstack)\n"
      ],
      "execution_count": null,
      "outputs": [
        {
          "output_type": "stream",
          "text": [
            "/usr/local/lib/python3.7/dist-packages/vecstack/core.py:461: UserWarning: This is regression task hence classification-specific parameters set to <True> were ignored: <stratified>\n",
            "  warnings.warn(warn_str, UserWarning)\n"
          ],
          "name": "stderr"
        },
        {
          "output_type": "stream",
          "text": [
            "task:         [regression]\n",
            "metric:       [r2_score]\n",
            "mode:         [oof_pred_bag]\n",
            "n_models:     [6]\n",
            "\n",
            "model  0:     [RandomForestRegressor]\n",
            "    fold  0:  [0.84302232]\n",
            "    fold  1:  [0.83482451]\n",
            "    fold  2:  [0.84489067]\n",
            "    fold  3:  [0.87384196]\n",
            "    fold  4:  [0.81945312]\n",
            "    ----\n",
            "    MEAN:     [0.84320652] + [0.01775321]\n",
            "    FULL:     [0.84430324]\n",
            "\n",
            "model  1:     [Ridge]\n",
            "    fold  0:  [0.71082437]\n",
            "    fold  1:  [0.74700732]\n",
            "    fold  2:  [0.75439317]\n",
            "    fold  3:  [0.74611643]\n",
            "    fold  4:  [0.70969066]\n",
            "    ----\n",
            "    MEAN:     [0.73360639] + [0.01928294]\n",
            "    FULL:     [0.73483876]\n",
            "\n",
            "model  2:     [GradientBoostingRegressor]\n",
            "    fold  0:  [0.84718569]\n",
            "    fold  1:  [0.84451835]\n",
            "    fold  2:  [0.85075979]\n",
            "    fold  3:  [0.86492860]\n",
            "    fold  4:  [0.82484166]\n",
            "    ----\n",
            "    MEAN:     [0.84644682] + [0.01289361]\n",
            "    FULL:     [0.84731489]\n",
            "\n",
            "model  3:     [KNeighborsRegressor]\n",
            "    fold  0:  [0.80090653]\n",
            "    fold  1:  [0.79391628]\n",
            "    fold  2:  [0.80281190]\n",
            "    fold  3:  [0.82486181]\n",
            "    fold  4:  [0.75209133]\n",
            "    ----\n",
            "    MEAN:     [0.79491757] + [0.02379048]\n",
            "    FULL:     [0.79634091]\n",
            "\n",
            "model  4:     [LassoCV]\n",
            "    fold  0:  [0.71082452]\n",
            "    fold  1:  [0.74725467]\n",
            "    fold  2:  [0.75455039]\n",
            "    fold  3:  [0.74626417]\n",
            "    fold  4:  [0.70913013]\n",
            "    ----\n",
            "    MEAN:     [0.73360478] + [0.01951024]\n",
            "    FULL:     [0.73484868]\n",
            "\n",
            "model  5:     [XGBRegressor]\n",
            "[17:01:17] WARNING: /workspace/src/objective/regression_obj.cu:152: reg:linear is now deprecated in favor of reg:squarederror.\n",
            "    fold  0:  [0.84916079]\n",
            "[17:01:17] WARNING: /workspace/src/objective/regression_obj.cu:152: reg:linear is now deprecated in favor of reg:squarederror.\n",
            "    fold  1:  [0.84779316]\n",
            "[17:01:17] WARNING: /workspace/src/objective/regression_obj.cu:152: reg:linear is now deprecated in favor of reg:squarederror.\n",
            "    fold  2:  [0.85143044]\n",
            "[17:01:17] WARNING: /workspace/src/objective/regression_obj.cu:152: reg:linear is now deprecated in favor of reg:squarederror.\n",
            "    fold  3:  [0.87054263]\n",
            "[17:01:17] WARNING: /workspace/src/objective/regression_obj.cu:152: reg:linear is now deprecated in favor of reg:squarederror.\n",
            "    fold  4:  [0.82772603]\n",
            "    ----\n",
            "    MEAN:     [0.84933061] + [0.01359051]\n",
            "    FULL:     [0.85023870]\n",
            "\n",
            "[0.8393814286668918, 0.9026165647564404, 0.003948343657734445]\n"
          ],
          "name": "stdout"
        }
      ]
    },
    {
      "cell_type": "markdown",
      "metadata": {
        "id": "drCrNTOZMB_W"
      },
      "source": [
        "# **Reducing Features to 3 most Important Features**"
      ]
    },
    {
      "cell_type": "code",
      "metadata": {
        "id": "pNr_VdTk05xM",
        "colab": {
          "base_uri": "https://localhost:8080/"
        },
        "outputId": "90abd073-47cf-4f23-bf19-2e6c8b268ef5"
      },
      "source": [
        "X2 = scaled_df.drop([\"charges\", \"sex\", \"region\", \"bmiGps\",\"ageGps\", \"children\"], axis=1)\n",
        "reduced_train_features, reduced_test_features, reduced_train_labels, reduced_test_labels = train_test_split(X2, y, test_size=0.2, random_state=0)\n",
        "print('Training Features Shape:', reduced_train_features.shape)\n",
        "print('Training Labels Shape:', reduced_train_labels.shape)\n",
        "print('Testing Features Shape:', reduced_test_features.shape)\n",
        "print('Testing Labels Shape:', reduced_test_labels.shape)"
      ],
      "execution_count": null,
      "outputs": [
        {
          "output_type": "stream",
          "text": [
            "Training Features Shape: (1070, 3)\n",
            "Training Labels Shape: (1070,)\n",
            "Testing Features Shape: (268, 3)\n",
            "Testing Labels Shape: (268,)\n"
          ],
          "name": "stdout"
        }
      ]
    },
    {
      "cell_type": "code",
      "metadata": {
        "colab": {
          "base_uri": "https://localhost:8080/",
          "height": 465
        },
        "id": "ast02Mw-tPlT",
        "outputId": "07b5d603-9052-45e6-8532-9d56ea9d1216"
      },
      "source": [
        "Reduced_statmodel = sm.OLS(reduced_train_labels, reduced_train_features).fit()\n",
        "predictions = Reduced_statmodel.predict(reduced_test_features)\n",
        "Reduced_statmodel.summary()"
      ],
      "execution_count": null,
      "outputs": [
        {
          "output_type": "execute_result",
          "data": {
            "text/html": [
              "<table class=\"simpletable\">\n",
              "<caption>OLS Regression Results</caption>\n",
              "<tr>\n",
              "  <th>Dep. Variable:</th>            <td>y</td>        <th>  R-squared (uncentered):</th>      <td>   0.865</td>\n",
              "</tr>\n",
              "<tr>\n",
              "  <th>Model:</th>                   <td>OLS</td>       <th>  Adj. R-squared (uncentered):</th> <td>   0.864</td>\n",
              "</tr>\n",
              "<tr>\n",
              "  <th>Method:</th>             <td>Least Squares</td>  <th>  F-statistic:       </th>          <td>   2276.</td>\n",
              "</tr>\n",
              "<tr>\n",
              "  <th>Date:</th>             <td>Fri, 07 May 2021</td> <th>  Prob (F-statistic):</th>           <td>  0.00</td> \n",
              "</tr>\n",
              "<tr>\n",
              "  <th>Time:</th>                 <td>07:23:03</td>     <th>  Log-Likelihood:    </th>          <td>  947.58</td>\n",
              "</tr>\n",
              "<tr>\n",
              "  <th>No. Observations:</th>      <td>  1070</td>      <th>  AIC:               </th>          <td>  -1889.</td>\n",
              "</tr>\n",
              "<tr>\n",
              "  <th>Df Residuals:</th>          <td>  1067</td>      <th>  BIC:               </th>          <td>  -1874.</td>\n",
              "</tr>\n",
              "<tr>\n",
              "  <th>Df Model:</th>              <td>     3</td>      <th>                     </th>              <td> </td>   \n",
              "</tr>\n",
              "<tr>\n",
              "  <th>Covariance Type:</th>      <td>nonrobust</td>    <th>                     </th>              <td> </td>   \n",
              "</tr>\n",
              "</table>\n",
              "<table class=\"simpletable\">\n",
              "<tr>\n",
              "     <td></td>       <th>coef</th>     <th>std err</th>      <th>t</th>      <th>P>|t|</th>  <th>[0.025</th>    <th>0.975]</th>  \n",
              "</tr>\n",
              "<tr>\n",
              "  <th>age</th>    <td>    0.1661</td> <td>    0.009</td> <td>   18.309</td> <td> 0.000</td> <td>    0.148</td> <td>    0.184</td>\n",
              "</tr>\n",
              "<tr>\n",
              "  <th>bmi</th>    <td>    0.1173</td> <td>    0.012</td> <td>    9.835</td> <td> 0.000</td> <td>    0.094</td> <td>    0.141</td>\n",
              "</tr>\n",
              "<tr>\n",
              "  <th>smoker</th> <td>    0.3688</td> <td>    0.007</td> <td>   49.740</td> <td> 0.000</td> <td>    0.354</td> <td>    0.383</td>\n",
              "</tr>\n",
              "</table>\n",
              "<table class=\"simpletable\">\n",
              "<tr>\n",
              "  <th>Omnibus:</th>       <td>269.458</td> <th>  Durbin-Watson:     </th> <td>   1.986</td> \n",
              "</tr>\n",
              "<tr>\n",
              "  <th>Prob(Omnibus):</th> <td> 0.000</td>  <th>  Jarque-Bera (JB):  </th> <td> 660.358</td> \n",
              "</tr>\n",
              "<tr>\n",
              "  <th>Skew:</th>          <td> 1.335</td>  <th>  Prob(JB):          </th> <td>4.03e-144</td>\n",
              "</tr>\n",
              "<tr>\n",
              "  <th>Kurtosis:</th>      <td> 5.772</td>  <th>  Cond. No.          </th> <td>    3.25</td> \n",
              "</tr>\n",
              "</table><br/><br/>Warnings:<br/>[1] Standard Errors assume that the covariance matrix of the errors is correctly specified."
            ],
            "text/plain": [
              "<class 'statsmodels.iolib.summary.Summary'>\n",
              "\"\"\"\n",
              "                                 OLS Regression Results                                \n",
              "=======================================================================================\n",
              "Dep. Variable:                      y   R-squared (uncentered):                   0.865\n",
              "Model:                            OLS   Adj. R-squared (uncentered):              0.864\n",
              "Method:                 Least Squares   F-statistic:                              2276.\n",
              "Date:                Fri, 07 May 2021   Prob (F-statistic):                        0.00\n",
              "Time:                        07:23:03   Log-Likelihood:                          947.58\n",
              "No. Observations:                1070   AIC:                                     -1889.\n",
              "Df Residuals:                    1067   BIC:                                     -1874.\n",
              "Df Model:                           3                                                  \n",
              "Covariance Type:            nonrobust                                                  \n",
              "==============================================================================\n",
              "                 coef    std err          t      P>|t|      [0.025      0.975]\n",
              "------------------------------------------------------------------------------\n",
              "age            0.1661      0.009     18.309      0.000       0.148       0.184\n",
              "bmi            0.1173      0.012      9.835      0.000       0.094       0.141\n",
              "smoker         0.3688      0.007     49.740      0.000       0.354       0.383\n",
              "==============================================================================\n",
              "Omnibus:                      269.458   Durbin-Watson:                   1.986\n",
              "Prob(Omnibus):                  0.000   Jarque-Bera (JB):              660.358\n",
              "Skew:                           1.335   Prob(JB):                    4.03e-144\n",
              "Kurtosis:                       5.772   Cond. No.                         3.25\n",
              "==============================================================================\n",
              "\n",
              "Warnings:\n",
              "[1] Standard Errors assume that the covariance matrix of the errors is correctly specified.\n",
              "\"\"\""
            ]
          },
          "metadata": {
            "tags": []
          },
          "execution_count": 33
        }
      ]
    },
    {
      "cell_type": "code",
      "metadata": {
        "colab": {
          "base_uri": "https://localhost:8080/"
        },
        "id": "WRkF13NvnYUf",
        "outputId": "13c15eaa-4c09-422a-ff76-eeeae305ca67"
      },
      "source": [
        "models = get_models()\n",
        "table=[]\n",
        "# evaluate the models and store results\n",
        "results, names = list(), list()\n",
        "print(\"< Reducing Features to Features Selected by the Feature Selection Algorithms > \\n\")\n",
        "for name, model in models.items():\n",
        "  scores = evaluate_model(model, reduced_train_features, reduced_train_labels, reduced_test_features, reduced_test_labels)\n",
        "  results.append(scores)\n",
        "  names.append(name)\n",
        "  table.append([name, scores[0], scores[1], scores[2], scores[3], scores[4]] )\n",
        "  print('>%s => cross_val_score: %.5f , r2_score_Train: %.5f , MSE_Train: %.5f , r2_score_Test: %.5f , MSE_Test: %.5f' % (name, scores[0], scores[1], scores[2], scores[3], scores[4]))\n",
        "\n",
        "\n",
        "print(\"\\n\")\n",
        "print(tabulate(table, headers=[\"Model\",\"Cross_Val_Score\", \"R2_Score_Train\",\"MSE_Train\",\"R2_Score_Test\",\"MSE_Test\"]))\n",
        "\n",
        ""
      ],
      "execution_count": null,
      "outputs": [
        {
          "output_type": "stream",
          "text": [
            "< Reducing Features to Features Selected by the Feature Selection Algorithms > \n",
            "\n",
            ">rf => cross_val_score: 0.78425 , r2_score_Train: 0.96840 , MSE_Train: 0.00115 , r2_score_Test: 0.85685 , MSE_Test: 0.00580\n",
            ">rf-tuned => cross_val_score: 0.82877 , r2_score_Train: 0.87695 , MSE_Train: 0.00449 , r2_score_Test: 0.88953 , MSE_Test: 0.00448\n",
            ">linear => cross_val_score: 0.71930 , r2_score_Train: 0.73425 , MSE_Train: 0.00971 , r2_score_Test: 0.79455 , MSE_Test: 0.00833\n",
            ">ridge => cross_val_score: 0.71940 , r2_score_Train: 0.73424 , MSE_Train: 0.00971 , r2_score_Test: 0.79434 , MSE_Test: 0.00834\n",
            ">lasso => cross_val_score: 0.71934 , r2_score_Train: 0.73425 , MSE_Train: 0.00971 , r2_score_Test: 0.79446 , MSE_Test: 0.00833\n",
            ">gbr => cross_val_score: 0.82764 , r2_score_Train: 0.89052 , MSE_Train: 0.00400 , r2_score_Test: 0.89073 , MSE_Test: 0.00443\n",
            ">gbr-tuned => cross_val_score: 0.83245 , r2_score_Train: 0.86665 , MSE_Train: 0.00487 , r2_score_Test: 0.89602 , MSE_Test: 0.00422\n",
            "[08:22:53] WARNING: /workspace/src/objective/regression_obj.cu:152: reg:linear is now deprecated in favor of reg:squarederror.\n",
            ">xgb => cross_val_score: 0.83062 , r2_score_Train: 0.88316 , MSE_Train: 0.00427 , r2_score_Test: 0.89393 , MSE_Test: 0.00430\n",
            "[08:22:57] WARNING: /workspace/src/objective/regression_obj.cu:152: reg:linear is now deprecated in favor of reg:squarederror.\n",
            ">xgb-tuned => cross_val_score: 0.83516 , r2_score_Train: 0.86820 , MSE_Train: 0.00481 , r2_score_Test: 0.89435 , MSE_Test: 0.00428\n",
            ">knn => cross_val_score: 0.79075 , r2_score_Train: 0.87060 , MSE_Train: 0.00473 , r2_score_Test: 0.86954 , MSE_Test: 0.00529\n",
            ">svr => cross_val_score: 0.73064 , r2_score_Train: 0.74704 , MSE_Train: 0.00924 , r2_score_Test: 0.79693 , MSE_Test: 0.00823\n",
            ">catboost => cross_val_score: 0.81556 , r2_score_Train: 0.92100 , MSE_Train: 0.00289 , r2_score_Test: 0.88769 , MSE_Test: 0.00455\n",
            ">catboost-tuned => cross_val_score: 0.83659 , r2_score_Train: 0.85952 , MSE_Train: 0.00513 , r2_score_Test: 0.90086 , MSE_Test: 0.00402\n",
            ">adaboost => cross_val_score: 0.79225 , r2_score_Train: 0.80782 , MSE_Train: 0.00702 , r2_score_Test: 0.84672 , MSE_Test: 0.00621\n",
            ">adaboost-tuned => cross_val_score: 0.82526 , r2_score_Train: 0.84986 , MSE_Train: 0.00548 , r2_score_Test: 0.88382 , MSE_Test: 0.00471\n",
            ">stacking => cross_val_score: 0.83788 , r2_score_Train: 0.85242 , MSE_Train: 0.00539 , r2_score_Test: 0.90118 , MSE_Test: 0.00401\n",
            "\n",
            "\n",
            "Model             Cross_Val_Score    R2_Score_Train    MSE_Train    R2_Score_Test    MSE_Test\n",
            "--------------  -----------------  ----------------  -----------  ---------------  ----------\n",
            "rf                       0.784254          0.968398   0.00115435         0.856846  0.00580409\n",
            "rf-tuned                 0.828768          0.87695    0.00449475         0.889525  0.00447913\n",
            "linear                   0.719299          0.734253   0.00970717         0.79455   0.00832982\n",
            "ridge                    0.719404          0.734238   0.00970771         0.794343  0.00833823\n",
            "lasso                    0.719341          0.734248   0.00970735         0.794461  0.00833342\n",
            "gbr                      0.827635          0.890518   0.00399913         0.890733  0.00443016\n",
            "gbr-tuned                0.832451          0.866648   0.00487105         0.896016  0.00421597\n",
            "xgb                      0.830621          0.883161   0.00426788         0.893933  0.00430042\n",
            "xgb-tuned                0.83516           0.868198   0.00481445         0.894346  0.00428365\n",
            "knn                      0.790748          0.870598   0.0047268          0.869545  0.00528922\n",
            "svr                      0.730644          0.747039   0.00924014         0.796931  0.00823331\n",
            "catboost                 0.81556           0.920998   0.00288576         0.887685  0.00455372\n",
            "catboost-tuned           0.836585          0.85952    0.00513143         0.90086   0.00401955\n",
            "adaboost                 0.792249          0.807816   0.00702009         0.846724  0.00621446\n",
            "adaboost-tuned           0.825259          0.849861   0.00548427         0.883818  0.00471054\n",
            "stacking                 0.837877          0.852418   0.00539087         0.901178  0.00400668\n"
          ],
          "name": "stdout"
        }
      ]
    },
    {
      "cell_type": "code",
      "metadata": {
        "colab": {
          "base_uri": "https://localhost:8080/"
        },
        "id": "JwQ4iGyeNDXm",
        "outputId": "15baf452-f7ba-43d9-8f72-3fa37c2a3041"
      },
      "source": [
        "models = get_models()\n",
        "table=[]\n",
        "# evaluate the models and store results\n",
        "results, names = list(), list()\n",
        "print(\"< Reducing Features to Features Selected by the Feature Selection Algorithms > \\n\")\n",
        "for name, model in models.items():\n",
        "  scores = evaluate_model(model, reduced_train_features, reduced_train_labels, reduced_test_features, reduced_test_labels)\n",
        "  results.append(scores)\n",
        "  names.append(name)\n",
        "  table.append([name, scores[0], scores[1], scores[2], scores[3], scores[4]] )\n",
        "  print('>%s => cross_val_score: %.5f , r2_score_Train: %.5f , MSE_Train: %.5f , r2_score_Test: %.5f , MSE_Test: %.5f' % (name, scores[0], scores[1], scores[2], scores[3], scores[4]))\n",
        "\n",
        "\n",
        "print(\"\\n\")\n",
        "print(tabulate(table, headers=[\"Model\",\"Cross_Val_Score\", \"R2_Score_Train\",\"MSE_Train\",\"R2_Score_Test\",\"MSE_Test\"]))\n",
        "\n",
        ""
      ],
      "execution_count": null,
      "outputs": [
        {
          "output_type": "stream",
          "text": [
            "< Reducing Features to Features Selected by the Feature Selection Algorithms > \n",
            "\n",
            ">rf => cross_val_score: 0.78425 , r2_score_Train: 0.96840 , MSE_Train: 0.00115 , r2_score_Test: 0.85685 , MSE_Test: 0.00580\n",
            ">rf-tuned => cross_val_score: 0.82889 , r2_score_Train: 0.87690 , MSE_Train: 0.00450 , r2_score_Test: 0.89016 , MSE_Test: 0.00445\n",
            ">linear => cross_val_score: 0.71930 , r2_score_Train: 0.73425 , MSE_Train: 0.00971 , r2_score_Test: 0.79455 , MSE_Test: 0.00833\n",
            ">ridge => cross_val_score: 0.71940 , r2_score_Train: 0.73424 , MSE_Train: 0.00971 , r2_score_Test: 0.79434 , MSE_Test: 0.00834\n",
            ">lasso => cross_val_score: 0.71934 , r2_score_Train: 0.73425 , MSE_Train: 0.00971 , r2_score_Test: 0.79446 , MSE_Test: 0.00833\n",
            ">gbr => cross_val_score: 0.82792 , r2_score_Train: 0.89052 , MSE_Train: 0.00400 , r2_score_Test: 0.89073 , MSE_Test: 0.00443\n",
            ">gbr-tuned => cross_val_score: 0.83249 , r2_score_Train: 0.86665 , MSE_Train: 0.00487 , r2_score_Test: 0.89602 , MSE_Test: 0.00422\n",
            "[08:24:19] WARNING: /workspace/src/objective/regression_obj.cu:152: reg:linear is now deprecated in favor of reg:squarederror.\n",
            ">xgb => cross_val_score: 0.83062 , r2_score_Train: 0.88316 , MSE_Train: 0.00427 , r2_score_Test: 0.89393 , MSE_Test: 0.00430\n",
            "[08:24:24] WARNING: /workspace/src/objective/regression_obj.cu:152: reg:linear is now deprecated in favor of reg:squarederror.\n",
            ">xgb-tuned => cross_val_score: 0.83516 , r2_score_Train: 0.86820 , MSE_Train: 0.00481 , r2_score_Test: 0.89435 , MSE_Test: 0.00428\n",
            ">knn => cross_val_score: 0.79075 , r2_score_Train: 0.87060 , MSE_Train: 0.00473 , r2_score_Test: 0.86954 , MSE_Test: 0.00529\n",
            ">svr => cross_val_score: 0.73064 , r2_score_Train: 0.74704 , MSE_Train: 0.00924 , r2_score_Test: 0.79693 , MSE_Test: 0.00823\n",
            ">catboost => cross_val_score: 0.81556 , r2_score_Train: 0.92100 , MSE_Train: 0.00289 , r2_score_Test: 0.88769 , MSE_Test: 0.00455\n",
            ">catboost-tuned => cross_val_score: 0.83659 , r2_score_Train: 0.85952 , MSE_Train: 0.00513 , r2_score_Test: 0.90086 , MSE_Test: 0.00402\n",
            ">adaboost => cross_val_score: 0.78689 , r2_score_Train: 0.81433 , MSE_Train: 0.00678 , r2_score_Test: 0.85894 , MSE_Test: 0.00572\n",
            ">adaboost-tuned => cross_val_score: 0.82556 , r2_score_Train: 0.85005 , MSE_Train: 0.00548 , r2_score_Test: 0.88327 , MSE_Test: 0.00473\n",
            ">stacking => cross_val_score: 0.83758 , r2_score_Train: 0.85174 , MSE_Train: 0.00542 , r2_score_Test: 0.90048 , MSE_Test: 0.00404\n",
            "\n",
            "\n",
            "Model             Cross_Val_Score    R2_Score_Train    MSE_Train    R2_Score_Test    MSE_Test\n",
            "--------------  -----------------  ----------------  -----------  ---------------  ----------\n",
            "rf                       0.784254          0.968398   0.00115435         0.856846  0.00580409\n",
            "rf-tuned                 0.828895          0.876901   0.00449656         0.890157  0.00445351\n",
            "linear                   0.719299          0.734253   0.00970717         0.79455   0.00832982\n",
            "ridge                    0.719404          0.734238   0.00970771         0.794343  0.00833823\n",
            "lasso                    0.719341          0.734248   0.00970735         0.794461  0.00833342\n",
            "gbr                      0.827922          0.890518   0.00399913         0.890733  0.00443016\n",
            "gbr-tuned                0.832493          0.866648   0.00487105         0.896016  0.00421597\n",
            "xgb                      0.830621          0.883161   0.00426788         0.893933  0.00430042\n",
            "xgb-tuned                0.83516           0.868198   0.00481445         0.894346  0.00428365\n",
            "knn                      0.790748          0.870598   0.0047268          0.869545  0.00528922\n",
            "svr                      0.730644          0.747039   0.00924014         0.796931  0.00823331\n",
            "catboost                 0.81556           0.920998   0.00288576         0.887685  0.00455372\n",
            "catboost-tuned           0.836585          0.85952    0.00513143         0.90086   0.00401955\n",
            "adaboost                 0.786886          0.814326   0.00678228         0.858937  0.00571928\n",
            "adaboost-tuned           0.825564          0.850047   0.00547747         0.883267  0.00473285\n",
            "stacking                 0.837584          0.851735   0.00541579         0.900475  0.00403516\n"
          ],
          "name": "stdout"
        }
      ]
    },
    {
      "cell_type": "code",
      "metadata": {
        "colab": {
          "base_uri": "https://localhost:8080/"
        },
        "id": "xdq2UCVoNXao",
        "outputId": "5d1ee86c-7171-41f8-a646-869e10c053e3"
      },
      "source": [
        "import keras\n",
        "from keras.models import Sequential\n",
        "from keras.layers import Dense\n",
        "scoresNN =[]\n",
        "classifier = Sequential()\n",
        "\n",
        "# Adding the input layer and the first hidden layer\n",
        "classifier.add(Dense(units = 128, activation = 'relu'))\n",
        "\n",
        "# Adding the second hidden layer\n",
        "classifier.add(Dense(units = 64, activation = 'relu'))\n",
        "\n",
        "classifier.add(Dense(units = 32, activation = 'relu'))\n",
        "\n",
        "classifier.add(Dense(units = 4, activation = 'relu'))\n",
        "\n",
        "# Adding the output layer\n",
        "classifier.add(Dense(units = 1, activation = 'linear'))\n",
        "\n",
        "# Compiling the ANN\n",
        "classifier.compile(loss='mean_absolute_error', optimizer='adam', metrics=['mean_absolute_error'])\n",
        "classifier.fit(x = reduced_train_features, y = reduced_train_labels, batch_size = 16, epochs = 100,validation_split=0.33)\n",
        "rtwoTrain = r2_score(reduced_train_labels, classifier.predict(reduced_train_features))\n",
        "scoresNN.append(rtwoTrain)\n",
        "mseTrain = mean_squared_error(classifier.predict(reduced_train_features),reduced_train_labels)\n",
        "scoresNN.append(mseTrain)\n",
        "rtwo = r2_score(reduced_test_labels, classifier.predict(reduced_test_features))\n",
        "scoresNN.append(rtwo)\n",
        "mse = mean_squared_error(classifier.predict(reduced_test_features),reduced_test_labels)\n",
        "scoresNN.append(mse)\n",
        "print('>Neural Network =>  r2_score_Train: %.5f , MSE_Train: %.5f , r2_score_Test: %.5f , MSE_Test: %.5f' % (scoresNN[0], scoresNN[1], scoresNN[2], scoresNN[3]))"
      ],
      "execution_count": null,
      "outputs": [
        {
          "output_type": "stream",
          "text": [
            "Epoch 1/100\n",
            "45/45 [==============================] - 1s 6ms/step - loss: 0.0954 - mean_absolute_error: 0.0954 - val_loss: 0.0570 - val_mean_absolute_error: 0.0570\n",
            "Epoch 2/100\n",
            "45/45 [==============================] - 0s 3ms/step - loss: 0.0450 - mean_absolute_error: 0.0450 - val_loss: 0.0472 - val_mean_absolute_error: 0.0472\n",
            "Epoch 3/100\n",
            "45/45 [==============================] - 0s 2ms/step - loss: 0.0417 - mean_absolute_error: 0.0417 - val_loss: 0.0445 - val_mean_absolute_error: 0.0445\n",
            "Epoch 4/100\n",
            "45/45 [==============================] - 0s 2ms/step - loss: 0.0352 - mean_absolute_error: 0.0352 - val_loss: 0.0449 - val_mean_absolute_error: 0.0449\n",
            "Epoch 5/100\n",
            "45/45 [==============================] - 0s 3ms/step - loss: 0.0353 - mean_absolute_error: 0.0353 - val_loss: 0.0448 - val_mean_absolute_error: 0.0448\n",
            "Epoch 6/100\n",
            "45/45 [==============================] - 0s 3ms/step - loss: 0.0343 - mean_absolute_error: 0.0343 - val_loss: 0.0461 - val_mean_absolute_error: 0.0461\n",
            "Epoch 7/100\n",
            "45/45 [==============================] - 0s 2ms/step - loss: 0.0415 - mean_absolute_error: 0.0415 - val_loss: 0.0452 - val_mean_absolute_error: 0.0452\n",
            "Epoch 8/100\n",
            "45/45 [==============================] - 0s 3ms/step - loss: 0.0369 - mean_absolute_error: 0.0369 - val_loss: 0.0428 - val_mean_absolute_error: 0.0428\n",
            "Epoch 9/100\n",
            "45/45 [==============================] - 0s 2ms/step - loss: 0.0332 - mean_absolute_error: 0.0332 - val_loss: 0.0518 - val_mean_absolute_error: 0.0518\n",
            "Epoch 10/100\n",
            "45/45 [==============================] - 0s 2ms/step - loss: 0.0363 - mean_absolute_error: 0.0363 - val_loss: 0.0413 - val_mean_absolute_error: 0.0413\n",
            "Epoch 11/100\n",
            "45/45 [==============================] - 0s 2ms/step - loss: 0.0321 - mean_absolute_error: 0.0321 - val_loss: 0.0458 - val_mean_absolute_error: 0.0458\n",
            "Epoch 12/100\n",
            "45/45 [==============================] - 0s 2ms/step - loss: 0.0392 - mean_absolute_error: 0.0392 - val_loss: 0.0413 - val_mean_absolute_error: 0.0413\n",
            "Epoch 13/100\n",
            "45/45 [==============================] - 0s 2ms/step - loss: 0.0295 - mean_absolute_error: 0.0295 - val_loss: 0.0422 - val_mean_absolute_error: 0.0422\n",
            "Epoch 14/100\n",
            "45/45 [==============================] - 0s 3ms/step - loss: 0.0327 - mean_absolute_error: 0.0327 - val_loss: 0.0410 - val_mean_absolute_error: 0.0410\n",
            "Epoch 15/100\n",
            "45/45 [==============================] - 0s 3ms/step - loss: 0.0351 - mean_absolute_error: 0.0351 - val_loss: 0.0439 - val_mean_absolute_error: 0.0439\n",
            "Epoch 16/100\n",
            "45/45 [==============================] - 0s 3ms/step - loss: 0.0332 - mean_absolute_error: 0.0332 - val_loss: 0.0460 - val_mean_absolute_error: 0.0460\n",
            "Epoch 17/100\n",
            "45/45 [==============================] - 0s 3ms/step - loss: 0.0302 - mean_absolute_error: 0.0302 - val_loss: 0.0421 - val_mean_absolute_error: 0.0421\n",
            "Epoch 18/100\n",
            "45/45 [==============================] - 0s 2ms/step - loss: 0.0348 - mean_absolute_error: 0.0348 - val_loss: 0.0397 - val_mean_absolute_error: 0.0397\n",
            "Epoch 19/100\n",
            "45/45 [==============================] - 0s 2ms/step - loss: 0.0316 - mean_absolute_error: 0.0316 - val_loss: 0.0441 - val_mean_absolute_error: 0.0441\n",
            "Epoch 20/100\n",
            "45/45 [==============================] - 0s 2ms/step - loss: 0.0330 - mean_absolute_error: 0.0330 - val_loss: 0.0430 - val_mean_absolute_error: 0.0430\n",
            "Epoch 21/100\n",
            "45/45 [==============================] - 0s 3ms/step - loss: 0.0382 - mean_absolute_error: 0.0382 - val_loss: 0.0406 - val_mean_absolute_error: 0.0406\n",
            "Epoch 22/100\n",
            "45/45 [==============================] - 0s 3ms/step - loss: 0.0340 - mean_absolute_error: 0.0340 - val_loss: 0.0385 - val_mean_absolute_error: 0.0385\n",
            "Epoch 23/100\n",
            "45/45 [==============================] - 0s 3ms/step - loss: 0.0324 - mean_absolute_error: 0.0324 - val_loss: 0.0403 - val_mean_absolute_error: 0.0403\n",
            "Epoch 24/100\n",
            "45/45 [==============================] - 0s 3ms/step - loss: 0.0288 - mean_absolute_error: 0.0288 - val_loss: 0.0381 - val_mean_absolute_error: 0.0381\n",
            "Epoch 25/100\n",
            "45/45 [==============================] - 0s 3ms/step - loss: 0.0313 - mean_absolute_error: 0.0313 - val_loss: 0.0390 - val_mean_absolute_error: 0.0390\n",
            "Epoch 26/100\n",
            "45/45 [==============================] - 0s 3ms/step - loss: 0.0311 - mean_absolute_error: 0.0311 - val_loss: 0.0392 - val_mean_absolute_error: 0.0392\n",
            "Epoch 27/100\n",
            "45/45 [==============================] - 0s 2ms/step - loss: 0.0339 - mean_absolute_error: 0.0339 - val_loss: 0.0426 - val_mean_absolute_error: 0.0426\n",
            "Epoch 28/100\n",
            "45/45 [==============================] - 0s 2ms/step - loss: 0.0305 - mean_absolute_error: 0.0305 - val_loss: 0.0386 - val_mean_absolute_error: 0.0386\n",
            "Epoch 29/100\n",
            "45/45 [==============================] - 0s 3ms/step - loss: 0.0341 - mean_absolute_error: 0.0341 - val_loss: 0.0435 - val_mean_absolute_error: 0.0435\n",
            "Epoch 30/100\n",
            "45/45 [==============================] - 0s 2ms/step - loss: 0.0337 - mean_absolute_error: 0.0337 - val_loss: 0.0374 - val_mean_absolute_error: 0.0374\n",
            "Epoch 31/100\n",
            "45/45 [==============================] - 0s 3ms/step - loss: 0.0300 - mean_absolute_error: 0.0300 - val_loss: 0.0381 - val_mean_absolute_error: 0.0381\n",
            "Epoch 32/100\n",
            "45/45 [==============================] - 0s 3ms/step - loss: 0.0310 - mean_absolute_error: 0.0310 - val_loss: 0.0378 - val_mean_absolute_error: 0.0378\n",
            "Epoch 33/100\n",
            "45/45 [==============================] - 0s 2ms/step - loss: 0.0286 - mean_absolute_error: 0.0286 - val_loss: 0.0378 - val_mean_absolute_error: 0.0378\n",
            "Epoch 34/100\n",
            "45/45 [==============================] - 0s 3ms/step - loss: 0.0293 - mean_absolute_error: 0.0293 - val_loss: 0.0424 - val_mean_absolute_error: 0.0424\n",
            "Epoch 35/100\n",
            "45/45 [==============================] - 0s 3ms/step - loss: 0.0304 - mean_absolute_error: 0.0304 - val_loss: 0.0449 - val_mean_absolute_error: 0.0449\n",
            "Epoch 36/100\n",
            "45/45 [==============================] - 0s 3ms/step - loss: 0.0310 - mean_absolute_error: 0.0310 - val_loss: 0.0392 - val_mean_absolute_error: 0.0392\n",
            "Epoch 37/100\n",
            "45/45 [==============================] - 0s 3ms/step - loss: 0.0307 - mean_absolute_error: 0.0307 - val_loss: 0.0389 - val_mean_absolute_error: 0.0389\n",
            "Epoch 38/100\n",
            "45/45 [==============================] - 0s 3ms/step - loss: 0.0312 - mean_absolute_error: 0.0312 - val_loss: 0.0419 - val_mean_absolute_error: 0.0419\n",
            "Epoch 39/100\n",
            "45/45 [==============================] - 0s 3ms/step - loss: 0.0293 - mean_absolute_error: 0.0293 - val_loss: 0.0383 - val_mean_absolute_error: 0.0383\n",
            "Epoch 40/100\n",
            "45/45 [==============================] - 0s 3ms/step - loss: 0.0301 - mean_absolute_error: 0.0301 - val_loss: 0.0418 - val_mean_absolute_error: 0.0418\n",
            "Epoch 41/100\n",
            "45/45 [==============================] - 0s 3ms/step - loss: 0.0283 - mean_absolute_error: 0.0283 - val_loss: 0.0472 - val_mean_absolute_error: 0.0472\n",
            "Epoch 42/100\n",
            "45/45 [==============================] - 0s 3ms/step - loss: 0.0335 - mean_absolute_error: 0.0335 - val_loss: 0.0380 - val_mean_absolute_error: 0.0380\n",
            "Epoch 43/100\n",
            "45/45 [==============================] - 0s 2ms/step - loss: 0.0302 - mean_absolute_error: 0.0302 - val_loss: 0.0382 - val_mean_absolute_error: 0.0382\n",
            "Epoch 44/100\n",
            "45/45 [==============================] - 0s 3ms/step - loss: 0.0303 - mean_absolute_error: 0.0303 - val_loss: 0.0375 - val_mean_absolute_error: 0.0375\n",
            "Epoch 45/100\n",
            "45/45 [==============================] - 0s 2ms/step - loss: 0.0331 - mean_absolute_error: 0.0331 - val_loss: 0.0423 - val_mean_absolute_error: 0.0423\n",
            "Epoch 46/100\n",
            "45/45 [==============================] - 0s 3ms/step - loss: 0.0291 - mean_absolute_error: 0.0291 - val_loss: 0.0373 - val_mean_absolute_error: 0.0373\n",
            "Epoch 47/100\n",
            "45/45 [==============================] - 0s 3ms/step - loss: 0.0309 - mean_absolute_error: 0.0309 - val_loss: 0.0370 - val_mean_absolute_error: 0.0370\n",
            "Epoch 48/100\n",
            "45/45 [==============================] - 0s 2ms/step - loss: 0.0301 - mean_absolute_error: 0.0301 - val_loss: 0.0372 - val_mean_absolute_error: 0.0372\n",
            "Epoch 49/100\n",
            "45/45 [==============================] - 0s 3ms/step - loss: 0.0326 - mean_absolute_error: 0.0326 - val_loss: 0.0384 - val_mean_absolute_error: 0.0384\n",
            "Epoch 50/100\n",
            "45/45 [==============================] - 0s 3ms/step - loss: 0.0333 - mean_absolute_error: 0.0333 - val_loss: 0.0415 - val_mean_absolute_error: 0.0415\n",
            "Epoch 51/100\n",
            "45/45 [==============================] - 0s 3ms/step - loss: 0.0301 - mean_absolute_error: 0.0301 - val_loss: 0.0375 - val_mean_absolute_error: 0.0375\n",
            "Epoch 52/100\n",
            "45/45 [==============================] - 0s 3ms/step - loss: 0.0304 - mean_absolute_error: 0.0304 - val_loss: 0.0426 - val_mean_absolute_error: 0.0426\n",
            "Epoch 53/100\n",
            "45/45 [==============================] - 0s 2ms/step - loss: 0.0318 - mean_absolute_error: 0.0318 - val_loss: 0.0397 - val_mean_absolute_error: 0.0397\n",
            "Epoch 54/100\n",
            "45/45 [==============================] - 0s 3ms/step - loss: 0.0280 - mean_absolute_error: 0.0280 - val_loss: 0.0366 - val_mean_absolute_error: 0.0366\n",
            "Epoch 55/100\n",
            "45/45 [==============================] - 0s 3ms/step - loss: 0.0326 - mean_absolute_error: 0.0326 - val_loss: 0.0389 - val_mean_absolute_error: 0.0389\n",
            "Epoch 56/100\n",
            "45/45 [==============================] - 0s 3ms/step - loss: 0.0303 - mean_absolute_error: 0.0303 - val_loss: 0.0375 - val_mean_absolute_error: 0.0375\n",
            "Epoch 57/100\n",
            "45/45 [==============================] - 0s 2ms/step - loss: 0.0307 - mean_absolute_error: 0.0307 - val_loss: 0.0412 - val_mean_absolute_error: 0.0412\n",
            "Epoch 58/100\n",
            "45/45 [==============================] - 0s 3ms/step - loss: 0.0321 - mean_absolute_error: 0.0321 - val_loss: 0.0433 - val_mean_absolute_error: 0.0433\n",
            "Epoch 59/100\n",
            "45/45 [==============================] - 0s 3ms/step - loss: 0.0303 - mean_absolute_error: 0.0303 - val_loss: 0.0387 - val_mean_absolute_error: 0.0387\n",
            "Epoch 60/100\n",
            "45/45 [==============================] - 0s 2ms/step - loss: 0.0342 - mean_absolute_error: 0.0342 - val_loss: 0.0370 - val_mean_absolute_error: 0.0370\n",
            "Epoch 61/100\n",
            "45/45 [==============================] - 0s 3ms/step - loss: 0.0276 - mean_absolute_error: 0.0276 - val_loss: 0.0401 - val_mean_absolute_error: 0.0401\n",
            "Epoch 62/100\n",
            "45/45 [==============================] - 0s 3ms/step - loss: 0.0300 - mean_absolute_error: 0.0300 - val_loss: 0.0390 - val_mean_absolute_error: 0.0390\n",
            "Epoch 63/100\n",
            "45/45 [==============================] - 0s 3ms/step - loss: 0.0303 - mean_absolute_error: 0.0303 - val_loss: 0.0376 - val_mean_absolute_error: 0.0376\n",
            "Epoch 64/100\n",
            "45/45 [==============================] - 0s 3ms/step - loss: 0.0287 - mean_absolute_error: 0.0287 - val_loss: 0.0384 - val_mean_absolute_error: 0.0384\n",
            "Epoch 65/100\n",
            "45/45 [==============================] - 0s 2ms/step - loss: 0.0287 - mean_absolute_error: 0.0287 - val_loss: 0.0397 - val_mean_absolute_error: 0.0397\n",
            "Epoch 66/100\n",
            "45/45 [==============================] - 0s 3ms/step - loss: 0.0253 - mean_absolute_error: 0.0253 - val_loss: 0.0377 - val_mean_absolute_error: 0.0377\n",
            "Epoch 67/100\n",
            "45/45 [==============================] - 0s 3ms/step - loss: 0.0288 - mean_absolute_error: 0.0288 - val_loss: 0.0380 - val_mean_absolute_error: 0.0380\n",
            "Epoch 68/100\n",
            "45/45 [==============================] - 0s 2ms/step - loss: 0.0309 - mean_absolute_error: 0.0309 - val_loss: 0.0402 - val_mean_absolute_error: 0.0402\n",
            "Epoch 69/100\n",
            "45/45 [==============================] - 0s 2ms/step - loss: 0.0301 - mean_absolute_error: 0.0301 - val_loss: 0.0378 - val_mean_absolute_error: 0.0378\n",
            "Epoch 70/100\n",
            "45/45 [==============================] - 0s 2ms/step - loss: 0.0316 - mean_absolute_error: 0.0316 - val_loss: 0.0384 - val_mean_absolute_error: 0.0384\n",
            "Epoch 71/100\n",
            "45/45 [==============================] - 0s 3ms/step - loss: 0.0264 - mean_absolute_error: 0.0264 - val_loss: 0.0387 - val_mean_absolute_error: 0.0387\n",
            "Epoch 72/100\n",
            "45/45 [==============================] - 0s 3ms/step - loss: 0.0297 - mean_absolute_error: 0.0297 - val_loss: 0.0368 - val_mean_absolute_error: 0.0368\n",
            "Epoch 73/100\n",
            "45/45 [==============================] - 0s 2ms/step - loss: 0.0264 - mean_absolute_error: 0.0264 - val_loss: 0.0374 - val_mean_absolute_error: 0.0374\n",
            "Epoch 74/100\n",
            "45/45 [==============================] - 0s 3ms/step - loss: 0.0330 - mean_absolute_error: 0.0330 - val_loss: 0.0390 - val_mean_absolute_error: 0.0390\n",
            "Epoch 75/100\n",
            "45/45 [==============================] - 0s 2ms/step - loss: 0.0284 - mean_absolute_error: 0.0284 - val_loss: 0.0387 - val_mean_absolute_error: 0.0387\n",
            "Epoch 76/100\n",
            "45/45 [==============================] - 0s 2ms/step - loss: 0.0283 - mean_absolute_error: 0.0283 - val_loss: 0.0387 - val_mean_absolute_error: 0.0387\n",
            "Epoch 77/100\n",
            "45/45 [==============================] - 0s 2ms/step - loss: 0.0296 - mean_absolute_error: 0.0296 - val_loss: 0.0448 - val_mean_absolute_error: 0.0448\n",
            "Epoch 78/100\n",
            "45/45 [==============================] - 0s 3ms/step - loss: 0.0339 - mean_absolute_error: 0.0339 - val_loss: 0.0361 - val_mean_absolute_error: 0.0361\n",
            "Epoch 79/100\n",
            "45/45 [==============================] - 0s 3ms/step - loss: 0.0258 - mean_absolute_error: 0.0258 - val_loss: 0.0365 - val_mean_absolute_error: 0.0365\n",
            "Epoch 80/100\n",
            "45/45 [==============================] - 0s 3ms/step - loss: 0.0244 - mean_absolute_error: 0.0244 - val_loss: 0.0373 - val_mean_absolute_error: 0.0373\n",
            "Epoch 81/100\n",
            "45/45 [==============================] - 0s 3ms/step - loss: 0.0281 - mean_absolute_error: 0.0281 - val_loss: 0.0424 - val_mean_absolute_error: 0.0424\n",
            "Epoch 82/100\n",
            "45/45 [==============================] - 0s 3ms/step - loss: 0.0311 - mean_absolute_error: 0.0311 - val_loss: 0.0372 - val_mean_absolute_error: 0.0372\n",
            "Epoch 83/100\n",
            "45/45 [==============================] - 0s 2ms/step - loss: 0.0313 - mean_absolute_error: 0.0313 - val_loss: 0.0383 - val_mean_absolute_error: 0.0383\n",
            "Epoch 84/100\n",
            "45/45 [==============================] - 0s 2ms/step - loss: 0.0336 - mean_absolute_error: 0.0336 - val_loss: 0.0392 - val_mean_absolute_error: 0.0392\n",
            "Epoch 85/100\n",
            "45/45 [==============================] - 0s 3ms/step - loss: 0.0324 - mean_absolute_error: 0.0324 - val_loss: 0.0402 - val_mean_absolute_error: 0.0402\n",
            "Epoch 86/100\n",
            "45/45 [==============================] - 0s 2ms/step - loss: 0.0309 - mean_absolute_error: 0.0309 - val_loss: 0.0368 - val_mean_absolute_error: 0.0368\n",
            "Epoch 87/100\n",
            "45/45 [==============================] - 0s 3ms/step - loss: 0.0263 - mean_absolute_error: 0.0263 - val_loss: 0.0366 - val_mean_absolute_error: 0.0366\n",
            "Epoch 88/100\n",
            "45/45 [==============================] - 0s 3ms/step - loss: 0.0286 - mean_absolute_error: 0.0286 - val_loss: 0.0374 - val_mean_absolute_error: 0.0374\n",
            "Epoch 89/100\n",
            "45/45 [==============================] - 0s 3ms/step - loss: 0.0324 - mean_absolute_error: 0.0324 - val_loss: 0.0426 - val_mean_absolute_error: 0.0426\n",
            "Epoch 90/100\n",
            "45/45 [==============================] - 0s 3ms/step - loss: 0.0303 - mean_absolute_error: 0.0303 - val_loss: 0.0382 - val_mean_absolute_error: 0.0382\n",
            "Epoch 91/100\n",
            "45/45 [==============================] - 0s 3ms/step - loss: 0.0296 - mean_absolute_error: 0.0296 - val_loss: 0.0382 - val_mean_absolute_error: 0.0382\n",
            "Epoch 92/100\n",
            "45/45 [==============================] - 0s 3ms/step - loss: 0.0297 - mean_absolute_error: 0.0297 - val_loss: 0.0413 - val_mean_absolute_error: 0.0413\n",
            "Epoch 93/100\n",
            "45/45 [==============================] - 0s 2ms/step - loss: 0.0305 - mean_absolute_error: 0.0305 - val_loss: 0.0379 - val_mean_absolute_error: 0.0379\n",
            "Epoch 94/100\n",
            "45/45 [==============================] - 0s 2ms/step - loss: 0.0266 - mean_absolute_error: 0.0266 - val_loss: 0.0390 - val_mean_absolute_error: 0.0390\n",
            "Epoch 95/100\n",
            "45/45 [==============================] - 0s 3ms/step - loss: 0.0309 - mean_absolute_error: 0.0309 - val_loss: 0.0366 - val_mean_absolute_error: 0.0366\n",
            "Epoch 96/100\n",
            "45/45 [==============================] - 0s 3ms/step - loss: 0.0262 - mean_absolute_error: 0.0262 - val_loss: 0.0412 - val_mean_absolute_error: 0.0412\n",
            "Epoch 97/100\n",
            "45/45 [==============================] - 0s 3ms/step - loss: 0.0327 - mean_absolute_error: 0.0327 - val_loss: 0.0366 - val_mean_absolute_error: 0.0366\n",
            "Epoch 98/100\n",
            "45/45 [==============================] - 0s 3ms/step - loss: 0.0248 - mean_absolute_error: 0.0248 - val_loss: 0.0371 - val_mean_absolute_error: 0.0371\n",
            "Epoch 99/100\n",
            "45/45 [==============================] - 0s 3ms/step - loss: 0.0270 - mean_absolute_error: 0.0270 - val_loss: 0.0381 - val_mean_absolute_error: 0.0381\n",
            "Epoch 100/100\n",
            "45/45 [==============================] - 0s 3ms/step - loss: 0.0338 - mean_absolute_error: 0.0338 - val_loss: 0.0368 - val_mean_absolute_error: 0.0368\n",
            ">Neural Network =>  r2_score_Train: 0.83469 , MSE_Train: 0.00604 , r2_score_Test: 0.88772 , MSE_Test: 0.00455\n"
          ],
          "name": "stdout"
        }
      ]
    },
    {
      "cell_type": "code",
      "metadata": {
        "colab": {
          "base_uri": "https://localhost:8080/"
        },
        "id": "NeG5ReqhPqjz",
        "outputId": "53599cd1-98bd-4ea2-a52b-ed610c80625d"
      },
      "source": [
        "# poly-degree:2\n",
        "poly_features = PolynomialFeatures(degree=2)\n",
        "X_poly = poly_features.fit_transform(reduced_train_features)\n",
        "poly = LinearRegression()\n",
        "polyScore =[]\n",
        "cv = RepeatedKFold(n_splits=10, n_repeats=3, random_state=1)\n",
        "crossRes = cross_val_score(poly, reduced_train_features, reduced_train_labels, scoring='r2', cv=cv, n_jobs=-1, error_score='raise')\n",
        "polyScore.append(mean(crossRes))\n",
        "poly.fit(X_poly, reduced_train_labels)\n",
        "X_poly_test = poly_features.fit_transform(reduced_test_features)\n",
        "rtwo_Train = r2_score(reduced_train_labels, poly.predict(X_poly))\n",
        "polyScore.append(rtwo_Train)\n",
        "mse_Train = mean_squared_error(poly.predict(X_poly),reduced_train_labels)\n",
        "polyScore.append(mse_Train)\n",
        "rtwo = r2_score(reduced_test_labels, poly.predict(X_poly_test))\n",
        "polyScore.append(rtwo)\n",
        "mse = mean_squared_error(poly.predict(X_poly_test),reduced_test_labels)\n",
        "polyScore.append(mse)\n",
        "print('>polynomial-degree2 => cross_val_score: %.5f , r2_score_Train: %.5f , MSE_Train: %.5f , r2_score_Test: %.5f , MSE_Test: %.5f' % (polyScore[0], polyScore[1], polyScore[2] , polyScore[3], polyScore[4],))"
      ],
      "execution_count": null,
      "outputs": [
        {
          "output_type": "stream",
          "text": [
            ">polynomial-degree2 => cross_val_score: 0.71930 , r2_score_Train: 0.82799 , MSE_Train: 0.00628 , r2_score_Test: 0.87733 , MSE_Test: 0.00497\n"
          ],
          "name": "stdout"
        }
      ]
    },
    {
      "cell_type": "markdown",
      "metadata": {
        "id": "K5uOimlRQxN4"
      },
      "source": [
        "**Conclusion:**\n",
        "\n",
        "> The impact of Reducing Features on the results is not noticible\n",
        "\n",
        "However,\n",
        "\n",
        ">It reduces the computation cost\n",
        "\n",
        "So it is a wise choice !"
      ]
    },
    {
      "cell_type": "code",
      "metadata": {
        "id": "srC3UFmoqaAl"
      },
      "source": [],
      "execution_count": null,
      "outputs": []
    }
  ]
}